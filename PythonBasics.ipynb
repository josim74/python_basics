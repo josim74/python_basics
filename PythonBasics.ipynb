{
 "cells": [
  {
   "cell_type": "markdown",
   "metadata": {
    "colab_type": "text",
    "id": "EiVGMMppFKAb"
   },
   "source": [
    "#Basic Syntax"
   ]
  },
  {
   "cell_type": "markdown",
   "metadata": {
    "colab_type": "text",
    "id": "Tv54diuAFqCX"
   },
   "source": [
    "**Define Function**"
   ]
  },
  {
   "cell_type": "code",
   "execution_count": 2,
   "metadata": {
    "colab": {
     "base_uri": "https://localhost:8080/",
     "height": 35
    },
    "colab_type": "code",
    "executionInfo": {
     "elapsed": 1113,
     "status": "ok",
     "timestamp": 1558705484471,
     "user": {
      "displayName": "Md. Josim Uddin",
      "photoUrl": "https://lh6.googleusercontent.com/-2M7C8k0AC7o/AAAAAAAAAAI/AAAAAAAADao/mZMp7-uOgNk/s64/photo.jpg",
      "userId": "09483004877373085284"
     },
     "user_tz": -360
    },
    "id": "2Hcdg5eqFYCk",
    "outputId": "4812ebb0-3947-4017-feaf-931180b6b9fd"
   },
   "outputs": [
    {
     "name": "stdout",
     "output_type": "stream",
     "text": [
      "30\n"
     ]
    }
   ],
   "source": [
    "# multiply with function\n",
    "def multiply(x, y):\n",
    "    z = x * y\n",
    "    return z\n",
    "print(multiply(5, 6))"
   ]
  },
  {
   "cell_type": "markdown",
   "metadata": {
    "colab_type": "text",
    "id": "Sp3FwsqQFwLZ"
   },
   "source": [
    "**Find the data type**"
   ]
  },
  {
   "cell_type": "code",
   "execution_count": 3,
   "metadata": {
    "colab": {
     "base_uri": "https://localhost:8080/",
     "height": 35
    },
    "colab_type": "code",
    "executionInfo": {
     "elapsed": 1009,
     "status": "ok",
     "timestamp": 1558705560173,
     "user": {
      "displayName": "Md. Josim Uddin",
      "photoUrl": "https://lh6.googleusercontent.com/-2M7C8k0AC7o/AAAAAAAAAAI/AAAAAAAADao/mZMp7-uOgNk/s64/photo.jpg",
      "userId": "09483004877373085284"
     },
     "user_tz": -360
    },
    "id": "sFqUFJpuFhZ7",
    "outputId": "13fc7cd7-9177-489d-e397-a72cb67cdb76"
   },
   "outputs": [
    {
     "data": {
      "text/plain": [
       "NoneType"
      ]
     },
     "execution_count": 3,
     "metadata": {},
     "output_type": "execute_result"
    }
   ],
   "source": [
    "#type(multiply)\n",
    "#type(1.2)\n",
    "#type(\"Hello World!\")\n",
    "#type(3)\n",
    "type(None)"
   ]
  },
  {
   "cell_type": "markdown",
   "metadata": {
    "colab_type": "text",
    "id": "z_QB0hDrF7Ua"
   },
   "source": [
    "**Tuple:** An immutable data structure which cannot be altered unlike list"
   ]
  },
  {
   "cell_type": "code",
   "execution_count": 4,
   "metadata": {
    "colab": {
     "base_uri": "https://localhost:8080/",
     "height": 35
    },
    "colab_type": "code",
    "executionInfo": {
     "elapsed": 925,
     "status": "ok",
     "timestamp": 1558705641614,
     "user": {
      "displayName": "Md. Josim Uddin",
      "photoUrl": "https://lh6.googleusercontent.com/-2M7C8k0AC7o/AAAAAAAAAAI/AAAAAAAADao/mZMp7-uOgNk/s64/photo.jpg",
      "userId": "09483004877373085284"
     },
     "user_tz": -360
    },
    "id": "mzvCTeuMF1Yu",
    "outputId": "81138bda-ad7e-43cd-b0e5-e84d31307863"
   },
   "outputs": [
    {
     "name": "stdout",
     "output_type": "stream",
     "text": [
      "(1, 2, 3, 4, 5)\n"
     ]
    }
   ],
   "source": [
    "a = (1, 2, 3, 4, 5)\n",
    "print(a)"
   ]
  },
  {
   "cell_type": "markdown",
   "metadata": {
    "colab_type": "text",
    "id": "Q4bgfkl9GQYj"
   },
   "source": [
    "**List:** Mutable data structure."
   ]
  },
  {
   "cell_type": "code",
   "execution_count": 5,
   "metadata": {
    "colab": {
     "base_uri": "https://localhost:8080/",
     "height": 126
    },
    "colab_type": "code",
    "executionInfo": {
     "elapsed": 992,
     "status": "ok",
     "timestamp": 1558705761670,
     "user": {
      "displayName": "Md. Josim Uddin",
      "photoUrl": "https://lh6.googleusercontent.com/-2M7C8k0AC7o/AAAAAAAAAAI/AAAAAAAADao/mZMp7-uOgNk/s64/photo.jpg",
      "userId": "09483004877373085284"
     },
     "user_tz": -360
    },
    "id": "Lem8CiglGJSx",
    "outputId": "8d2bc24f-3939-4a72-beaf-4a612ca1e7d5"
   },
   "outputs": [
    {
     "name": "stdout",
     "output_type": "stream",
     "text": [
      "1\n",
      "2\n",
      "3\n",
      "5\n",
      "6\n",
      "4\n"
     ]
    }
   ],
   "source": [
    "b = [1, 2, 3, 5, 6]\n",
    "b.append(4)\n",
    "for number in b:\n",
    "    print(number)"
   ]
  },
  {
   "cell_type": "markdown",
   "metadata": {
    "colab_type": "text",
    "id": "BV2FtJNCGweU"
   },
   "source": [
    "**List concatenate**"
   ]
  },
  {
   "cell_type": "code",
   "execution_count": 6,
   "metadata": {
    "colab": {
     "base_uri": "https://localhost:8080/",
     "height": 35
    },
    "colab_type": "code",
    "executionInfo": {
     "elapsed": 961,
     "status": "ok",
     "timestamp": 1558705823564,
     "user": {
      "displayName": "Md. Josim Uddin",
      "photoUrl": "https://lh6.googleusercontent.com/-2M7C8k0AC7o/AAAAAAAAAAI/AAAAAAAADao/mZMp7-uOgNk/s64/photo.jpg",
      "userId": "09483004877373085284"
     },
     "user_tz": -360
    },
    "id": "51VbNM5nGmk_",
    "outputId": "2088948b-e4d2-43cf-a983-e88870ab87e1"
   },
   "outputs": [
    {
     "name": "stdout",
     "output_type": "stream",
     "text": [
      "[1, 2, 3, 5, 6, 4, 9, 'abc', 'bcd', 'cde']\n"
     ]
    }
   ],
   "source": [
    "strList = [9, 'abc', 'bcd', 'cde']\n",
    "b+strList\n",
    "print(b+strList)"
   ]
  },
  {
   "cell_type": "markdown",
   "metadata": {
    "colab_type": "text",
    "id": "A7Oz5wUYHEAb"
   },
   "source": [
    "**Repeat List with multiplication**"
   ]
  },
  {
   "cell_type": "code",
   "execution_count": 7,
   "metadata": {
    "colab": {
     "base_uri": "https://localhost:8080/",
     "height": 35
    },
    "colab_type": "code",
    "executionInfo": {
     "elapsed": 916,
     "status": "ok",
     "timestamp": 1558705895369,
     "user": {
      "displayName": "Md. Josim Uddin",
      "photoUrl": "https://lh6.googleusercontent.com/-2M7C8k0AC7o/AAAAAAAAAAI/AAAAAAAADao/mZMp7-uOgNk/s64/photo.jpg",
      "userId": "09483004877373085284"
     },
     "user_tz": -360
    },
    "id": "42N2C7YoGvK4",
    "outputId": "ce05ac73-0ce6-421d-8c20-5d33611225b0"
   },
   "outputs": [
    {
     "data": {
      "text/plain": [
       "[9, 'abc', 'bcd', 'cde', 9, 'abc', 'bcd', 'cde', 9, 'abc', 'bcd', 'cde']"
      ]
     },
     "execution_count": 7,
     "metadata": {},
     "output_type": "execute_result"
    }
   ],
   "source": [
    "strList * 3"
   ]
  },
  {
   "cell_type": "markdown",
   "metadata": {
    "colab_type": "text",
    "id": "Bo-JlkmZHMHV"
   },
   "source": [
    "**Search in a List**"
   ]
  },
  {
   "cell_type": "code",
   "execution_count": 8,
   "metadata": {
    "colab": {
     "base_uri": "https://localhost:8080/",
     "height": 35
    },
    "colab_type": "code",
    "executionInfo": {
     "elapsed": 920,
     "status": "ok",
     "timestamp": 1558705934230,
     "user": {
      "displayName": "Md. Josim Uddin",
      "photoUrl": "https://lh6.googleusercontent.com/-2M7C8k0AC7o/AAAAAAAAAAI/AAAAAAAADao/mZMp7-uOgNk/s64/photo.jpg",
      "userId": "09483004877373085284"
     },
     "user_tz": -360
    },
    "id": "jT3U9y_iHHPp",
    "outputId": "dba733b0-49d5-4329-93df-b87aa95c2db4"
   },
   "outputs": [
    {
     "data": {
      "text/plain": [
       "True"
      ]
     },
     "execution_count": 8,
     "metadata": {},
     "output_type": "execute_result"
    }
   ],
   "source": [
    "9 in strList"
   ]
  },
  {
   "cell_type": "markdown",
   "metadata": {
    "colab_type": "text",
    "id": "FNUmGI-QHiJE"
   },
   "source": [
    "**Un pack list into saperate varialbe**"
   ]
  },
  {
   "cell_type": "code",
   "execution_count": 9,
   "metadata": {
    "colab": {
     "base_uri": "https://localhost:8080/",
     "height": 90
    },
    "colab_type": "code",
    "executionInfo": {
     "elapsed": 1059,
     "status": "ok",
     "timestamp": 1558706022400,
     "user": {
      "displayName": "Md. Josim Uddin",
      "photoUrl": "https://lh6.googleusercontent.com/-2M7C8k0AC7o/AAAAAAAAAAI/AAAAAAAADao/mZMp7-uOgNk/s64/photo.jpg",
      "userId": "09483004877373085284"
     },
     "user_tz": -360
    },
    "id": "iqoSjHHdHQu0",
    "outputId": "69ef2831-e7e0-4607-fb31-1ffcec9eb073"
   },
   "outputs": [
    {
     "name": "stdout",
     "output_type": "stream",
     "text": [
      "Joism\n",
      "Moon\n",
      "Roni\n",
      "Abdur Rahman\n"
     ]
    }
   ],
   "source": [
    "c, d, e, f = [\"Joism\", \"Moon\", \"Roni\", \"Abdur Rahman\"]\n",
    "print(c)\n",
    "print(d)\n",
    "print(e)\n",
    "print(f)"
   ]
  },
  {
   "cell_type": "markdown",
   "metadata": {
    "colab_type": "text",
    "id": "DByy30y1Hqxs"
   },
   "source": [
    "**Strings**"
   ]
  },
  {
   "cell_type": "code",
   "execution_count": 10,
   "metadata": {
    "colab": {
     "base_uri": "https://localhost:8080/",
     "height": 35
    },
    "colab_type": "code",
    "executionInfo": {
     "elapsed": 917,
     "status": "ok",
     "timestamp": 1558706060612,
     "user": {
      "displayName": "Md. Josim Uddin",
      "photoUrl": "https://lh6.googleusercontent.com/-2M7C8k0AC7o/AAAAAAAAAAI/AAAAAAAADao/mZMp7-uOgNk/s64/photo.jpg",
      "userId": "09483004877373085284"
     },
     "user_tz": -360
    },
    "id": "on_i-PvBHmOF",
    "outputId": "adcdef4a-b5c1-4882-9640-844c591b8617"
   },
   "outputs": [
    {
     "name": "stdout",
     "output_type": "stream",
     "text": [
      "M\n"
     ]
    }
   ],
   "source": [
    "#Access character from String\n",
    "x = 'My Name Is Josim'\n",
    "print(x[0])"
   ]
  },
  {
   "cell_type": "code",
   "execution_count": 11,
   "metadata": {
    "colab": {
     "base_uri": "https://localhost:8080/",
     "height": 35
    },
    "colab_type": "code",
    "executionInfo": {
     "elapsed": 1108,
     "status": "ok",
     "timestamp": 1558706083403,
     "user": {
      "displayName": "Md. Josim Uddin",
      "photoUrl": "https://lh6.googleusercontent.com/-2M7C8k0AC7o/AAAAAAAAAAI/AAAAAAAADao/mZMp7-uOgNk/s64/photo.jpg",
      "userId": "09483004877373085284"
     },
     "user_tz": -360
    },
    "id": "a4_Cuh9vHvlJ",
    "outputId": "bf1cfa70-021d-43bf-8374-f5e2b1b770b7"
   },
   "outputs": [
    {
     "data": {
      "text/plain": [
       "'My'"
      ]
     },
     "execution_count": 11,
     "metadata": {},
     "output_type": "execute_result"
    }
   ],
   "source": [
    "#Access string range\n",
    "x[0:2]"
   ]
  },
  {
   "cell_type": "code",
   "execution_count": 12,
   "metadata": {
    "colab": {
     "base_uri": "https://localhost:8080/",
     "height": 35
    },
    "colab_type": "code",
    "executionInfo": {
     "elapsed": 944,
     "status": "ok",
     "timestamp": 1558706104826,
     "user": {
      "displayName": "Md. Josim Uddin",
      "photoUrl": "https://lh6.googleusercontent.com/-2M7C8k0AC7o/AAAAAAAAAAI/AAAAAAAADao/mZMp7-uOgNk/s64/photo.jpg",
      "userId": "09483004877373085284"
     },
     "user_tz": -360
    },
    "id": "lBiEwwbsH1Fc",
    "outputId": "9e80556e-a273-4fd7-f28a-bcb0affe1d9c"
   },
   "outputs": [
    {
     "data": {
      "text/plain": [
       "'My Name Is Josi'"
      ]
     },
     "execution_count": 12,
     "metadata": {},
     "output_type": "execute_result"
    }
   ],
   "source": [
    "#Access whole string except last character\n",
    "x[:-1]"
   ]
  },
  {
   "cell_type": "code",
   "execution_count": 13,
   "metadata": {
    "colab": {
     "base_uri": "https://localhost:8080/",
     "height": 35
    },
    "colab_type": "code",
    "executionInfo": {
     "elapsed": 871,
     "status": "ok",
     "timestamp": 1558706132808,
     "user": {
      "displayName": "Md. Josim Uddin",
      "photoUrl": "https://lh6.googleusercontent.com/-2M7C8k0AC7o/AAAAAAAAAAI/AAAAAAAADao/mZMp7-uOgNk/s64/photo.jpg",
      "userId": "09483004877373085284"
     },
     "user_tz": -360
    },
    "id": "bJtmLRM9H6X1",
    "outputId": "a27ad386-8eef-4d73-d316-fc806d6d279b"
   },
   "outputs": [
    {
     "data": {
      "text/plain": [
       "' Josim'"
      ]
     },
     "execution_count": 13,
     "metadata": {},
     "output_type": "execute_result"
    }
   ],
   "source": [
    "#Access range string from 10th character\n",
    "x[10:]"
   ]
  },
  {
   "cell_type": "code",
   "execution_count": 14,
   "metadata": {
    "colab": {
     "base_uri": "https://localhost:8080/",
     "height": 35
    },
    "colab_type": "code",
    "executionInfo": {
     "elapsed": 595,
     "status": "ok",
     "timestamp": 1558706144197,
     "user": {
      "displayName": "Md. Josim Uddin",
      "photoUrl": "https://lh6.googleusercontent.com/-2M7C8k0AC7o/AAAAAAAAAAI/AAAAAAAADao/mZMp7-uOgNk/s64/photo.jpg",
      "userId": "09483004877373085284"
     },
     "user_tz": -360
    },
    "id": "MB-s98gcIBNj",
    "outputId": "d08e8669-8b6a-4f5b-942d-8df24d25e320"
   },
   "outputs": [
    {
     "data": {
      "text/plain": [
       "'Josim Uddin'"
      ]
     },
     "execution_count": 14,
     "metadata": {},
     "output_type": "execute_result"
    }
   ],
   "source": [
    "# Concatenate two strings\n",
    "fName = \"Josim\"\n",
    "lName = \"Uddin\"\n",
    "fullName = fName+ ' '+lName\n",
    "fullName"
   ]
  },
  {
   "cell_type": "code",
   "execution_count": 15,
   "metadata": {
    "colab": {
     "base_uri": "https://localhost:8080/",
     "height": 35
    },
    "colab_type": "code",
    "executionInfo": {
     "elapsed": 950,
     "status": "ok",
     "timestamp": 1558706292269,
     "user": {
      "displayName": "Md. Josim Uddin",
      "photoUrl": "https://lh6.googleusercontent.com/-2M7C8k0AC7o/AAAAAAAAAAI/AAAAAAAADao/mZMp7-uOgNk/s64/photo.jpg",
      "userId": "09483004877373085284"
     },
     "user_tz": -360
    },
    "id": "Is9XzsYrIEEx",
    "outputId": "36f678ad-fdbf-49ab-d980-2333041d22a7"
   },
   "outputs": [
    {
     "data": {
      "text/plain": [
       "'Josim'"
      ]
     },
     "execution_count": 15,
     "metadata": {},
     "output_type": "execute_result"
    }
   ],
   "source": [
    "#show the first word\n",
    "fullName.split(' ')[0]"
   ]
  },
  {
   "cell_type": "code",
   "execution_count": 16,
   "metadata": {
    "colab": {
     "base_uri": "https://localhost:8080/",
     "height": 35
    },
    "colab_type": "code",
    "executionInfo": {
     "elapsed": 933,
     "status": "ok",
     "timestamp": 1558706302700,
     "user": {
      "displayName": "Md. Josim Uddin",
      "photoUrl": "https://lh6.googleusercontent.com/-2M7C8k0AC7o/AAAAAAAAAAI/AAAAAAAADao/mZMp7-uOgNk/s64/photo.jpg",
      "userId": "09483004877373085284"
     },
     "user_tz": -360
    },
    "id": "coTiVfNIIk0K",
    "outputId": "68782ebc-847e-4c83-b3da-472f0ebf74e5"
   },
   "outputs": [
    {
     "data": {
      "text/plain": [
       "'One 1'"
      ]
     },
     "execution_count": 16,
     "metadata": {},
     "output_type": "execute_result"
    }
   ],
   "source": [
    "#Concatenate numreric value\n",
    "strNum = 'One '+str(1)\n",
    "strNum"
   ]
  },
  {
   "cell_type": "markdown",
   "metadata": {
    "colab_type": "text",
    "id": "OIU6FtNkI4Xa"
   },
   "source": [
    "**Dictionary :** Dictionary is collection which is not ordered but indexed also associated with key value pair"
   ]
  },
  {
   "cell_type": "code",
   "execution_count": 17,
   "metadata": {
    "colab": {
     "base_uri": "https://localhost:8080/",
     "height": 35
    },
    "colab_type": "code",
    "executionInfo": {
     "elapsed": 1428,
     "status": "ok",
     "timestamp": 1558706375743,
     "user": {
      "displayName": "Md. Josim Uddin",
      "photoUrl": "https://lh6.googleusercontent.com/-2M7C8k0AC7o/AAAAAAAAAAI/AAAAAAAADao/mZMp7-uOgNk/s64/photo.jpg",
      "userId": "09483004877373085284"
     },
     "user_tz": -360
    },
    "id": "TC9CKEsAIqra",
    "outputId": "a9b6da6f-3a72-4aaf-d490-6e6cf59c9e61"
   },
   "outputs": [
    {
     "name": "stdout",
     "output_type": "stream",
     "text": [
      "{'Name': 'Josim', 'Age': 26}\n"
     ]
    }
   ],
   "source": [
    "c = {\"Name\":\"Josim\", \"Age\":26}\n",
    "print(c)"
   ]
  },
  {
   "cell_type": "code",
   "execution_count": 18,
   "metadata": {
    "colab": {
     "base_uri": "https://localhost:8080/",
     "height": 35
    },
    "colab_type": "code",
    "executionInfo": {
     "elapsed": 912,
     "status": "ok",
     "timestamp": 1558706430132,
     "user": {
      "displayName": "Md. Josim Uddin",
      "photoUrl": "https://lh6.googleusercontent.com/-2M7C8k0AC7o/AAAAAAAAAAI/AAAAAAAADao/mZMp7-uOgNk/s64/photo.jpg",
      "userId": "09483004877373085284"
     },
     "user_tz": -360
    },
    "id": "gW_bZcibJEVs",
    "outputId": "1452e3bd-7732-446c-de42-557ff35c4f6b"
   },
   "outputs": [
    {
     "name": "stdout",
     "output_type": "stream",
     "text": [
      "Josim 26\n"
     ]
    }
   ],
   "source": [
    "#Access values from dictionary\n",
    "print(c['Name'] + ' ' + str(c['Age']))"
   ]
  },
  {
   "cell_type": "code",
   "execution_count": 19,
   "metadata": {
    "colab": {
     "base_uri": "https://localhost:8080/",
     "height": 54
    },
    "colab_type": "code",
    "executionInfo": {
     "elapsed": 1146,
     "status": "ok",
     "timestamp": 1558706654666,
     "user": {
      "displayName": "Md. Josim Uddin",
      "photoUrl": "https://lh6.googleusercontent.com/-2M7C8k0AC7o/AAAAAAAAAAI/AAAAAAAADao/mZMp7-uOgNk/s64/photo.jpg",
      "userId": "09483004877373085284"
     },
     "user_tz": -360
    },
    "id": "fwld0VWSJJzC",
    "outputId": "e0cbf489-bc72-4f60-cd71-32b72528e887"
   },
   "outputs": [
    {
     "name": "stdout",
     "output_type": "stream",
     "text": [
      "Name\n",
      "Age\n"
     ]
    }
   ],
   "source": [
    "# Access all keys from dictionary\n",
    "for i in c:\n",
    "    print(i)"
   ]
  },
  {
   "cell_type": "code",
   "execution_count": 20,
   "metadata": {
    "colab": {
     "base_uri": "https://localhost:8080/",
     "height": 54
    },
    "colab_type": "code",
    "executionInfo": {
     "elapsed": 1705,
     "status": "ok",
     "timestamp": 1558706667933,
     "user": {
      "displayName": "Md. Josim Uddin",
      "photoUrl": "https://lh6.googleusercontent.com/-2M7C8k0AC7o/AAAAAAAAAAI/AAAAAAAADao/mZMp7-uOgNk/s64/photo.jpg",
      "userId": "09483004877373085284"
     },
     "user_tz": -360
    },
    "id": "B_MhxPQiKAjm",
    "outputId": "a7332d0b-4a42-450b-803a-78439de14aee"
   },
   "outputs": [
    {
     "name": "stdout",
     "output_type": "stream",
     "text": [
      "Josim\n",
      "26\n"
     ]
    }
   ],
   "source": [
    "#Access all values from dictionary\n",
    "for i in c.values():\n",
    "    print(i)"
   ]
  },
  {
   "cell_type": "code",
   "execution_count": 21,
   "metadata": {
    "colab": {
     "base_uri": "https://localhost:8080/",
     "height": 90
    },
    "colab_type": "code",
    "executionInfo": {
     "elapsed": 801,
     "status": "ok",
     "timestamp": 1558706683820,
     "user": {
      "displayName": "Md. Josim Uddin",
      "photoUrl": "https://lh6.googleusercontent.com/-2M7C8k0AC7o/AAAAAAAAAAI/AAAAAAAADao/mZMp7-uOgNk/s64/photo.jpg",
      "userId": "09483004877373085284"
     },
     "user_tz": -360
    },
    "id": "16b-OG_GKDqn",
    "outputId": "7bcabedf-345f-433c-9870-202020bdb4fc"
   },
   "outputs": [
    {
     "name": "stdout",
     "output_type": "stream",
     "text": [
      "Name\n",
      "Josim\n",
      "Age\n",
      "26\n"
     ]
    }
   ],
   "source": [
    "# iterate all items over dictionary\n",
    "for name, age in c.items():\n",
    "    print(name)\n",
    "    print(age)"
   ]
  },
  {
   "cell_type": "markdown",
   "metadata": {
    "colab_type": "text",
    "id": "OTNmHUU6KxqE"
   },
   "source": [
    "**Date and Time**"
   ]
  },
  {
   "cell_type": "code",
   "execution_count": 22,
   "metadata": {
    "colab": {
     "base_uri": "https://localhost:8080/",
     "height": 35
    },
    "colab_type": "code",
    "executionInfo": {
     "elapsed": 692,
     "status": "ok",
     "timestamp": 1558706923976,
     "user": {
      "displayName": "Md. Josim Uddin",
      "photoUrl": "https://lh6.googleusercontent.com/-2M7C8k0AC7o/AAAAAAAAAAI/AAAAAAAADao/mZMp7-uOgNk/s64/photo.jpg",
      "userId": "09483004877373085284"
     },
     "user_tz": -360
    },
    "id": "_QXIhGkzKHwq",
    "outputId": "83382775-1eef-4522-acaa-28682b2bcb49"
   },
   "outputs": [
    {
     "data": {
      "text/plain": [
       "1558769683.1708493"
      ]
     },
     "execution_count": 22,
     "metadata": {},
     "output_type": "execute_result"
    }
   ],
   "source": [
    "import datetime as dt\n",
    "import time as tm\n",
    "\n",
    "#print the current time in seconds\n",
    "tm.time()"
   ]
  },
  {
   "cell_type": "code",
   "execution_count": 23,
   "metadata": {
    "colab": {
     "base_uri": "https://localhost:8080/",
     "height": 35
    },
    "colab_type": "code",
    "executionInfo": {
     "elapsed": 926,
     "status": "ok",
     "timestamp": 1558707058478,
     "user": {
      "displayName": "Md. Josim Uddin",
      "photoUrl": "https://lh6.googleusercontent.com/-2M7C8k0AC7o/AAAAAAAAAAI/AAAAAAAADao/mZMp7-uOgNk/s64/photo.jpg",
      "userId": "09483004877373085284"
     },
     "user_tz": -360
    },
    "id": "GK0alqEcLCal",
    "outputId": "8c2a9895-cc32-4dd6-a454-10a07af841f2"
   },
   "outputs": [
    {
     "name": "stdout",
     "output_type": "stream",
     "text": [
      "2019\n"
     ]
    }
   ],
   "source": [
    "#Convert timestamp to date\n",
    "dtnow = dt.datetime.fromtimestamp(tm.time())\n",
    "print(dtnow.year)"
   ]
  },
  {
   "cell_type": "code",
   "execution_count": 24,
   "metadata": {
    "colab": {
     "base_uri": "https://localhost:8080/",
     "height": 35
    },
    "colab_type": "code",
    "executionInfo": {
     "elapsed": 1045,
     "status": "ok",
     "timestamp": 1558707249911,
     "user": {
      "displayName": "Md. Josim Uddin",
      "photoUrl": "https://lh6.googleusercontent.com/-2M7C8k0AC7o/AAAAAAAAAAI/AAAAAAAADao/mZMp7-uOgNk/s64/photo.jpg",
      "userId": "09483004877373085284"
     },
     "user_tz": -360
    },
    "id": "FSwJ-_3ULbJq",
    "outputId": "28043117-912a-49e3-e2d7-236abc3bed9d"
   },
   "outputs": [
    {
     "name": "stdout",
     "output_type": "stream",
     "text": [
      "2019-05-25\n"
     ]
    }
   ],
   "source": [
    "#get todays date\n",
    "today = dt.date.today()\n",
    "print(today)\n"
   ]
  },
  {
   "cell_type": "code",
   "execution_count": 25,
   "metadata": {
    "colab": {
     "base_uri": "https://localhost:8080/",
     "height": 35
    },
    "colab_type": "code",
    "executionInfo": {
     "elapsed": 887,
     "status": "ok",
     "timestamp": 1558707314221,
     "user": {
      "displayName": "Md. Josim Uddin",
      "photoUrl": "https://lh6.googleusercontent.com/-2M7C8k0AC7o/AAAAAAAAAAI/AAAAAAAADao/mZMp7-uOgNk/s64/photo.jpg",
      "userId": "09483004877373085284"
     },
     "user_tz": -360
    },
    "id": "Xu46aLIoL5dY",
    "outputId": "60197e45-5794-4e3f-cf95-dbdab149fcab"
   },
   "outputs": [
    {
     "data": {
      "text/plain": [
       "datetime.date(2019, 2, 14)"
      ]
     },
     "execution_count": 25,
     "metadata": {},
     "output_type": "execute_result"
    }
   ],
   "source": [
    "#Subtract 100 days from todays date\n",
    "delta = dt.timedelta(days = 100)\n",
    "today - delta"
   ]
  },
  {
   "cell_type": "markdown",
   "metadata": {
    "colab_type": "text",
    "id": "6LNjqt4UMphl"
   },
   "source": [
    "**Map Functions:**  Map function returns a list of the results after applying the given function to each item of a given sequence. For example, let’s find the minimum value between two pairs of lists."
   ]
  },
  {
   "cell_type": "code",
   "execution_count": 26,
   "metadata": {
    "colab": {
     "base_uri": "https://localhost:8080/",
     "height": 108
    },
    "colab_type": "code",
    "executionInfo": {
     "elapsed": 1083,
     "status": "ok",
     "timestamp": 1558707388339,
     "user": {
      "displayName": "Md. Josim Uddin",
      "photoUrl": "https://lh6.googleusercontent.com/-2M7C8k0AC7o/AAAAAAAAAAI/AAAAAAAADao/mZMp7-uOgNk/s64/photo.jpg",
      "userId": "09483004877373085284"
     },
     "user_tz": -360
    },
    "id": "-zmQntLpMhpP",
    "outputId": "b5e7bbe6-2b2d-414e-8b8d-de709b8d3069"
   },
   "outputs": [
    {
     "name": "stdout",
     "output_type": "stream",
     "text": [
      "0\n",
      "3\n",
      "5\n",
      "2\n",
      "8\n"
     ]
    }
   ],
   "source": [
    "p = [1, 3, 5, 7, 9]\n",
    "q = [0, 4, 6, 2, 8]\n",
    "c = map(min, p, q)\n",
    "for i in c:\n",
    "    print(i)"
   ]
  },
  {
   "cell_type": "markdown",
   "metadata": {
    "colab_type": "text",
    "id": "G7Kt7NwKUqtK"
   },
   "source": [
    "**Lambda function** Lambda function is used for creating small, one-time and anonymous function objects in Python"
   ]
  },
  {
   "cell_type": "code",
   "execution_count": 27,
   "metadata": {
    "colab": {
     "base_uri": "https://localhost:8080/",
     "height": 35
    },
    "colab_type": "code",
    "executionInfo": {
     "elapsed": 986,
     "status": "ok",
     "timestamp": 1558709601046,
     "user": {
      "displayName": "Md. Josim Uddin",
      "photoUrl": "https://lh6.googleusercontent.com/-2M7C8k0AC7o/AAAAAAAAAAI/AAAAAAAADao/mZMp7-uOgNk/s64/photo.jpg",
      "userId": "09483004877373085284"
     },
     "user_tz": -360
    },
    "id": "KgUQ6Co4MzsS",
    "outputId": "6f0039b2-966b-4240-e13e-2b1f868d5ae0"
   },
   "outputs": [
    {
     "name": "stdout",
     "output_type": "stream",
     "text": [
      "9\n"
     ]
    }
   ],
   "source": [
    "function = lambda a, b, c: a+b+c\n",
    "print(function(3,3,3))"
   ]
  },
  {
   "cell_type": "markdown",
   "metadata": {
    "colab_type": "text",
    "id": "O8PxlL_vVVYz"
   },
   "source": [
    "**Filter function** Filter offers an easy way to filter out all the elements of a list. Filter (syntax : filter(function,list)) needs a function as its first argument, for which lambda can be used. As an example, let’s filter out only the numbers greater than 5 from a list"
   ]
  },
  {
   "cell_type": "code",
   "execution_count": 28,
   "metadata": {
    "colab": {
     "base_uri": "https://localhost:8080/",
     "height": 35
    },
    "colab_type": "code",
    "executionInfo": {
     "elapsed": 987,
     "status": "ok",
     "timestamp": 1558709876860,
     "user": {
      "displayName": "Md. Josim Uddin",
      "photoUrl": "https://lh6.googleusercontent.com/-2M7C8k0AC7o/AAAAAAAAAAI/AAAAAAAADao/mZMp7-uOgNk/s64/photo.jpg",
      "userId": "09483004877373085284"
     },
     "user_tz": -360
    },
    "id": "aAPZvf3-U4gS",
    "outputId": "49b12a2a-d808-4ea4-ea6c-f0796b37bc97"
   },
   "outputs": [
    {
     "name": "stdout",
     "output_type": "stream",
     "text": [
      "[7, 8, 9]\n"
     ]
    }
   ],
   "source": [
    "x = [2,4,5,7,8,9]\n",
    "x2 = filter(lambda a: a>5, x)\n",
    "print(list(x2))"
   ]
  },
  {
   "cell_type": "markdown",
   "metadata": {
    "colab_type": "text",
    "id": "Jm5aU0UoW136"
   },
   "source": [
    "**Reduce Functoin** Reduce is a function for performing some computation on a list and returning the result. It applies a rolling computation to sequential pairs of values in a list. As an example, let’s calculate the product of all the numbers in a list"
   ]
  },
  {
   "cell_type": "code",
   "execution_count": 29,
   "metadata": {
    "colab": {
     "base_uri": "https://localhost:8080/",
     "height": 35
    },
    "colab_type": "code",
    "executionInfo": {
     "elapsed": 1033,
     "status": "ok",
     "timestamp": 1558710285509,
     "user": {
      "displayName": "Md. Josim Uddin",
      "photoUrl": "https://lh6.googleusercontent.com/-2M7C8k0AC7o/AAAAAAAAAAI/AAAAAAAADao/mZMp7-uOgNk/s64/photo.jpg",
      "userId": "09483004877373085284"
     },
     "user_tz": -360
    },
    "id": "NE_fyRlCVT7j",
    "outputId": "58a0b0ce-60d9-45e9-82a6-8c6aff6eaae0"
   },
   "outputs": [
    {
     "data": {
      "text/plain": [
       "120"
      ]
     },
     "execution_count": 29,
     "metadata": {},
     "output_type": "execute_result"
    }
   ],
   "source": [
    "from functools import reduce\n",
    "y = [1,2,3,4,5]\n",
    "reduce(lambda a, b: a*b, y)"
   ]
  },
  {
   "cell_type": "markdown",
   "metadata": {
    "colab_type": "text",
    "id": "NyxdwANKYFYY"
   },
   "source": [
    "**Zip function** Zip function returns a list of tuples, where the i-th tuple contains the i-th element from each of the sequences. Let’s look at an example"
   ]
  },
  {
   "cell_type": "code",
   "execution_count": 30,
   "metadata": {
    "colab": {
     "base_uri": "https://localhost:8080/",
     "height": 35
    },
    "colab_type": "code",
    "executionInfo": {
     "elapsed": 991,
     "status": "ok",
     "timestamp": 1558710595265,
     "user": {
      "displayName": "Md. Josim Uddin",
      "photoUrl": "https://lh6.googleusercontent.com/-2M7C8k0AC7o/AAAAAAAAAAI/AAAAAAAADao/mZMp7-uOgNk/s64/photo.jpg",
      "userId": "09483004877373085284"
     },
     "user_tz": -360
    },
    "id": "uivJS2gcXlBs",
    "outputId": "aaae6e82-a41d-4dce-d061-a2550d755605"
   },
   "outputs": [
    {
     "name": "stdout",
     "output_type": "stream",
     "text": [
      "[(1, 5), (2, 6), (3, 7), (4, 8)]\n"
     ]
    }
   ],
   "source": [
    "a = [1,2,3,4] #create two lists\n",
    "b = [5,6,7,8]\n",
    "c = zip(a,b) #Use the zip function\n",
    "print(list(c))"
   ]
  },
  {
   "cell_type": "markdown",
   "metadata": {
    "colab_type": "text",
    "id": "7vY2AMj5ZSHe"
   },
   "source": [
    "If the sequences used in the zip function is unequal, the returned list is truncated in length to the length of the shortest sequence."
   ]
  },
  {
   "cell_type": "code",
   "execution_count": 31,
   "metadata": {
    "colab": {
     "base_uri": "https://localhost:8080/",
     "height": 35
    },
    "colab_type": "code",
    "executionInfo": {
     "elapsed": 924,
     "status": "ok",
     "timestamp": 1558710736099,
     "user": {
      "displayName": "Md. Josim Uddin",
      "photoUrl": "https://lh6.googleusercontent.com/-2M7C8k0AC7o/AAAAAAAAAAI/AAAAAAAADao/mZMp7-uOgNk/s64/photo.jpg",
      "userId": "09483004877373085284"
     },
     "user_tz": -360
    },
    "id": "eE86MY38Yr4r",
    "outputId": "a224d38a-8ff4-4c73-d2de-cbda3878b22b"
   },
   "outputs": [
    {
     "name": "stdout",
     "output_type": "stream",
     "text": [
      "[(1, 5), (2, 6)]\n"
     ]
    }
   ],
   "source": [
    "a = [1,2]\n",
    "b = [5,6,7,8]\n",
    "c = zip(a,b)\n",
    "print(list(c))"
   ]
  },
  {
   "cell_type": "markdown",
   "metadata": {
    "colab_type": "text",
    "id": "BvEHm2uOZ17C"
   },
   "source": [
    "**For loop** For loops are usually used when you have a block of code which you want to repeat a fixed number of times.\n",
    "\n",
    "Let us use a for loop to print the list of even numbers from 1 to 100."
   ]
  },
  {
   "cell_type": "code",
   "execution_count": 32,
   "metadata": {
    "colab": {
     "base_uri": "https://localhost:8080/",
     "height": 55
    },
    "colab_type": "code",
    "executionInfo": {
     "elapsed": 1058,
     "status": "ok",
     "timestamp": 1558710990441,
     "user": {
      "displayName": "Md. Josim Uddin",
      "photoUrl": "https://lh6.googleusercontent.com/-2M7C8k0AC7o/AAAAAAAAAAI/AAAAAAAADao/mZMp7-uOgNk/s64/photo.jpg",
      "userId": "09483004877373085284"
     },
     "user_tz": -360
    },
    "id": "6_07hLl-Zhcq",
    "outputId": "ff54f2d2-35eb-490b-9b1a-eab901cc7a63"
   },
   "outputs": [
    {
     "name": "stdout",
     "output_type": "stream",
     "text": [
      "[0, 2, 4, 6, 8, 10, 12, 14, 16, 18, 20, 22, 24, 26, 28, 30, 32, 34, 36, 38, 40, 42, 44, 46, 48, 50, 52, 54, 56, 58, 60, 62, 64, 66, 68, 70, 72, 74, 76, 78, 80, 82, 84, 86, 88, 90, 92, 94, 96, 98]\n"
     ]
    }
   ],
   "source": [
    "even =[]\n",
    "for i in range(100):\n",
    "  if i%2 == 0:\n",
    "    even.append(i)\n",
    "  else:\n",
    "    None\n",
    "print(list(even))"
   ]
  },
  {
   "cell_type": "markdown",
   "metadata": {
    "colab_type": "text",
    "id": "lrCoIGyma55y"
   },
   "source": [
    "**List comprehension** List comprehension provides an easier way to create lists. Continuing the same example, let’s create a list of even numbers from 1 to 100 using list comprehension."
   ]
  },
  {
   "cell_type": "code",
   "execution_count": 33,
   "metadata": {
    "colab": {
     "base_uri": "https://localhost:8080/",
     "height": 55
    },
    "colab_type": "code",
    "executionInfo": {
     "elapsed": 990,
     "status": "ok",
     "timestamp": 1558711571638,
     "user": {
      "displayName": "Md. Josim Uddin",
      "photoUrl": "https://lh6.googleusercontent.com/-2M7C8k0AC7o/AAAAAAAAAAI/AAAAAAAADao/mZMp7-uOgNk/s64/photo.jpg",
      "userId": "09483004877373085284"
     },
     "user_tz": -360
    },
    "id": "AJIM6-v5agh8",
    "outputId": "ef62a099-9a52-4ebf-b077-29b11b4b5d80"
   },
   "outputs": [
    {
     "name": "stdout",
     "output_type": "stream",
     "text": [
      "[0, 2, 4, 6, 8, 10, 12, 14, 16, 18, 20, 22, 24, 26, 28, 30, 32, 34, 36, 38, 40, 42, 44, 46, 48, 50, 52, 54, 56, 58, 60, 62, 64, 66, 68, 70, 72, 74, 76, 78, 80, 82, 84, 86, 88, 90, 92, 94, 96, 98]\n"
     ]
    }
   ],
   "source": [
    "even = [i for i in range(100) if i%2 == 0]\n",
    "print(even)"
   ]
  },
  {
   "cell_type": "markdown",
   "metadata": {
    "colab_type": "text",
    "id": "s8Jmd4cic7ui"
   },
   "source": [
    "# Numpy Library"
   ]
  },
  {
   "cell_type": "code",
   "execution_count": 34,
   "metadata": {
    "colab": {},
    "colab_type": "code",
    "id": "a8OAahPhdJkD"
   },
   "outputs": [],
   "source": [
    "#import numpy\n",
    "import numpy as np"
   ]
  },
  {
   "cell_type": "code",
   "execution_count": 35,
   "metadata": {
    "colab": {
     "base_uri": "https://localhost:8080/",
     "height": 35
    },
    "colab_type": "code",
    "executionInfo": {
     "elapsed": 930,
     "status": "ok",
     "timestamp": 1558711730246,
     "user": {
      "displayName": "Md. Josim Uddin",
      "photoUrl": "https://lh6.googleusercontent.com/-2M7C8k0AC7o/AAAAAAAAAAI/AAAAAAAADao/mZMp7-uOgNk/s64/photo.jpg",
      "userId": "09483004877373085284"
     },
     "user_tz": -360
    },
    "id": "11VViE75dE0N",
    "outputId": "602d3fc8-38c3-4649-ddbd-8aeac84dc04d"
   },
   "outputs": [
    {
     "data": {
      "text/plain": [
       "array([1, 2, 3])"
      ]
     },
     "execution_count": 35,
     "metadata": {},
     "output_type": "execute_result"
    }
   ],
   "source": [
    "#single dimentional array\n",
    "np.array([1,2,3])"
   ]
  },
  {
   "cell_type": "code",
   "execution_count": 36,
   "metadata": {
    "colab": {
     "base_uri": "https://localhost:8080/",
     "height": 54
    },
    "colab_type": "code",
    "executionInfo": {
     "elapsed": 963,
     "status": "ok",
     "timestamp": 1558711820637,
     "user": {
      "displayName": "Md. Josim Uddin",
      "photoUrl": "https://lh6.googleusercontent.com/-2M7C8k0AC7o/AAAAAAAAAAI/AAAAAAAADao/mZMp7-uOgNk/s64/photo.jpg",
      "userId": "09483004877373085284"
     },
     "user_tz": -360
    },
    "id": "dJ47yMR1dXxL",
    "outputId": "69f6cb33-30cb-4c14-e29e-5d2d612ff750"
   },
   "outputs": [
    {
     "data": {
      "text/plain": [
       "array([[1, 2, 3],\n",
       "       [4, 5, 6]])"
      ]
     },
     "execution_count": 36,
     "metadata": {},
     "output_type": "execute_result"
    }
   ],
   "source": [
    "#Multi dimentional array\n",
    "a = np.array([[1,2,3], [4,5,6]])\n",
    "a"
   ]
  },
  {
   "cell_type": "code",
   "execution_count": 37,
   "metadata": {
    "colab": {
     "base_uri": "https://localhost:8080/",
     "height": 35
    },
    "colab_type": "code",
    "executionInfo": {
     "elapsed": 1032,
     "status": "ok",
     "timestamp": 1558711883210,
     "user": {
      "displayName": "Md. Josim Uddin",
      "photoUrl": "https://lh6.googleusercontent.com/-2M7C8k0AC7o/AAAAAAAAAAI/AAAAAAAADao/mZMp7-uOgNk/s64/photo.jpg",
      "userId": "09483004877373085284"
     },
     "user_tz": -360
    },
    "id": "Omhl1yfFdk0Q",
    "outputId": "dad5471a-7861-4a59-86a7-4fd58485cd8c"
   },
   "outputs": [
    {
     "data": {
      "text/plain": [
       "(2, 3)"
      ]
     },
     "execution_count": 37,
     "metadata": {},
     "output_type": "execute_result"
    }
   ],
   "source": [
    "#check the shape (rows and columns of the array)\n",
    "a.shape"
   ]
  },
  {
   "cell_type": "code",
   "execution_count": 38,
   "metadata": {
    "colab": {
     "base_uri": "https://localhost:8080/",
     "height": 35
    },
    "colab_type": "code",
    "executionInfo": {
     "elapsed": 926,
     "status": "ok",
     "timestamp": 1558712165029,
     "user": {
      "displayName": "Md. Josim Uddin",
      "photoUrl": "https://lh6.googleusercontent.com/-2M7C8k0AC7o/AAAAAAAAAAI/AAAAAAAADao/mZMp7-uOgNk/s64/photo.jpg",
      "userId": "09483004877373085284"
     },
     "user_tz": -360
    },
    "id": "Lv3ZLc_Qd4BZ",
    "outputId": "c040fa32-520e-4525-9c85-015c6f2cdaee"
   },
   "outputs": [
    {
     "data": {
      "text/plain": [
       "array([ 1,  3,  5,  7,  9, 11, 13, 15, 17, 19, 21, 23, 25, 27, 29])"
      ]
     },
     "execution_count": 38,
     "metadata": {},
     "output_type": "execute_result"
    }
   ],
   "source": [
    "#Create an evenly spaced array between 1 and 30 with a difference of 2\n",
    "b = np.arange(1, 30, 2)\n",
    "b"
   ]
  },
  {
   "cell_type": "code",
   "execution_count": 39,
   "metadata": {
    "colab": {
     "base_uri": "https://localhost:8080/",
     "height": 108
    },
    "colab_type": "code",
    "executionInfo": {
     "elapsed": 931,
     "status": "ok",
     "timestamp": 1558712170486,
     "user": {
      "displayName": "Md. Josim Uddin",
      "photoUrl": "https://lh6.googleusercontent.com/-2M7C8k0AC7o/AAAAAAAAAAI/AAAAAAAADao/mZMp7-uOgNk/s64/photo.jpg",
      "userId": "09483004877373085284"
     },
     "user_tz": -360
    },
    "id": "_hee3EBheBlf",
    "outputId": "1fae223f-4bc0-4784-b97b-cd838667f3d9"
   },
   "outputs": [
    {
     "data": {
      "text/plain": [
       "array([[ 1,  3,  5],\n",
       "       [ 7,  9, 11],\n",
       "       [13, 15, 17],\n",
       "       [19, 21, 23],\n",
       "       [25, 27, 29]])"
      ]
     },
     "execution_count": 39,
     "metadata": {},
     "output_type": "execute_result"
    }
   ],
   "source": [
    "# Reshape the above array into a desired shape\n",
    "b.reshape(5,3)"
   ]
  },
  {
   "cell_type": "markdown",
   "metadata": {
    "colab_type": "text",
    "id": "O559knYCf56q"
   },
   "source": [
    "Generate an evenly spaced list between the interval 1 and 5. (Take a minute here to understand the difference between 'linspace' and 'arange')"
   ]
  },
  {
   "cell_type": "code",
   "execution_count": 40,
   "metadata": {
    "colab": {
     "base_uri": "https://localhost:8080/",
     "height": 90
    },
    "colab_type": "code",
    "executionInfo": {
     "elapsed": 1067,
     "status": "ok",
     "timestamp": 1558713014117,
     "user": {
      "displayName": "Md. Josim Uddin",
      "photoUrl": "https://lh6.googleusercontent.com/-2M7C8k0AC7o/AAAAAAAAAAI/AAAAAAAADao/mZMp7-uOgNk/s64/photo.jpg",
      "userId": "09483004877373085284"
     },
     "user_tz": -360
    },
    "id": "xtHvkQche6ye",
    "outputId": "cd043d3f-c112-40e2-ecef-c0d51f339f78"
   },
   "outputs": [
    {
     "data": {
      "text/plain": [
       "array([1.        , 1.21052632, 1.42105263, 1.63157895, 1.84210526,\n",
       "       2.05263158, 2.26315789, 2.47368421, 2.68421053, 2.89473684,\n",
       "       3.10526316, 3.31578947, 3.52631579, 3.73684211, 3.94736842,\n",
       "       4.15789474, 4.36842105, 4.57894737, 4.78947368, 5.        ])"
      ]
     },
     "execution_count": 40,
     "metadata": {},
     "output_type": "execute_result"
    }
   ],
   "source": [
    "c = np.linspace(1, 5, 20)\n",
    "c"
   ]
  },
  {
   "cell_type": "markdown",
   "metadata": {
    "colab_type": "text",
    "id": "fnaCCvFBgUOR"
   },
   "source": [
    "Now, change the shape of the array in place (‘resize’ function changes the shape of the array in place, unlike ‘reshape’)"
   ]
  },
  {
   "cell_type": "code",
   "execution_count": 41,
   "metadata": {
    "colab": {
     "base_uri": "https://localhost:8080/",
     "height": 108
    },
    "colab_type": "code",
    "executionInfo": {
     "elapsed": 1037,
     "status": "ok",
     "timestamp": 1558713025115,
     "user": {
      "displayName": "Md. Josim Uddin",
      "photoUrl": "https://lh6.googleusercontent.com/-2M7C8k0AC7o/AAAAAAAAAAI/AAAAAAAADao/mZMp7-uOgNk/s64/photo.jpg",
      "userId": "09483004877373085284"
     },
     "user_tz": -360
    },
    "id": "FTnMQGErgAu9",
    "outputId": "1f2c8220-afe9-4340-db36-bf79f6465fee"
   },
   "outputs": [
    {
     "data": {
      "text/plain": [
       "array([[1.        , 1.21052632, 1.42105263, 1.63157895],\n",
       "       [1.84210526, 2.05263158, 2.26315789, 2.47368421],\n",
       "       [2.68421053, 2.89473684, 3.10526316, 3.31578947],\n",
       "       [3.52631579, 3.73684211, 3.94736842, 4.15789474],\n",
       "       [4.36842105, 4.57894737, 4.78947368, 5.        ]])"
      ]
     },
     "execution_count": 41,
     "metadata": {},
     "output_type": "execute_result"
    }
   ],
   "source": [
    "c.resize(5,4)\n",
    "c"
   ]
  },
  {
   "cell_type": "code",
   "execution_count": 42,
   "metadata": {
    "colab": {
     "base_uri": "https://localhost:8080/",
     "height": 54
    },
    "colab_type": "code",
    "executionInfo": {
     "elapsed": 1966,
     "status": "ok",
     "timestamp": 1558714529663,
     "user": {
      "displayName": "Md. Josim Uddin",
      "photoUrl": "https://lh6.googleusercontent.com/-2M7C8k0AC7o/AAAAAAAAAAI/AAAAAAAADao/mZMp7-uOgNk/s64/photo.jpg",
      "userId": "09483004877373085284"
     },
     "user_tz": -360
    },
    "id": "b9DBI40Ige0S",
    "outputId": "b30e9a4e-2552-49e1-e0c5-5dcd95fd77cf"
   },
   "outputs": [
    {
     "data": {
      "text/plain": [
       "array([[1., 1.],\n",
       "       [1., 1.]])"
      ]
     },
     "execution_count": 42,
     "metadata": {},
     "output_type": "execute_result"
    }
   ],
   "source": [
    "#Create an array with all elements as ones\n",
    "d = np.ones((2,2))\n",
    "d"
   ]
  },
  {
   "cell_type": "code",
   "execution_count": 43,
   "metadata": {
    "colab": {
     "base_uri": "https://localhost:8080/",
     "height": 72
    },
    "colab_type": "code",
    "executionInfo": {
     "elapsed": 907,
     "status": "ok",
     "timestamp": 1558714588251,
     "user": {
      "displayName": "Md. Josim Uddin",
      "photoUrl": "https://lh6.googleusercontent.com/-2M7C8k0AC7o/AAAAAAAAAAI/AAAAAAAADao/mZMp7-uOgNk/s64/photo.jpg",
      "userId": "09483004877373085284"
     },
     "user_tz": -360
    },
    "id": "Qxoafm9Vng-Q",
    "outputId": "32657c3e-b049-4cdf-f123-86cc2c8c8e3e"
   },
   "outputs": [
    {
     "data": {
      "text/plain": [
       "array([[0., 0., 0.],\n",
       "       [0., 0., 0.],\n",
       "       [0., 0., 0.]])"
      ]
     },
     "execution_count": 43,
     "metadata": {},
     "output_type": "execute_result"
    }
   ],
   "source": [
    "#Create an array with all elements as zeros\n",
    "e = np.zeros((3,3))\n",
    "e"
   ]
  },
  {
   "cell_type": "code",
   "execution_count": 44,
   "metadata": {
    "colab": {
     "base_uri": "https://localhost:8080/",
     "height": 90
    },
    "colab_type": "code",
    "executionInfo": {
     "elapsed": 923,
     "status": "ok",
     "timestamp": 1558714689541,
     "user": {
      "displayName": "Md. Josim Uddin",
      "photoUrl": "https://lh6.googleusercontent.com/-2M7C8k0AC7o/AAAAAAAAAAI/AAAAAAAADao/mZMp7-uOgNk/s64/photo.jpg",
      "userId": "09483004877373085284"
     },
     "user_tz": -360
    },
    "id": "ZtdqrQ8moQMj",
    "outputId": "9629e39e-96b1-497f-d444-936f45dcd295"
   },
   "outputs": [
    {
     "data": {
      "text/plain": [
       "array([[1., 0., 0., 0.],\n",
       "       [0., 1., 0., 0.],\n",
       "       [0., 0., 1., 0.],\n",
       "       [0., 0., 0., 1.]])"
      ]
     },
     "execution_count": 44,
     "metadata": {},
     "output_type": "execute_result"
    }
   ],
   "source": [
    "#Create a diagonal matrix with diagonal values = 1\n",
    "f = np.eye(4)\n",
    "f"
   ]
  },
  {
   "cell_type": "code",
   "execution_count": 45,
   "metadata": {
    "colab": {
     "base_uri": "https://localhost:8080/",
     "height": 35
    },
    "colab_type": "code",
    "executionInfo": {
     "elapsed": 848,
     "status": "ok",
     "timestamp": 1558714773649,
     "user": {
      "displayName": "Md. Josim Uddin",
      "photoUrl": "https://lh6.googleusercontent.com/-2M7C8k0AC7o/AAAAAAAAAAI/AAAAAAAADao/mZMp7-uOgNk/s64/photo.jpg",
      "userId": "09483004877373085284"
     },
     "user_tz": -360
    },
    "id": "2MfFm6b-ooZU",
    "outputId": "7610ed72-e80e-4030-edc2-8b544b223bc0"
   },
   "outputs": [
    {
     "data": {
      "text/plain": [
       "array([1., 1., 1., 1.])"
      ]
     },
     "execution_count": 45,
     "metadata": {},
     "output_type": "execute_result"
    }
   ],
   "source": [
    "#Extract only diagonal values from an array\n",
    "np.diag(f)"
   ]
  },
  {
   "cell_type": "code",
   "execution_count": 46,
   "metadata": {
    "colab": {
     "base_uri": "https://localhost:8080/",
     "height": 35
    },
    "colab_type": "code",
    "executionInfo": {
     "elapsed": 833,
     "status": "ok",
     "timestamp": 1558714840058,
     "user": {
      "displayName": "Md. Josim Uddin",
      "photoUrl": "https://lh6.googleusercontent.com/-2M7C8k0AC7o/AAAAAAAAAAI/AAAAAAAADao/mZMp7-uOgNk/s64/photo.jpg",
      "userId": "09483004877373085284"
     },
     "user_tz": -360
    },
    "id": "FdTRal5Po-zD",
    "outputId": "837ee45c-9f6e-4ebd-8c3c-46a041b0ea3d"
   },
   "outputs": [
    {
     "data": {
      "text/plain": [
       "array([1, 2, 3, 1, 2, 3, 1, 2, 3, 1, 2, 3, 1, 2, 3])"
      ]
     },
     "execution_count": 46,
     "metadata": {},
     "output_type": "execute_result"
    }
   ],
   "source": [
    "#Create an array consist of repeating list\n",
    "g = np.array([1,2,3]*5)\n",
    "g"
   ]
  },
  {
   "cell_type": "code",
   "execution_count": 47,
   "metadata": {
    "colab": {
     "base_uri": "https://localhost:8080/",
     "height": 35
    },
    "colab_type": "code",
    "executionInfo": {
     "elapsed": 1106,
     "status": "ok",
     "timestamp": 1558714932842,
     "user": {
      "displayName": "Md. Josim Uddin",
      "photoUrl": "https://lh6.googleusercontent.com/-2M7C8k0AC7o/AAAAAAAAAAI/AAAAAAAADao/mZMp7-uOgNk/s64/photo.jpg",
      "userId": "09483004877373085284"
     },
     "user_tz": -360
    },
    "id": "GgWH4MoJpPAv",
    "outputId": "e732f4b8-1c2f-4f63-94e8-2e50bbf0442a"
   },
   "outputs": [
    {
     "data": {
      "text/plain": [
       "array([1, 1, 1, 1, 2, 2, 2, 2, 3, 3, 3, 3])"
      ]
     },
     "execution_count": 47,
     "metadata": {},
     "output_type": "execute_result"
    }
   ],
   "source": [
    "#Repeat each element of array n number of times using repeat function\n",
    "np.repeat([1,2,3],4)"
   ]
  },
  {
   "cell_type": "code",
   "execution_count": 48,
   "metadata": {
    "colab": {
     "base_uri": "https://localhost:8080/",
     "height": 90
    },
    "colab_type": "code",
    "executionInfo": {
     "elapsed": 1994,
     "status": "ok",
     "timestamp": 1558716153565,
     "user": {
      "displayName": "Md. Josim Uddin",
      "photoUrl": "https://lh6.googleusercontent.com/-2M7C8k0AC7o/AAAAAAAAAAI/AAAAAAAADao/mZMp7-uOgNk/s64/photo.jpg",
      "userId": "09483004877373085284"
     },
     "user_tz": -360
    },
    "id": "kHMIHSVvplms",
    "outputId": "b0fbd99d-6bb4-45f9-8600-3a2fb4543670"
   },
   "outputs": [
    {
     "name": "stdout",
     "output_type": "stream",
     "text": [
      "[[0.9363066  0.46436926 0.75232894]\n",
      " [0.01467965 0.69288266 0.55368374]]\n",
      "[[0.65762712 0.27989251 0.52365128]\n",
      " [0.59348617 0.25126805 0.48536056]]\n"
     ]
    }
   ],
   "source": [
    "#Generate two arrays of desired shape filled with random values between 0 and 1\n",
    "g = np.random.rand(2,3)\n",
    "print(g)\n",
    "h = np.random.rand(2,3)\n",
    "print(h)"
   ]
  },
  {
   "cell_type": "code",
   "execution_count": 49,
   "metadata": {
    "colab": {
     "base_uri": "https://localhost:8080/",
     "height": 90
    },
    "colab_type": "code",
    "executionInfo": {
     "elapsed": 1972,
     "status": "ok",
     "timestamp": 1558716160925,
     "user": {
      "displayName": "Md. Josim Uddin",
      "photoUrl": "https://lh6.googleusercontent.com/-2M7C8k0AC7o/AAAAAAAAAAI/AAAAAAAADao/mZMp7-uOgNk/s64/photo.jpg",
      "userId": "09483004877373085284"
     },
     "user_tz": -360
    },
    "id": "aaIbmU9xp-16",
    "outputId": "317d97a8-9c91-4868-889c-0a83d0c6ca7e"
   },
   "outputs": [
    {
     "data": {
      "text/plain": [
       "array([[0.65762712, 0.27989251, 0.52365128],\n",
       "       [0.59348617, 0.25126805, 0.48536056],\n",
       "       [0.9363066 , 0.46436926, 0.75232894],\n",
       "       [0.01467965, 0.69288266, 0.55368374]])"
      ]
     },
     "execution_count": 49,
     "metadata": {},
     "output_type": "execute_result"
    }
   ],
   "source": [
    "#Stack the above two arrays vartically\n",
    "i = np.vstack([h,g])\n",
    "i"
   ]
  },
  {
   "cell_type": "code",
   "execution_count": 50,
   "metadata": {
    "colab": {
     "base_uri": "https://localhost:8080/",
     "height": 90
    },
    "colab_type": "code",
    "executionInfo": {
     "elapsed": 906,
     "status": "ok",
     "timestamp": 1558716170472,
     "user": {
      "displayName": "Md. Josim Uddin",
      "photoUrl": "https://lh6.googleusercontent.com/-2M7C8k0AC7o/AAAAAAAAAAI/AAAAAAAADao/mZMp7-uOgNk/s64/photo.jpg",
      "userId": "09483004877373085284"
     },
     "user_tz": -360
    },
    "id": "iEqWvVZirlih",
    "outputId": "926fd841-ee94-47a6-efbf-b4fd1624e8ae"
   },
   "outputs": [
    {
     "data": {
      "text/plain": [
       "array([[0.65762712, 0.27989251, 0.52365128, 0.9363066 , 0.46436926,\n",
       "        0.75232894],\n",
       "       [0.59348617, 0.25126805, 0.48536056, 0.01467965, 0.69288266,\n",
       "        0.55368374]])"
      ]
     },
     "execution_count": 50,
     "metadata": {},
     "output_type": "execute_result"
    }
   ],
   "source": [
    "# stack arrays horizontally\n",
    "j = np.hstack([h,g])\n",
    "j"
   ]
  },
  {
   "cell_type": "code",
   "execution_count": 51,
   "metadata": {
    "colab": {
     "base_uri": "https://localhost:8080/",
     "height": 90
    },
    "colab_type": "code",
    "executionInfo": {
     "elapsed": 922,
     "status": "ok",
     "timestamp": 1558717079431,
     "user": {
      "displayName": "Md. Josim Uddin",
      "photoUrl": "https://lh6.googleusercontent.com/-2M7C8k0AC7o/AAAAAAAAAAI/AAAAAAAADao/mZMp7-uOgNk/s64/photo.jpg",
      "userId": "09483004877373085284"
     },
     "user_tz": -360
    },
    "id": "TQN1oxNQsHnL",
    "outputId": "7d6e9a46-06a5-4858-db45-fb1dd2dc3f50"
   },
   "outputs": [
    {
     "name": "stdout",
     "output_type": "stream",
     "text": [
      "[[0.56461965 0.08050166]\n",
      " [0.81486219 0.8106977 ]]\n",
      "[[0.79220948 0.07953911]\n",
      " [0.25974942 0.18067558]]\n"
     ]
    }
   ],
   "source": [
    "#Some array operations\n",
    "\n",
    "k = np.random.rand(2,2)\n",
    "l = np.random.rand(2,2)\n",
    "\n",
    "print(k)\n",
    "print(l)\n",
    "\n"
   ]
  },
  {
   "cell_type": "code",
   "execution_count": 52,
   "metadata": {
    "colab": {
     "base_uri": "https://localhost:8080/",
     "height": 54
    },
    "colab_type": "code",
    "executionInfo": {
     "elapsed": 982,
     "status": "ok",
     "timestamp": 1558717110273,
     "user": {
      "displayName": "Md. Josim Uddin",
      "photoUrl": "https://lh6.googleusercontent.com/-2M7C8k0AC7o/AAAAAAAAAAI/AAAAAAAADao/mZMp7-uOgNk/s64/photo.jpg",
      "userId": "09483004877373085284"
     },
     "user_tz": -360
    },
    "id": "h_FAizx_x0bP",
    "outputId": "d70a3df5-4c38-45b9-827b-4534b7c898ba"
   },
   "outputs": [
    {
     "name": "stdout",
     "output_type": "stream",
     "text": [
      "add = [[1.35682914 0.16004077]\n",
      " [1.07461162 0.99137328]]\n"
     ]
    }
   ],
   "source": [
    "\n",
    "#element wise addition\n",
    "m = k+l\n",
    "print(\"add = \"+str(m))"
   ]
  },
  {
   "cell_type": "code",
   "execution_count": 53,
   "metadata": {
    "colab": {
     "base_uri": "https://localhost:8080/",
     "height": 54
    },
    "colab_type": "code",
    "executionInfo": {
     "elapsed": 913,
     "status": "ok",
     "timestamp": 1558717127795,
     "user": {
      "displayName": "Md. Josim Uddin",
      "photoUrl": "https://lh6.googleusercontent.com/-2M7C8k0AC7o/AAAAAAAAAAI/AAAAAAAADao/mZMp7-uOgNk/s64/photo.jpg",
      "userId": "09483004877373085284"
     },
     "user_tz": -360
    },
    "id": "PZlpJ5pJx6dQ",
    "outputId": "275d5b10-3054-42f9-c037-2518abe28ff0"
   },
   "outputs": [
    {
     "name": "stdout",
     "output_type": "stream",
     "text": [
      "sub = [[-0.22758983  0.00096256]\n",
      " [ 0.55511277  0.63002212]]\n"
     ]
    }
   ],
   "source": [
    "\n",
    "\n",
    "# element wise subtract\n",
    "n = k - l\n",
    "print(\"sub = \"+str(n))"
   ]
  },
  {
   "cell_type": "code",
   "execution_count": 54,
   "metadata": {
    "colab": {
     "base_uri": "https://localhost:8080/",
     "height": 54
    },
    "colab_type": "code",
    "executionInfo": {
     "elapsed": 979,
     "status": "ok",
     "timestamp": 1558717152660,
     "user": {
      "displayName": "Md. Josim Uddin",
      "photoUrl": "https://lh6.googleusercontent.com/-2M7C8k0AC7o/AAAAAAAAAAI/AAAAAAAADao/mZMp7-uOgNk/s64/photo.jpg",
      "userId": "09483004877373085284"
     },
     "user_tz": -360
    },
    "id": "xnHyfe1Xx_SA",
    "outputId": "ab3803f9-018e-479d-ce65-11f7aa4308f6"
   },
   "outputs": [
    {
     "name": "stdout",
     "output_type": "stream",
     "text": [
      "power = [[1.79998122e-01 5.21692478e-04]\n",
      " [5.41068817e-01 5.32815459e-01]]\n"
     ]
    }
   ],
   "source": [
    "#element wise power 3\n",
    "p = k**3\n",
    "print(\"power = \"+ str(p))"
   ]
  },
  {
   "cell_type": "code",
   "execution_count": 55,
   "metadata": {
    "colab": {
     "base_uri": "https://localhost:8080/",
     "height": 54
    },
    "colab_type": "code",
    "executionInfo": {
     "elapsed": 825,
     "status": "ok",
     "timestamp": 1558716989317,
     "user": {
      "displayName": "Md. Josim Uddin",
      "photoUrl": "https://lh6.googleusercontent.com/-2M7C8k0AC7o/AAAAAAAAAAI/AAAAAAAADao/mZMp7-uOgNk/s64/photo.jpg",
      "userId": "09483004877373085284"
     },
     "user_tz": -360
    },
    "id": "22XTGXDYvQin",
    "outputId": "2e4b8bb5-3734-4de8-8c20-3b215f8763b4"
   },
   "outputs": [
    {
     "data": {
      "text/plain": [
       "array([[0.4682073 , 0.05945403],\n",
       "       [0.85611982, 0.21128669]])"
      ]
     },
     "execution_count": 55,
     "metadata": {},
     "output_type": "execute_result"
    }
   ],
   "source": [
    "#dot product between two arrays\n",
    "q =k.dot(l)\n",
    "q"
   ]
  },
  {
   "cell_type": "code",
   "execution_count": 56,
   "metadata": {
    "colab": {
     "base_uri": "https://localhost:8080/",
     "height": 54
    },
    "colab_type": "code",
    "executionInfo": {
     "elapsed": 920,
     "status": "ok",
     "timestamp": 1558717323754,
     "user": {
      "displayName": "Md. Josim Uddin",
      "photoUrl": "https://lh6.googleusercontent.com/-2M7C8k0AC7o/AAAAAAAAAAI/AAAAAAAADao/mZMp7-uOgNk/s64/photo.jpg",
      "userId": "09483004877373085284"
     },
     "user_tz": -360
    },
    "id": "_8d0P7JJxbuK",
    "outputId": "dfee0056-e922-463f-a3d5-c2c84c7c866f"
   },
   "outputs": [
    {
     "data": {
      "text/plain": [
       "array([[1, 2],\n",
       "       [3, 4]])"
      ]
     },
     "execution_count": 56,
     "metadata": {},
     "output_type": "execute_result"
    }
   ],
   "source": [
    "#create new array and transpose it\n",
    "a = np.array([[1,2],[3,4]])\n",
    "a"
   ]
  },
  {
   "cell_type": "code",
   "execution_count": 57,
   "metadata": {
    "colab": {
     "base_uri": "https://localhost:8080/",
     "height": 54
    },
    "colab_type": "code",
    "executionInfo": {
     "elapsed": 883,
     "status": "ok",
     "timestamp": 1558717354087,
     "user": {
      "displayName": "Md. Josim Uddin",
      "photoUrl": "https://lh6.googleusercontent.com/-2M7C8k0AC7o/AAAAAAAAAAI/AAAAAAAADao/mZMp7-uOgNk/s64/photo.jpg",
      "userId": "09483004877373085284"
     },
     "user_tz": -360
    },
    "id": "MSEWSwgHytXe",
    "outputId": "9481a922-946e-454b-a2c8-93e6bca69c11"
   },
   "outputs": [
    {
     "data": {
      "text/plain": [
       "array([[1, 3],\n",
       "       [2, 4]])"
      ]
     },
     "execution_count": 57,
     "metadata": {},
     "output_type": "execute_result"
    }
   ],
   "source": [
    "#transpose the array\n",
    "a.T"
   ]
  },
  {
   "cell_type": "code",
   "execution_count": 58,
   "metadata": {
    "colab": {
     "base_uri": "https://localhost:8080/",
     "height": 35
    },
    "colab_type": "code",
    "executionInfo": {
     "elapsed": 943,
     "status": "ok",
     "timestamp": 1558717524518,
     "user": {
      "displayName": "Md. Josim Uddin",
      "photoUrl": "https://lh6.googleusercontent.com/-2M7C8k0AC7o/AAAAAAAAAAI/AAAAAAAADao/mZMp7-uOgNk/s64/photo.jpg",
      "userId": "09483004877373085284"
     },
     "user_tz": -360
    },
    "id": "kERmGNamy0yI",
    "outputId": "c9058e4a-dda8-42a3-80db-65fc3e33390f"
   },
   "outputs": [
    {
     "data": {
      "text/plain": [
       "dtype('float32')"
      ]
     },
     "execution_count": 58,
     "metadata": {},
     "output_type": "execute_result"
    }
   ],
   "source": [
    "#check the datatype of elements in the array\n",
    "b = a.astype('f')\n",
    "b.dtype"
   ]
  },
  {
   "cell_type": "code",
   "execution_count": 59,
   "metadata": {
    "colab": {
     "base_uri": "https://localhost:8080/",
     "height": 35
    },
    "colab_type": "code",
    "executionInfo": {
     "elapsed": 896,
     "status": "ok",
     "timestamp": 1558717632659,
     "user": {
      "displayName": "Md. Josim Uddin",
      "photoUrl": "https://lh6.googleusercontent.com/-2M7C8k0AC7o/AAAAAAAAAAI/AAAAAAAADao/mZMp7-uOgNk/s64/photo.jpg",
      "userId": "09483004877373085284"
     },
     "user_tz": -360
    },
    "id": "OUNlDLtKzUL9",
    "outputId": "d43445f1-d560-4764-c912-235b5d7774d5"
   },
   "outputs": [
    {
     "data": {
      "text/plain": [
       "15"
      ]
     },
     "execution_count": 59,
     "metadata": {},
     "output_type": "execute_result"
    }
   ],
   "source": [
    "#mathematical functions in array\n",
    "#Summ of array\n",
    "c = np.array([1,2,3,4,5])\n",
    "c.sum()"
   ]
  },
  {
   "cell_type": "code",
   "execution_count": 60,
   "metadata": {
    "colab": {
     "base_uri": "https://localhost:8080/",
     "height": 35
    },
    "colab_type": "code",
    "executionInfo": {
     "elapsed": 935,
     "status": "ok",
     "timestamp": 1558717709831,
     "user": {
      "displayName": "Md. Josim Uddin",
      "photoUrl": "https://lh6.googleusercontent.com/-2M7C8k0AC7o/AAAAAAAAAAI/AAAAAAAADao/mZMp7-uOgNk/s64/photo.jpg",
      "userId": "09483004877373085284"
     },
     "user_tz": -360
    },
    "id": "8KMvWRJvz4x4",
    "outputId": "578b637d-5155-411e-d4eb-45b6dd10fb2d"
   },
   "outputs": [
    {
     "data": {
      "text/plain": [
       "5"
      ]
     },
     "execution_count": 60,
     "metadata": {},
     "output_type": "execute_result"
    }
   ],
   "source": [
    "#Max value in array\n",
    "c.max()"
   ]
  },
  {
   "cell_type": "code",
   "execution_count": 61,
   "metadata": {
    "colab": {
     "base_uri": "https://localhost:8080/",
     "height": 35
    },
    "colab_type": "code",
    "executionInfo": {
     "elapsed": 1030,
     "status": "ok",
     "timestamp": 1558717737848,
     "user": {
      "displayName": "Md. Josim Uddin",
      "photoUrl": "https://lh6.googleusercontent.com/-2M7C8k0AC7o/AAAAAAAAAAI/AAAAAAAADao/mZMp7-uOgNk/s64/photo.jpg",
      "userId": "09483004877373085284"
     },
     "user_tz": -360
    },
    "id": "22vnL4Hl0LnJ",
    "outputId": "72d31c2b-d4e0-41b7-e841-fbcde70e032c"
   },
   "outputs": [
    {
     "data": {
      "text/plain": [
       "3.0"
      ]
     },
     "execution_count": 61,
     "metadata": {},
     "output_type": "execute_result"
    }
   ],
   "source": [
    "# Mean value\n",
    "c.mean()"
   ]
  },
  {
   "cell_type": "code",
   "execution_count": 62,
   "metadata": {
    "colab": {
     "base_uri": "https://localhost:8080/",
     "height": 35
    },
    "colab_type": "code",
    "executionInfo": {
     "elapsed": 855,
     "status": "ok",
     "timestamp": 1558717774127,
     "user": {
      "displayName": "Md. Josim Uddin",
      "photoUrl": "https://lh6.googleusercontent.com/-2M7C8k0AC7o/AAAAAAAAAAI/AAAAAAAADao/mZMp7-uOgNk/s64/photo.jpg",
      "userId": "09483004877373085284"
     },
     "user_tz": -360
    },
    "id": "DsaR627Q0ScL",
    "outputId": "bd970733-9138-46a1-aa62-1db9557984ef"
   },
   "outputs": [
    {
     "data": {
      "text/plain": [
       "4"
      ]
     },
     "execution_count": 62,
     "metadata": {},
     "output_type": "execute_result"
    }
   ],
   "source": [
    "#index of the maximum value\n",
    "c.argmax()"
   ]
  },
  {
   "cell_type": "code",
   "execution_count": 63,
   "metadata": {
    "colab": {
     "base_uri": "https://localhost:8080/",
     "height": 35
    },
    "colab_type": "code",
    "executionInfo": {
     "elapsed": 1129,
     "status": "ok",
     "timestamp": 1558717951534,
     "user": {
      "displayName": "Md. Josim Uddin",
      "photoUrl": "https://lh6.googleusercontent.com/-2M7C8k0AC7o/AAAAAAAAAAI/AAAAAAAADao/mZMp7-uOgNk/s64/photo.jpg",
      "userId": "09483004877373085284"
     },
     "user_tz": -360
    },
    "id": "cFf1pNVf0bVu",
    "outputId": "a87ce826-da0e-477a-c96c-1a5bf2f851fd"
   },
   "outputs": [
    {
     "data": {
      "text/plain": [
       "array([ 0,  1,  4,  9, 16, 25, 36, 49, 64, 81], dtype=int32)"
      ]
     },
     "execution_count": 63,
     "metadata": {},
     "output_type": "execute_result"
    }
   ],
   "source": [
    "#Create an array consisting of square of first ten whole numbers\n",
    "d = np.arange(10)**2\n",
    "d"
   ]
  },
  {
   "cell_type": "code",
   "execution_count": 64,
   "metadata": {
    "colab": {
     "base_uri": "https://localhost:8080/",
     "height": 35
    },
    "colab_type": "code",
    "executionInfo": {
     "elapsed": 960,
     "status": "ok",
     "timestamp": 1558718023969,
     "user": {
      "displayName": "Md. Josim Uddin",
      "photoUrl": "https://lh6.googleusercontent.com/-2M7C8k0AC7o/AAAAAAAAAAI/AAAAAAAADao/mZMp7-uOgNk/s64/photo.jpg",
      "userId": "09483004877373085284"
     },
     "user_tz": -360
    },
    "id": "1cNWtj3-1GlP",
    "outputId": "e50a9f90-de4c-430a-f8f5-c80aa719c98a"
   },
   "outputs": [
    {
     "data": {
      "text/plain": [
       "81"
      ]
     },
     "execution_count": 64,
     "metadata": {},
     "output_type": "execute_result"
    }
   ],
   "source": [
    "#Use negative sign to access variables in reverse\n",
    "d[-1]"
   ]
  },
  {
   "cell_type": "code",
   "execution_count": 65,
   "metadata": {
    "colab": {
     "base_uri": "https://localhost:8080/",
     "height": 35
    },
    "colab_type": "code",
    "executionInfo": {
     "elapsed": 1167,
     "status": "ok",
     "timestamp": 1558718333768,
     "user": {
      "displayName": "Md. Josim Uddin",
      "photoUrl": "https://lh6.googleusercontent.com/-2M7C8k0AC7o/AAAAAAAAAAI/AAAAAAAADao/mZMp7-uOgNk/s64/photo.jpg",
      "userId": "09483004877373085284"
     },
     "user_tz": -360
    },
    "id": "GwsZ8efX1YT3",
    "outputId": "be5c3e30-1512-4621-a10d-4578e74063ab"
   },
   "outputs": [
    {
     "data": {
      "text/plain": [
       "array([ 1,  9, 25, 49, 81], dtype=int32)"
      ]
     },
     "execution_count": 65,
     "metadata": {},
     "output_type": "execute_result"
    }
   ],
   "source": [
    "#Access certain elements of the array based on a step size\n",
    "d[1:10:2] # d[start: stop: stepsize]"
   ]
  },
  {
   "cell_type": "code",
   "execution_count": 66,
   "metadata": {
    "colab": {
     "base_uri": "https://localhost:8080/",
     "height": 126
    },
    "colab_type": "code",
    "executionInfo": {
     "elapsed": 1071,
     "status": "ok",
     "timestamp": 1558718414555,
     "user": {
      "displayName": "Md. Josim Uddin",
      "photoUrl": "https://lh6.googleusercontent.com/-2M7C8k0AC7o/AAAAAAAAAAI/AAAAAAAADao/mZMp7-uOgNk/s64/photo.jpg",
      "userId": "09483004877373085284"
     },
     "user_tz": -360
    },
    "id": "SnqpVUwr1pS8",
    "outputId": "ecda4044-1df1-43fc-c9fb-ed313c82ca56"
   },
   "outputs": [
    {
     "data": {
      "text/plain": [
       "array([[ 0,  1,  2,  3,  4,  5],\n",
       "       [ 6,  7,  8,  9, 10, 11],\n",
       "       [12, 13, 14, 15, 16, 17],\n",
       "       [18, 19, 20, 21, 22, 23],\n",
       "       [24, 25, 26, 27, 28, 29],\n",
       "       [30, 31, 32, 33, 34, 35]])"
      ]
     },
     "execution_count": 66,
     "metadata": {},
     "output_type": "execute_result"
    }
   ],
   "source": [
    "#Create a multidimentional array\n",
    "e = np.arange(36)\n",
    "e.resize(6,6)\n",
    "e"
   ]
  },
  {
   "cell_type": "code",
   "execution_count": 67,
   "metadata": {
    "colab": {
     "base_uri": "https://localhost:8080/",
     "height": 35
    },
    "colab_type": "code",
    "executionInfo": {
     "elapsed": 992,
     "status": "ok",
     "timestamp": 1558718476610,
     "user": {
      "displayName": "Md. Josim Uddin",
      "photoUrl": "https://lh6.googleusercontent.com/-2M7C8k0AC7o/AAAAAAAAAAI/AAAAAAAADao/mZMp7-uOgNk/s64/photo.jpg",
      "userId": "09483004877373085284"
     },
     "user_tz": -360
    },
    "id": "upZqrdOd2yaX",
    "outputId": "e49a942e-eab4-455e-aae9-c73d56dd4b4f"
   },
   "outputs": [
    {
     "data": {
      "text/plain": [
       "8"
      ]
     },
     "execution_count": 67,
     "metadata": {},
     "output_type": "execute_result"
    }
   ],
   "source": [
    "#access the second row and third column\n",
    "e[1,2]"
   ]
  },
  {
   "cell_type": "code",
   "execution_count": 68,
   "metadata": {
    "colab": {
     "base_uri": "https://localhost:8080/",
     "height": 35
    },
    "colab_type": "code",
    "executionInfo": {
     "elapsed": 954,
     "status": "ok",
     "timestamp": 1558718737531,
     "user": {
      "displayName": "Md. Josim Uddin",
      "photoUrl": "https://lh6.googleusercontent.com/-2M7C8k0AC7o/AAAAAAAAAAI/AAAAAAAADao/mZMp7-uOgNk/s64/photo.jpg",
      "userId": "09483004877373085284"
     },
     "user_tz": -360
    },
    "id": "hw__eP-Q3Gx3",
    "outputId": "ca968c2d-b8bb-4580-c682-fdc641553169"
   },
   "outputs": [
    {
     "data": {
      "text/plain": [
       "array([ 8,  9, 10, 11])"
      ]
     },
     "execution_count": 68,
     "metadata": {},
     "output_type": "execute_result"
    }
   ],
   "source": [
    "#Access 2nd row and columns 3 to 7. Note that the numbering of the row and columns starts with 0\n",
    "e[1, 2:6]"
   ]
  },
  {
   "cell_type": "code",
   "execution_count": 69,
   "metadata": {
    "colab": {
     "base_uri": "https://localhost:8080/",
     "height": 54
    },
    "colab_type": "code",
    "executionInfo": {
     "elapsed": 2347,
     "status": "ok",
     "timestamp": 1558718828727,
     "user": {
      "displayName": "Md. Josim Uddin",
      "photoUrl": "https://lh6.googleusercontent.com/-2M7C8k0AC7o/AAAAAAAAAAI/AAAAAAAADao/mZMp7-uOgNk/s64/photo.jpg",
      "userId": "09483004877373085284"
     },
     "user_tz": -360
    },
    "id": "fVSdFm8Y39W1",
    "outputId": "1468184a-3c2d-4b91-dd05-e301b0d2a126"
   },
   "outputs": [
    {
     "data": {
      "text/plain": [
       "array([[ 0,  1,  2,  3,  4],\n",
       "       [ 6,  7,  8,  9, 10]])"
      ]
     },
     "execution_count": 69,
     "metadata": {},
     "output_type": "execute_result"
    }
   ],
   "source": [
    "#Select all rows till the 2 row and all culumns except last column\n",
    "e[:2,:-1]"
   ]
  },
  {
   "cell_type": "code",
   "execution_count": 70,
   "metadata": {
    "colab": {
     "base_uri": "https://localhost:8080/",
     "height": 35
    },
    "colab_type": "code",
    "executionInfo": {
     "elapsed": 889,
     "status": "ok",
     "timestamp": 1558719043377,
     "user": {
      "displayName": "Md. Josim Uddin",
      "photoUrl": "https://lh6.googleusercontent.com/-2M7C8k0AC7o/AAAAAAAAAAI/AAAAAAAADao/mZMp7-uOgNk/s64/photo.jpg",
      "userId": "09483004877373085284"
     },
     "user_tz": -360
    },
    "id": "pdEu-rb54ccB",
    "outputId": "d407f0f4-82aa-40b0-ab7b-ce9c3e7f8e37"
   },
   "outputs": [
    {
     "data": {
      "text/plain": [
       "array([21, 22, 23, 24, 25, 26, 27, 28, 29, 30, 31, 32, 33, 34, 35])"
      ]
     },
     "execution_count": 70,
     "metadata": {},
     "output_type": "execute_result"
    }
   ],
   "source": [
    "#Select values from array greater than 20\n",
    "e[e>20]"
   ]
  },
  {
   "cell_type": "code",
   "execution_count": 71,
   "metadata": {
    "colab": {
     "base_uri": "https://localhost:8080/",
     "height": 126
    },
    "colab_type": "code",
    "executionInfo": {
     "elapsed": 948,
     "status": "ok",
     "timestamp": 1558719138371,
     "user": {
      "displayName": "Md. Josim Uddin",
      "photoUrl": "https://lh6.googleusercontent.com/-2M7C8k0AC7o/AAAAAAAAAAI/AAAAAAAADao/mZMp7-uOgNk/s64/photo.jpg",
      "userId": "09483004877373085284"
     },
     "user_tz": -360
    },
    "id": "GYK-JjBy5RM_",
    "outputId": "53166a9e-759c-4b0c-c523-3093fb183c37"
   },
   "outputs": [
    {
     "data": {
      "text/plain": [
       "array([[ 0,  1,  2,  3,  4,  5],\n",
       "       [ 6,  7,  8,  9, 10, 11],\n",
       "       [12, 13, 14, 15, 16, 17],\n",
       "       [18, 19, 20, 20, 20, 20],\n",
       "       [20, 20, 20, 20, 20, 20],\n",
       "       [20, 20, 20, 20, 20, 20]])"
      ]
     },
     "execution_count": 71,
     "metadata": {},
     "output_type": "execute_result"
    }
   ],
   "source": [
    "#Assign value of the array elements as 20 if the element value is greather than 20\n",
    "e[e>20] = 20\n",
    "e"
   ]
  },
  {
   "cell_type": "code",
   "execution_count": 72,
   "metadata": {
    "colab": {
     "base_uri": "https://localhost:8080/",
     "height": 126
    },
    "colab_type": "code",
    "executionInfo": {
     "elapsed": 854,
     "status": "ok",
     "timestamp": 1558719250057,
     "user": {
      "displayName": "Md. Josim Uddin",
      "photoUrl": "https://lh6.googleusercontent.com/-2M7C8k0AC7o/AAAAAAAAAAI/AAAAAAAADao/mZMp7-uOgNk/s64/photo.jpg",
      "userId": "09483004877373085284"
     },
     "user_tz": -360
    },
    "id": "8w9m27Ty5nCO",
    "outputId": "a6f01537-90a6-4e33-b2a0-34c4dc245c3a"
   },
   "outputs": [
    {
     "data": {
      "text/plain": [
       "array([[ 0,  1,  2,  3,  4,  5],\n",
       "       [ 6,  7,  8,  9, 10, 11],\n",
       "       [12, 13, 14, 15, 16, 17],\n",
       "       [18, 19, 20, 20, 20, 20],\n",
       "       [20, 20, 20, 20, 20, 20],\n",
       "       [20, 20, 20, 20, 20, 20]])"
      ]
     },
     "execution_count": 72,
     "metadata": {},
     "output_type": "execute_result"
    }
   ],
   "source": [
    "#To copy an array onto another variable, always use the copy function\n",
    "f = e.copy()\n",
    "f"
   ]
  },
  {
   "cell_type": "code",
   "execution_count": 73,
   "metadata": {
    "colab": {
     "base_uri": "https://localhost:8080/",
     "height": 90
    },
    "colab_type": "code",
    "executionInfo": {
     "elapsed": 877,
     "status": "ok",
     "timestamp": 1558719429929,
     "user": {
      "displayName": "Md. Josim Uddin",
      "photoUrl": "https://lh6.googleusercontent.com/-2M7C8k0AC7o/AAAAAAAAAAI/AAAAAAAADao/mZMp7-uOgNk/s64/photo.jpg",
      "userId": "09483004877373085284"
     },
     "user_tz": -360
    },
    "id": "oN2KISC8562j",
    "outputId": "f48a3873-9cb9-4d1d-fa4b-102b135054c4"
   },
   "outputs": [
    {
     "data": {
      "text/plain": [
       "array([[9, 9, 1, 4],\n",
       "       [1, 5, 2, 9],\n",
       "       [7, 3, 5, 6],\n",
       "       [1, 9, 5, 8]])"
      ]
     },
     "execution_count": 73,
     "metadata": {},
     "output_type": "execute_result"
    }
   ],
   "source": [
    "#Create an array with a set of random integer between 1 and 10. specify the array to be of shape 4*4\n",
    "g= np.random.randint(1,10,(4,4))\n",
    "g"
   ]
  },
  {
   "cell_type": "markdown",
   "metadata": {
    "colab_type": "text",
    "id": "oCjz52KS6yZF"
   },
   "source": [
    "# Pandas Library"
   ]
  },
  {
   "cell_type": "markdown",
   "metadata": {
    "colab_type": "text",
    "id": "SzXrgUU6Ooku"
   },
   "source": [
    "**Pandas Series:** A Series is a one-dimensional data structure that can hold any data type such as integers and strings. It is similar to a list in Python."
   ]
  },
  {
   "cell_type": "code",
   "execution_count": 74,
   "metadata": {
    "colab": {},
    "colab_type": "code",
    "id": "f3VvWxxsPkfr"
   },
   "outputs": [],
   "source": [
    "#Import pandas library\n",
    "import pandas as pd"
   ]
  },
  {
   "cell_type": "code",
   "execution_count": 75,
   "metadata": {
    "colab": {
     "base_uri": "https://localhost:8080/",
     "height": 35
    },
    "colab_type": "code",
    "executionInfo": {
     "elapsed": 1030,
     "status": "ok",
     "timestamp": 1558724812119,
     "user": {
      "displayName": "Md. Josim Uddin",
      "photoUrl": "https://lh6.googleusercontent.com/-2M7C8k0AC7o/AAAAAAAAAAI/AAAAAAAADao/mZMp7-uOgNk/s64/photo.jpg",
      "userId": "09483004877373085284"
     },
     "user_tz": -360
    },
    "id": "uUx3pHre61lO",
    "outputId": "d8741cec-2b57-4613-a270-d6e75d20658d"
   },
   "outputs": [
    {
     "data": {
      "text/plain": [
       "['Josim', 'Roni', 'Monir']"
      ]
     },
     "execution_count": 75,
     "metadata": {},
     "output_type": "execute_result"
    }
   ],
   "source": [
    "#Create a list\n",
    "name = ['Josim','Roni','Monir']\n",
    "name"
   ]
  },
  {
   "cell_type": "code",
   "execution_count": 76,
   "metadata": {
    "colab": {
     "base_uri": "https://localhost:8080/",
     "height": 90
    },
    "colab_type": "code",
    "executionInfo": {
     "elapsed": 926,
     "status": "ok",
     "timestamp": 1558724939221,
     "user": {
      "displayName": "Md. Josim Uddin",
      "photoUrl": "https://lh6.googleusercontent.com/-2M7C8k0AC7o/AAAAAAAAAAI/AAAAAAAADao/mZMp7-uOgNk/s64/photo.jpg",
      "userId": "09483004877373085284"
     },
     "user_tz": -360
    },
    "id": "a6fivN98PQGP",
    "outputId": "e6fcb287-2c53-4f54-873b-d34df13b39c5"
   },
   "outputs": [
    {
     "data": {
      "text/plain": [
       "0    Josim\n",
       "1     Roni\n",
       "2    Monir\n",
       "dtype: object"
      ]
     },
     "execution_count": 76,
     "metadata": {},
     "output_type": "execute_result"
    }
   ],
   "source": [
    "#Convert the list to the pandas series\n",
    "name = pd.Series(name)\n",
    "name"
   ]
  },
  {
   "cell_type": "markdown",
   "metadata": {
    "colab_type": "text",
    "id": "CMuVPAMKQAIx"
   },
   "source": [
    "We can observe that a Pandas series shows the index along with the value in each position. Similarly, let’s create a dictionary and convert it to a Pandas series."
   ]
  },
  {
   "cell_type": "code",
   "execution_count": 77,
   "metadata": {
    "colab": {
     "base_uri": "https://localhost:8080/",
     "height": 90
    },
    "colab_type": "code",
    "executionInfo": {
     "elapsed": 949,
     "status": "ok",
     "timestamp": 1558725164121,
     "user": {
      "displayName": "Md. Josim Uddin",
      "photoUrl": "https://lh6.googleusercontent.com/-2M7C8k0AC7o/AAAAAAAAAAI/AAAAAAAADao/mZMp7-uOgNk/s64/photo.jpg",
      "userId": "09483004877373085284"
     },
     "user_tz": -360
    },
    "id": "55fiuBFCPd1B",
    "outputId": "0b4b226a-cdae-4aba-af42-95065c023a65"
   },
   "outputs": [
    {
     "data": {
      "text/plain": [
       "Cricket     Bangladesh\n",
       "Soccer              UK\n",
       "Football        Brazil\n",
       "dtype: object"
      ]
     },
     "execution_count": 77,
     "metadata": {},
     "output_type": "execute_result"
    }
   ],
   "source": [
    "#Create a dictionary\n",
    "sports = {'Cricket':'Bangladesh', 'Soccer': 'UK', 'Football':'Brazil'}\n",
    "sports = pd.Series(sports)\n",
    "sports"
   ]
  },
  {
   "cell_type": "markdown",
   "metadata": {
    "colab_type": "text",
    "id": "JWzdD6GVQs9G"
   },
   "source": [
    "The ‘keys’ of the dictionary become the index in the series and the ‘values’ of the dictionary remain as the values of the series. Let’s understand this further by querying a Pandas series."
   ]
  },
  {
   "cell_type": "markdown",
   "metadata": {
    "colab_type": "text",
    "id": "tYCFZOmDQ4Ng"
   },
   "source": [
    "**Querying A Pandas Series**"
   ]
  },
  {
   "cell_type": "code",
   "execution_count": 78,
   "metadata": {
    "colab": {
     "base_uri": "https://localhost:8080/",
     "height": 35
    },
    "colab_type": "code",
    "executionInfo": {
     "elapsed": 1010,
     "status": "ok",
     "timestamp": 1558725306908,
     "user": {
      "displayName": "Md. Josim Uddin",
      "photoUrl": "https://lh6.googleusercontent.com/-2M7C8k0AC7o/AAAAAAAAAAI/AAAAAAAADao/mZMp7-uOgNk/s64/photo.jpg",
      "userId": "09483004877373085284"
     },
     "user_tz": -360
    },
    "id": "Fd4CVI0tQhbt",
    "outputId": "472590a3-aa43-4187-8a2f-efb674514902"
   },
   "outputs": [
    {
     "data": {
      "text/plain": [
       "'Brazil'"
      ]
     },
     "execution_count": 78,
     "metadata": {},
     "output_type": "execute_result"
    }
   ],
   "source": [
    "#Access the value from the series using index number\n",
    "sports.iloc[2]"
   ]
  },
  {
   "cell_type": "code",
   "execution_count": 79,
   "metadata": {
    "colab": {
     "base_uri": "https://localhost:8080/",
     "height": 35
    },
    "colab_type": "code",
    "executionInfo": {
     "elapsed": 881,
     "status": "ok",
     "timestamp": 1558725538990,
     "user": {
      "displayName": "Md. Josim Uddin",
      "photoUrl": "https://lh6.googleusercontent.com/-2M7C8k0AC7o/AAAAAAAAAAI/AAAAAAAADao/mZMp7-uOgNk/s64/photo.jpg",
      "userId": "09483004877373085284"
     },
     "user_tz": -360
    },
    "id": "s3MI5V-eRKVp",
    "outputId": "d5c35a40-5acf-4282-eee8-92c87525d140"
   },
   "outputs": [
    {
     "data": {
      "text/plain": [
       "'Brazil'"
      ]
     },
     "execution_count": 79,
     "metadata": {},
     "output_type": "execute_result"
    }
   ],
   "source": [
    "#Access the vlaue from the series using key\n",
    "sports.loc['Football']"
   ]
  },
  {
   "cell_type": "code",
   "execution_count": 80,
   "metadata": {
    "colab": {
     "base_uri": "https://localhost:8080/",
     "height": 35
    },
    "colab_type": "code",
    "executionInfo": {
     "elapsed": 911,
     "status": "ok",
     "timestamp": 1558725751654,
     "user": {
      "displayName": "Md. Josim Uddin",
      "photoUrl": "https://lh6.googleusercontent.com/-2M7C8k0AC7o/AAAAAAAAAAI/AAAAAAAADao/mZMp7-uOgNk/s64/photo.jpg",
      "userId": "09483004877373085284"
     },
     "user_tz": -360
    },
    "id": "Z7wCjs4vR5FB",
    "outputId": "f96546db-0cb3-462d-efc5-135452f324b6"
   },
   "outputs": [
    {
     "data": {
      "text/plain": [
       "6"
      ]
     },
     "execution_count": 80,
     "metadata": {},
     "output_type": "execute_result"
    }
   ],
   "source": [
    "#Sum up the values in a series\n",
    "a=pd.Series([1,2,3])\n",
    "np.sum(a)"
   ]
  },
  {
   "cell_type": "code",
   "execution_count": 81,
   "metadata": {
    "colab": {
     "base_uri": "https://localhost:8080/",
     "height": 108
    },
    "colab_type": "code",
    "executionInfo": {
     "elapsed": 939,
     "status": "ok",
     "timestamp": 1558725978225,
     "user": {
      "displayName": "Md. Josim Uddin",
      "photoUrl": "https://lh6.googleusercontent.com/-2M7C8k0AC7o/AAAAAAAAAAI/AAAAAAAADao/mZMp7-uOgNk/s64/photo.jpg",
      "userId": "09483004877373085284"
     },
     "user_tz": -360
    },
    "id": "MEqx-UYVSyQA",
    "outputId": "ecf53c63-52a7-452a-9232-c4d2d6a6e485"
   },
   "outputs": [
    {
     "data": {
      "text/plain": [
       "0             1\n",
       "1             2\n",
       "2             3\n",
       "City    [Dhaka]\n",
       "dtype: object"
      ]
     },
     "execution_count": 81,
     "metadata": {},
     "output_type": "execute_result"
    }
   ],
   "source": [
    "#Add data to an existing series\n",
    "a = pd.Series([1,2,3])\n",
    "a.loc['City'] = ['Dhaka']\n",
    "a"
   ]
  },
  {
   "cell_type": "code",
   "execution_count": 82,
   "metadata": {
    "colab": {
     "base_uri": "https://localhost:8080/",
     "height": 108
    },
    "colab_type": "code",
    "executionInfo": {
     "elapsed": 798,
     "status": "ok",
     "timestamp": 1558726224073,
     "user": {
      "displayName": "Md. Josim Uddin",
      "photoUrl": "https://lh6.googleusercontent.com/-2M7C8k0AC7o/AAAAAAAAAAI/AAAAAAAADao/mZMp7-uOgNk/s64/photo.jpg",
      "userId": "09483004877373085284"
     },
     "user_tz": -360
    },
    "id": "eycGmHu3TPTa",
    "outputId": "cdd395b3-6914-4766-bc03-92e683ca565b"
   },
   "outputs": [
    {
     "data": {
      "text/plain": [
       "e    a\n",
       "e    b\n",
       "e    c\n",
       "e    d\n",
       "dtype: object"
      ]
     },
     "execution_count": 82,
     "metadata": {},
     "output_type": "execute_result"
    }
   ],
   "source": [
    "#Create a series with multiple values having same index\n",
    "b = pd.Series(['a', 'b', 'c','d'], index = ['e', 'e', 'e', 'e'])\n",
    "b"
   ]
  },
  {
   "cell_type": "markdown",
   "metadata": {
    "colab_type": "text",
    "id": "TC6aSIJBVEWz"
   },
   "source": [
    "**Pandas Dataframe:** Dataframe is a 2 dimensional data structure with columns of different data types(string, integer, date etc)"
   ]
  },
  {
   "cell_type": "code",
   "execution_count": 83,
   "metadata": {
    "colab": {
     "base_uri": "https://localhost:8080/",
     "height": 138
    },
    "colab_type": "code",
    "executionInfo": {
     "elapsed": 1167,
     "status": "ok",
     "timestamp": 1558726943579,
     "user": {
      "displayName": "Md. Josim Uddin",
      "photoUrl": "https://lh6.googleusercontent.com/-2M7C8k0AC7o/AAAAAAAAAAI/AAAAAAAADao/mZMp7-uOgNk/s64/photo.jpg",
      "userId": "09483004877373085284"
     },
     "user_tz": -360
    },
    "id": "uf0xoumtUqT9",
    "outputId": "79b3c48e-5dd0-45dd-b251-be7c35243de4"
   },
   "outputs": [
    {
     "data": {
      "text/html": [
       "<div>\n",
       "<style scoped>\n",
       "    .dataframe tbody tr th:only-of-type {\n",
       "        vertical-align: middle;\n",
       "    }\n",
       "\n",
       "    .dataframe tbody tr th {\n",
       "        vertical-align: top;\n",
       "    }\n",
       "\n",
       "    .dataframe thead th {\n",
       "        text-align: right;\n",
       "    }\n",
       "</style>\n",
       "<table border=\"1\" class=\"dataframe\">\n",
       "  <thead>\n",
       "    <tr style=\"text-align: right;\">\n",
       "      <th></th>\n",
       "      <th>Age</th>\n",
       "      <th>Name</th>\n",
       "      <th>Occupation</th>\n",
       "    </tr>\n",
       "  </thead>\n",
       "  <tbody>\n",
       "    <tr>\n",
       "      <th>1</th>\n",
       "      <td>25</td>\n",
       "      <td>John</td>\n",
       "      <td>Data Scientist</td>\n",
       "    </tr>\n",
       "    <tr>\n",
       "      <th>2</th>\n",
       "      <td>28</td>\n",
       "      <td>David</td>\n",
       "      <td>Analyst</td>\n",
       "    </tr>\n",
       "    <tr>\n",
       "      <th>3</th>\n",
       "      <td>30</td>\n",
       "      <td>Mark</td>\n",
       "      <td>Teacher</td>\n",
       "    </tr>\n",
       "  </tbody>\n",
       "</table>\n",
       "</div>"
      ],
      "text/plain": [
       "   Age   Name      Occupation\n",
       "1   25   John  Data Scientist\n",
       "2   28  David         Analyst\n",
       "3   30   Mark         Teacher"
      ]
     },
     "execution_count": 83,
     "metadata": {},
     "output_type": "execute_result"
    }
   ],
   "source": [
    "#Create dataset with three columns - Name, Occupation and age\n",
    "df1 = pd.DataFrame([{'Name' : 'John', 'Occupation' :  'Data Scientist', 'Age' : 25},\n",
    "                    {'Name' : 'David', 'Occupation' :  'Analyst', 'Age' : 28},\n",
    "                    {'Name' : 'Mark', 'Occupation' :  'Teacher', 'Age' : 30}],index=['1','2','3'] )\n",
    "df1"
   ]
  },
  {
   "cell_type": "code",
   "execution_count": 84,
   "metadata": {
    "colab": {
     "base_uri": "https://localhost:8080/",
     "height": 108
    },
    "colab_type": "code",
    "executionInfo": {
     "elapsed": 804,
     "status": "ok",
     "timestamp": 1558727384609,
     "user": {
      "displayName": "Md. Josim Uddin",
      "photoUrl": "https://lh6.googleusercontent.com/-2M7C8k0AC7o/AAAAAAAAAAI/AAAAAAAADao/mZMp7-uOgNk/s64/photo.jpg",
      "userId": "09483004877373085284"
     },
     "user_tz": -360
    },
    "id": "6JGR5zCFWvOn",
    "outputId": "1fc19bf1-e932-4cc6-ece3-2ff1adb7955d"
   },
   "outputs": [
    {
     "data": {
      "text/html": [
       "<div>\n",
       "<style scoped>\n",
       "    .dataframe tbody tr th:only-of-type {\n",
       "        vertical-align: middle;\n",
       "    }\n",
       "\n",
       "    .dataframe tbody tr th {\n",
       "        vertical-align: top;\n",
       "    }\n",
       "\n",
       "    .dataframe thead th {\n",
       "        text-align: right;\n",
       "    }\n",
       "</style>\n",
       "<table border=\"1\" class=\"dataframe\">\n",
       "  <thead>\n",
       "    <tr style=\"text-align: right;\">\n",
       "      <th></th>\n",
       "      <th>Name</th>\n",
       "      <th>Age</th>\n",
       "    </tr>\n",
       "  </thead>\n",
       "  <tbody>\n",
       "    <tr>\n",
       "      <th>1</th>\n",
       "      <td>Josim</td>\n",
       "      <td>27</td>\n",
       "    </tr>\n",
       "    <tr>\n",
       "      <th>2</th>\n",
       "      <td>Monir</td>\n",
       "      <td>24</td>\n",
       "    </tr>\n",
       "  </tbody>\n",
       "</table>\n",
       "</div>"
      ],
      "text/plain": [
       "    Name Age\n",
       "1  Josim  27\n",
       "2  Monir  24"
      ]
     },
     "execution_count": 84,
     "metadata": {},
     "output_type": "execute_result"
    }
   ],
   "source": [
    "#Create a dataframe by appending tow series\n",
    "s1 = pd.Series({'Name': 'Josim','Age':'27'})\n",
    "s2 = pd.Series({'Name': 'Monir','Age':'24'})\n",
    "df1 = pd.DataFrame([s1, s2], index = ['1', '2'])\n",
    "df1"
   ]
  },
  {
   "cell_type": "code",
   "execution_count": 85,
   "metadata": {
    "colab": {
     "base_uri": "https://localhost:8080/",
     "height": 108
    },
    "colab_type": "code",
    "executionInfo": {
     "elapsed": 930,
     "status": "ok",
     "timestamp": 1558727539292,
     "user": {
      "displayName": "Md. Josim Uddin",
      "photoUrl": "https://lh6.googleusercontent.com/-2M7C8k0AC7o/AAAAAAAAAAI/AAAAAAAADao/mZMp7-uOgNk/s64/photo.jpg",
      "userId": "09483004877373085284"
     },
     "user_tz": -360
    },
    "id": "z0PZ_kOmZFpD",
    "outputId": "864c0259-b0ca-47de-fa0d-7ad57688c7b4"
   },
   "outputs": [
    {
     "data": {
      "text/html": [
       "<div>\n",
       "<style scoped>\n",
       "    .dataframe tbody tr th:only-of-type {\n",
       "        vertical-align: middle;\n",
       "    }\n",
       "\n",
       "    .dataframe tbody tr th {\n",
       "        vertical-align: top;\n",
       "    }\n",
       "\n",
       "    .dataframe thead th {\n",
       "        text-align: right;\n",
       "    }\n",
       "</style>\n",
       "<table border=\"1\" class=\"dataframe\">\n",
       "  <thead>\n",
       "    <tr style=\"text-align: right;\">\n",
       "      <th></th>\n",
       "      <th>Id</th>\n",
       "      <th>SepalLengthCm</th>\n",
       "      <th>SepalWidthCm</th>\n",
       "      <th>PetalLengthCm</th>\n",
       "      <th>PetalWidthCm</th>\n",
       "      <th>Species</th>\n",
       "    </tr>\n",
       "  </thead>\n",
       "  <tbody>\n",
       "    <tr>\n",
       "      <th>0</th>\n",
       "      <td>1</td>\n",
       "      <td>5.1</td>\n",
       "      <td>3.5</td>\n",
       "      <td>1.4</td>\n",
       "      <td>0.2</td>\n",
       "      <td>Iris-setosa</td>\n",
       "    </tr>\n",
       "    <tr>\n",
       "      <th>1</th>\n",
       "      <td>2</td>\n",
       "      <td>4.9</td>\n",
       "      <td>3.0</td>\n",
       "      <td>1.4</td>\n",
       "      <td>0.2</td>\n",
       "      <td>Iris-setosa</td>\n",
       "    </tr>\n",
       "    <tr>\n",
       "      <th>2</th>\n",
       "      <td>3</td>\n",
       "      <td>4.7</td>\n",
       "      <td>3.2</td>\n",
       "      <td>1.3</td>\n",
       "      <td>0.2</td>\n",
       "      <td>Iris-setosa</td>\n",
       "    </tr>\n",
       "    <tr>\n",
       "      <th>3</th>\n",
       "      <td>4</td>\n",
       "      <td>4.6</td>\n",
       "      <td>3.1</td>\n",
       "      <td>1.5</td>\n",
       "      <td>0.2</td>\n",
       "      <td>Iris-setosa</td>\n",
       "    </tr>\n",
       "    <tr>\n",
       "      <th>4</th>\n",
       "      <td>5</td>\n",
       "      <td>5.0</td>\n",
       "      <td>3.6</td>\n",
       "      <td>1.4</td>\n",
       "      <td>0.2</td>\n",
       "      <td>Iris-setosa</td>\n",
       "    </tr>\n",
       "  </tbody>\n",
       "</table>\n",
       "</div>"
      ],
      "text/plain": [
       "   Id  SepalLengthCm  SepalWidthCm  PetalLengthCm  PetalWidthCm      Species\n",
       "0   1            5.1           3.5            1.4           0.2  Iris-setosa\n",
       "1   2            4.9           3.0            1.4           0.2  Iris-setosa\n",
       "2   3            4.7           3.2            1.3           0.2  Iris-setosa\n",
       "3   4            4.6           3.1            1.5           0.2  Iris-setosa\n",
       "4   5            5.0           3.6            1.4           0.2  Iris-setosa"
      ]
     },
     "execution_count": 85,
     "metadata": {},
     "output_type": "execute_result"
    }
   ],
   "source": [
    "#Read csv file\n",
    "iris = pd.read_csv('datasets/iris.csv')\n",
    "iris.head()"
   ]
  },
  {
   "cell_type": "code",
   "execution_count": 86,
   "metadata": {},
   "outputs": [],
   "source": [
    "iris.to_csv('datasets/iris2.csv')"
   ]
  },
  {
   "cell_type": "code",
   "execution_count": 87,
   "metadata": {},
   "outputs": [
    {
     "data": {
      "text/plain": [
       "array([  0,   1,   2,   3,   4,   5,   6,   7,   8,   9,  10,  11,  12,\n",
       "        13,  14,  15,  16,  17,  18,  19,  20,  21,  22,  23,  24,  25,\n",
       "        26,  27,  28,  29,  30,  31,  32,  33,  34,  35,  36,  37,  38,\n",
       "        39,  40,  41,  42,  43,  44,  45,  46,  47,  48,  49,  50,  51,\n",
       "        52,  53,  54,  55,  56,  57,  58,  59,  60,  61,  62,  63,  64,\n",
       "        65,  66,  67,  68,  69,  70,  71,  72,  73,  74,  75,  76,  77,\n",
       "        78,  79,  80,  81,  82,  83,  84,  85,  86,  87,  88,  89,  90,\n",
       "        91,  92,  93,  94,  95,  96,  97,  98,  99, 100, 101, 102, 103,\n",
       "       104, 105, 106, 107, 108, 109, 110, 111, 112, 113, 114, 115, 116,\n",
       "       117, 118, 119, 120, 121, 122, 123, 124, 125, 126, 127, 128, 129,\n",
       "       130, 131, 132, 133, 134, 135, 136, 137, 138, 139, 140, 141, 142,\n",
       "       143, 144, 145, 146, 147, 148, 149], dtype=int64)"
      ]
     },
     "execution_count": 87,
     "metadata": {},
     "output_type": "execute_result"
    }
   ],
   "source": [
    "#check index of the iris dataset\n",
    "iris.index.values"
   ]
  },
  {
   "cell_type": "code",
   "execution_count": 88,
   "metadata": {},
   "outputs": [
    {
     "data": {
      "text/html": [
       "<div>\n",
       "<style scoped>\n",
       "    .dataframe tbody tr th:only-of-type {\n",
       "        vertical-align: middle;\n",
       "    }\n",
       "\n",
       "    .dataframe tbody tr th {\n",
       "        vertical-align: top;\n",
       "    }\n",
       "\n",
       "    .dataframe thead th {\n",
       "        text-align: right;\n",
       "    }\n",
       "</style>\n",
       "<table border=\"1\" class=\"dataframe\">\n",
       "  <thead>\n",
       "    <tr style=\"text-align: right;\">\n",
       "      <th></th>\n",
       "      <th>SepalLengthCm</th>\n",
       "      <th>SepalWidthCm</th>\n",
       "      <th>PetalLengthCm</th>\n",
       "      <th>PetalWidthCm</th>\n",
       "      <th>Species</th>\n",
       "    </tr>\n",
       "    <tr>\n",
       "      <th>Id</th>\n",
       "      <th></th>\n",
       "      <th></th>\n",
       "      <th></th>\n",
       "      <th></th>\n",
       "      <th></th>\n",
       "    </tr>\n",
       "  </thead>\n",
       "  <tbody>\n",
       "    <tr>\n",
       "      <th>1</th>\n",
       "      <td>5.1</td>\n",
       "      <td>3.5</td>\n",
       "      <td>1.4</td>\n",
       "      <td>0.2</td>\n",
       "      <td>Iris-setosa</td>\n",
       "    </tr>\n",
       "    <tr>\n",
       "      <th>2</th>\n",
       "      <td>4.9</td>\n",
       "      <td>3.0</td>\n",
       "      <td>1.4</td>\n",
       "      <td>0.2</td>\n",
       "      <td>Iris-setosa</td>\n",
       "    </tr>\n",
       "    <tr>\n",
       "      <th>3</th>\n",
       "      <td>4.7</td>\n",
       "      <td>3.2</td>\n",
       "      <td>1.3</td>\n",
       "      <td>0.2</td>\n",
       "      <td>Iris-setosa</td>\n",
       "    </tr>\n",
       "    <tr>\n",
       "      <th>4</th>\n",
       "      <td>4.6</td>\n",
       "      <td>3.1</td>\n",
       "      <td>1.5</td>\n",
       "      <td>0.2</td>\n",
       "      <td>Iris-setosa</td>\n",
       "    </tr>\n",
       "    <tr>\n",
       "      <th>5</th>\n",
       "      <td>5.0</td>\n",
       "      <td>3.6</td>\n",
       "      <td>1.4</td>\n",
       "      <td>0.2</td>\n",
       "      <td>Iris-setosa</td>\n",
       "    </tr>\n",
       "  </tbody>\n",
       "</table>\n",
       "</div>"
      ],
      "text/plain": [
       "    SepalLengthCm  SepalWidthCm  PetalLengthCm  PetalWidthCm      Species\n",
       "Id                                                                       \n",
       "1             5.1           3.5            1.4           0.2  Iris-setosa\n",
       "2             4.9           3.0            1.4           0.2  Iris-setosa\n",
       "3             4.7           3.2            1.3           0.2  Iris-setosa\n",
       "4             4.6           3.1            1.5           0.2  Iris-setosa\n",
       "5             5.0           3.6            1.4           0.2  Iris-setosa"
      ]
     },
     "execution_count": 88,
     "metadata": {},
     "output_type": "execute_result"
    }
   ],
   "source": [
    "b = iris.set_index('Id')\n",
    "b.head()"
   ]
  },
  {
   "cell_type": "code",
   "execution_count": 89,
   "metadata": {},
   "outputs": [
    {
     "data": {
      "text/html": [
       "<div>\n",
       "<style scoped>\n",
       "    .dataframe tbody tr th:only-of-type {\n",
       "        vertical-align: middle;\n",
       "    }\n",
       "\n",
       "    .dataframe tbody tr th {\n",
       "        vertical-align: top;\n",
       "    }\n",
       "\n",
       "    .dataframe thead th {\n",
       "        text-align: right;\n",
       "    }\n",
       "</style>\n",
       "<table border=\"1\" class=\"dataframe\">\n",
       "  <thead>\n",
       "    <tr style=\"text-align: right;\">\n",
       "      <th></th>\n",
       "      <th>Id</th>\n",
       "      <th>SepalLengthCm</th>\n",
       "      <th>SepalWidthCm</th>\n",
       "      <th>PetalLengthCm</th>\n",
       "      <th>PetalWidthCm</th>\n",
       "      <th>Species</th>\n",
       "    </tr>\n",
       "  </thead>\n",
       "  <tbody>\n",
       "    <tr>\n",
       "      <th>0</th>\n",
       "      <td>1</td>\n",
       "      <td>5.1</td>\n",
       "      <td>3.5</td>\n",
       "      <td>1.4</td>\n",
       "      <td>0.2</td>\n",
       "      <td>Iris-setosa</td>\n",
       "    </tr>\n",
       "    <tr>\n",
       "      <th>1</th>\n",
       "      <td>2</td>\n",
       "      <td>4.9</td>\n",
       "      <td>3.0</td>\n",
       "      <td>1.4</td>\n",
       "      <td>0.2</td>\n",
       "      <td>Iris-setosa</td>\n",
       "    </tr>\n",
       "    <tr>\n",
       "      <th>2</th>\n",
       "      <td>3</td>\n",
       "      <td>4.7</td>\n",
       "      <td>3.2</td>\n",
       "      <td>1.3</td>\n",
       "      <td>0.2</td>\n",
       "      <td>Iris-setosa</td>\n",
       "    </tr>\n",
       "    <tr>\n",
       "      <th>3</th>\n",
       "      <td>4</td>\n",
       "      <td>4.6</td>\n",
       "      <td>3.1</td>\n",
       "      <td>1.5</td>\n",
       "      <td>0.2</td>\n",
       "      <td>Iris-setosa</td>\n",
       "    </tr>\n",
       "    <tr>\n",
       "      <th>4</th>\n",
       "      <td>5</td>\n",
       "      <td>5.0</td>\n",
       "      <td>3.6</td>\n",
       "      <td>1.4</td>\n",
       "      <td>0.2</td>\n",
       "      <td>Iris-setosa</td>\n",
       "    </tr>\n",
       "  </tbody>\n",
       "</table>\n",
       "</div>"
      ],
      "text/plain": [
       "   Id  SepalLengthCm  SepalWidthCm  PetalLengthCm  PetalWidthCm      Species\n",
       "0   1            5.1           3.5            1.4           0.2  Iris-setosa\n",
       "1   2            4.9           3.0            1.4           0.2  Iris-setosa\n",
       "2   3            4.7           3.2            1.3           0.2  Iris-setosa\n",
       "3   4            4.6           3.1            1.5           0.2  Iris-setosa\n",
       "4   5            5.0           3.6            1.4           0.2  Iris-setosa"
      ]
     },
     "execution_count": 89,
     "metadata": {},
     "output_type": "execute_result"
    }
   ],
   "source": [
    "#Revert to the previous index\n",
    "c = b.reset_index()\n",
    "c.head()"
   ]
  },
  {
   "cell_type": "code",
   "execution_count": 90,
   "metadata": {
    "colab": {},
    "colab_type": "code",
    "id": "HlV2fLOLZpkz"
   },
   "outputs": [
    {
     "data": {
      "text/html": [
       "<div>\n",
       "<style scoped>\n",
       "    .dataframe tbody tr th:only-of-type {\n",
       "        vertical-align: middle;\n",
       "    }\n",
       "\n",
       "    .dataframe tbody tr th {\n",
       "        vertical-align: top;\n",
       "    }\n",
       "\n",
       "    .dataframe thead th {\n",
       "        text-align: right;\n",
       "    }\n",
       "</style>\n",
       "<table border=\"1\" class=\"dataframe\">\n",
       "  <thead>\n",
       "    <tr style=\"text-align: right;\">\n",
       "      <th></th>\n",
       "      <th>Name</th>\n",
       "      <th>Species</th>\n",
       "    </tr>\n",
       "  </thead>\n",
       "  <tbody>\n",
       "    <tr>\n",
       "      <th>0</th>\n",
       "      <td>setosa</td>\n",
       "      <td>Species 1</td>\n",
       "    </tr>\n",
       "    <tr>\n",
       "      <th>1</th>\n",
       "      <td>versicolor</td>\n",
       "      <td>Species 2</td>\n",
       "    </tr>\n",
       "    <tr>\n",
       "      <th>2</th>\n",
       "      <td>virginiaca</td>\n",
       "      <td>Species 3</td>\n",
       "    </tr>\n",
       "  </tbody>\n",
       "</table>\n",
       "</div>"
      ],
      "text/plain": [
       "         Name    Species\n",
       "0      setosa  Species 1\n",
       "1  versicolor  Species 2\n",
       "2  virginiaca  Species 3"
      ]
     },
     "execution_count": 90,
     "metadata": {},
     "output_type": "execute_result"
    }
   ],
   "source": [
    "#Create a new dataframe to mearge with csv data\n",
    "df2 = pd.DataFrame([{'Species':'Species 1', 'Name':'setosa'},\n",
    "                   {'Species':'Species 2', 'Name':'versicolor'},\n",
    "                   {'Species':'Species 3', 'Name':'virginiaca'}])\n",
    "df2"
   ]
  },
  {
   "cell_type": "code",
   "execution_count": 91,
   "metadata": {},
   "outputs": [
    {
     "data": {
      "text/html": [
       "<div>\n",
       "<style scoped>\n",
       "    .dataframe tbody tr th:only-of-type {\n",
       "        vertical-align: middle;\n",
       "    }\n",
       "\n",
       "    .dataframe tbody tr th {\n",
       "        vertical-align: top;\n",
       "    }\n",
       "\n",
       "    .dataframe thead th {\n",
       "        text-align: right;\n",
       "    }\n",
       "</style>\n",
       "<table border=\"1\" class=\"dataframe\">\n",
       "  <thead>\n",
       "    <tr style=\"text-align: right;\">\n",
       "      <th></th>\n",
       "      <th>Id</th>\n",
       "      <th>SepalLengthCm</th>\n",
       "      <th>SepalWidthCm</th>\n",
       "      <th>PetalLengthCm</th>\n",
       "      <th>PetalWidthCm</th>\n",
       "      <th>Species</th>\n",
       "      <th>Name</th>\n",
       "    </tr>\n",
       "  </thead>\n",
       "  <tbody>\n",
       "  </tbody>\n",
       "</table>\n",
       "</div>"
      ],
      "text/plain": [
       "Empty DataFrame\n",
       "Columns: [Id, SepalLengthCm, SepalWidthCm, PetalLengthCm, PetalWidthCm, Species, Name]\n",
       "Index: []"
      ]
     },
     "execution_count": 91,
     "metadata": {},
     "output_type": "execute_result"
    }
   ],
   "source": [
    "#Merge the above two datasets on the Name column by performing an inner join\n",
    "df3 = pd.merge(c, df2, how = 'inner',left_on='Species', right_on= 'Species')\n",
    "df3.head()"
   ]
  },
  {
   "cell_type": "markdown",
   "metadata": {},
   "source": [
    "**Aggregate Function**"
   ]
  },
  {
   "cell_type": "code",
   "execution_count": 92,
   "metadata": {},
   "outputs": [
    {
     "data": {
      "text/plain": [
       "Species\n",
       "Iris-setosa        5.006\n",
       "Iris-versicolor    5.936\n",
       "Iris-virginica     6.588\n",
       "Name: SepalLengthCm, dtype: float64"
      ]
     },
     "execution_count": 92,
     "metadata": {},
     "output_type": "execute_result"
    }
   ],
   "source": [
    "iris.groupby('Species')['SepalLengthCm'].mean()"
   ]
  },
  {
   "cell_type": "code",
   "execution_count": 93,
   "metadata": {},
   "outputs": [
    {
     "data": {
      "text/html": [
       "<div>\n",
       "<style scoped>\n",
       "    .dataframe tbody tr th:only-of-type {\n",
       "        vertical-align: middle;\n",
       "    }\n",
       "\n",
       "    .dataframe tbody tr th {\n",
       "        vertical-align: top;\n",
       "    }\n",
       "\n",
       "    .dataframe thead th {\n",
       "        text-align: right;\n",
       "    }\n",
       "</style>\n",
       "<table border=\"1\" class=\"dataframe\">\n",
       "  <thead>\n",
       "    <tr style=\"text-align: right;\">\n",
       "      <th></th>\n",
       "      <th>SepalLengthCm</th>\n",
       "      <th>SepalWidthCm</th>\n",
       "      <th>PetalLengthCm</th>\n",
       "      <th>PetalWidthCm</th>\n",
       "    </tr>\n",
       "    <tr>\n",
       "      <th>Species</th>\n",
       "      <th></th>\n",
       "      <th></th>\n",
       "      <th></th>\n",
       "      <th></th>\n",
       "    </tr>\n",
       "  </thead>\n",
       "  <tbody>\n",
       "    <tr>\n",
       "      <th>Iris-setosa</th>\n",
       "      <td>5.006</td>\n",
       "      <td>3.418</td>\n",
       "      <td>1.464</td>\n",
       "      <td>0.244</td>\n",
       "    </tr>\n",
       "    <tr>\n",
       "      <th>Iris-versicolor</th>\n",
       "      <td>5.936</td>\n",
       "      <td>2.770</td>\n",
       "      <td>4.260</td>\n",
       "      <td>1.326</td>\n",
       "    </tr>\n",
       "    <tr>\n",
       "      <th>Iris-virginica</th>\n",
       "      <td>6.588</td>\n",
       "      <td>2.974</td>\n",
       "      <td>5.552</td>\n",
       "      <td>2.026</td>\n",
       "    </tr>\n",
       "  </tbody>\n",
       "</table>\n",
       "</div>"
      ],
      "text/plain": [
       "                 SepalLengthCm  SepalWidthCm  PetalLengthCm  PetalWidthCm\n",
       "Species                                                                  \n",
       "Iris-setosa              5.006         3.418          1.464         0.244\n",
       "Iris-versicolor          5.936         2.770          4.260         1.326\n",
       "Iris-virginica           6.588         2.974          5.552         2.026"
      ]
     },
     "execution_count": 93,
     "metadata": {},
     "output_type": "execute_result"
    }
   ],
   "source": [
    "#Average of all the numerical columns by species\n",
    "iris.groupby('Species')[['SepalLengthCm', 'SepalWidthCm', 'PetalLengthCm', 'PetalWidthCm']].mean()"
   ]
  },
  {
   "cell_type": "code",
   "execution_count": 94,
   "metadata": {},
   "outputs": [
    {
     "data": {
      "text/html": [
       "<div>\n",
       "<style scoped>\n",
       "    .dataframe tbody tr th:only-of-type {\n",
       "        vertical-align: middle;\n",
       "    }\n",
       "\n",
       "    .dataframe tbody tr th {\n",
       "        vertical-align: top;\n",
       "    }\n",
       "\n",
       "    .dataframe thead th {\n",
       "        text-align: right;\n",
       "    }\n",
       "</style>\n",
       "<table border=\"1\" class=\"dataframe\">\n",
       "  <thead>\n",
       "    <tr style=\"text-align: right;\">\n",
       "      <th></th>\n",
       "      <th>SepalLengthCm</th>\n",
       "      <th>SepalWidthCm</th>\n",
       "    </tr>\n",
       "    <tr>\n",
       "      <th>Species</th>\n",
       "      <th></th>\n",
       "      <th></th>\n",
       "    </tr>\n",
       "  </thead>\n",
       "  <tbody>\n",
       "    <tr>\n",
       "      <th>Iris-setosa</th>\n",
       "      <td>5.006</td>\n",
       "      <td>170.9</td>\n",
       "    </tr>\n",
       "    <tr>\n",
       "      <th>Iris-versicolor</th>\n",
       "      <td>5.936</td>\n",
       "      <td>138.5</td>\n",
       "    </tr>\n",
       "    <tr>\n",
       "      <th>Iris-virginica</th>\n",
       "      <td>6.588</td>\n",
       "      <td>148.7</td>\n",
       "    </tr>\n",
       "  </tbody>\n",
       "</table>\n",
       "</div>"
      ],
      "text/plain": [
       "                 SepalLengthCm  SepalWidthCm\n",
       "Species                                     \n",
       "Iris-setosa              5.006         170.9\n",
       "Iris-versicolor          5.936         138.5\n",
       "Iris-virginica           6.588         148.7"
      ]
     },
     "execution_count": 94,
     "metadata": {},
     "output_type": "execute_result"
    }
   ],
   "source": [
    "a = iris.groupby('Species').agg({'SepalLengthCm':'mean', 'SepalWidthCm':'sum'})\n",
    "a"
   ]
  },
  {
   "cell_type": "code",
   "execution_count": 95,
   "metadata": {},
   "outputs": [
    {
     "data": {
      "text/html": [
       "<div>\n",
       "<style scoped>\n",
       "    .dataframe tbody tr th:only-of-type {\n",
       "        vertical-align: middle;\n",
       "    }\n",
       "\n",
       "    .dataframe tbody tr th {\n",
       "        vertical-align: top;\n",
       "    }\n",
       "\n",
       "    .dataframe thead th {\n",
       "        text-align: right;\n",
       "    }\n",
       "</style>\n",
       "<table border=\"1\" class=\"dataframe\">\n",
       "  <thead>\n",
       "    <tr style=\"text-align: right;\">\n",
       "      <th></th>\n",
       "      <th>Avg_SepalLength</th>\n",
       "      <th>Sum_SeapalWidth</th>\n",
       "    </tr>\n",
       "    <tr>\n",
       "      <th>Species</th>\n",
       "      <th></th>\n",
       "      <th></th>\n",
       "    </tr>\n",
       "  </thead>\n",
       "  <tbody>\n",
       "    <tr>\n",
       "      <th>Iris-setosa</th>\n",
       "      <td>5.006</td>\n",
       "      <td>170.9</td>\n",
       "    </tr>\n",
       "    <tr>\n",
       "      <th>Iris-versicolor</th>\n",
       "      <td>5.936</td>\n",
       "      <td>138.5</td>\n",
       "    </tr>\n",
       "    <tr>\n",
       "      <th>Iris-virginica</th>\n",
       "      <td>6.588</td>\n",
       "      <td>148.7</td>\n",
       "    </tr>\n",
       "  </tbody>\n",
       "</table>\n",
       "</div>"
      ],
      "text/plain": [
       "                 Avg_SepalLength  Sum_SeapalWidth\n",
       "Species                                          \n",
       "Iris-setosa                5.006            170.9\n",
       "Iris-versicolor            5.936            138.5\n",
       "Iris-virginica             6.588            148.7"
      ]
     },
     "execution_count": 95,
     "metadata": {},
     "output_type": "execute_result"
    }
   ],
   "source": [
    "a.rename(columns = {'SepalLengthCm':'Avg_SepalLength', 'SepalWidthCm':'Sum_SeapalWidth'})"
   ]
  },
  {
   "cell_type": "markdown",
   "metadata": {},
   "source": [
    "**Filtering DataFram**"
   ]
  },
  {
   "cell_type": "code",
   "execution_count": 96,
   "metadata": {},
   "outputs": [
    {
     "data": {
      "text/html": [
       "<div>\n",
       "<style scoped>\n",
       "    .dataframe tbody tr th:only-of-type {\n",
       "        vertical-align: middle;\n",
       "    }\n",
       "\n",
       "    .dataframe tbody tr th {\n",
       "        vertical-align: top;\n",
       "    }\n",
       "\n",
       "    .dataframe thead th {\n",
       "        text-align: right;\n",
       "    }\n",
       "</style>\n",
       "<table border=\"1\" class=\"dataframe\">\n",
       "  <thead>\n",
       "    <tr style=\"text-align: right;\">\n",
       "      <th></th>\n",
       "      <th>Id</th>\n",
       "      <th>SepalLengthCm</th>\n",
       "      <th>SepalWidthCm</th>\n",
       "      <th>PetalLengthCm</th>\n",
       "      <th>PetalWidthCm</th>\n",
       "      <th>Species</th>\n",
       "    </tr>\n",
       "  </thead>\n",
       "  <tbody>\n",
       "    <tr>\n",
       "      <th>102</th>\n",
       "      <td>103</td>\n",
       "      <td>7.1</td>\n",
       "      <td>3.0</td>\n",
       "      <td>5.9</td>\n",
       "      <td>2.1</td>\n",
       "      <td>Iris-virginica</td>\n",
       "    </tr>\n",
       "    <tr>\n",
       "      <th>105</th>\n",
       "      <td>106</td>\n",
       "      <td>7.6</td>\n",
       "      <td>3.0</td>\n",
       "      <td>6.6</td>\n",
       "      <td>2.1</td>\n",
       "      <td>Iris-virginica</td>\n",
       "    </tr>\n",
       "    <tr>\n",
       "      <th>107</th>\n",
       "      <td>108</td>\n",
       "      <td>7.3</td>\n",
       "      <td>2.9</td>\n",
       "      <td>6.3</td>\n",
       "      <td>1.8</td>\n",
       "      <td>Iris-virginica</td>\n",
       "    </tr>\n",
       "    <tr>\n",
       "      <th>109</th>\n",
       "      <td>110</td>\n",
       "      <td>7.2</td>\n",
       "      <td>3.6</td>\n",
       "      <td>6.1</td>\n",
       "      <td>2.5</td>\n",
       "      <td>Iris-virginica</td>\n",
       "    </tr>\n",
       "    <tr>\n",
       "      <th>117</th>\n",
       "      <td>118</td>\n",
       "      <td>7.7</td>\n",
       "      <td>3.8</td>\n",
       "      <td>6.7</td>\n",
       "      <td>2.2</td>\n",
       "      <td>Iris-virginica</td>\n",
       "    </tr>\n",
       "  </tbody>\n",
       "</table>\n",
       "</div>"
      ],
      "text/plain": [
       "      Id  SepalLengthCm  SepalWidthCm  PetalLengthCm  PetalWidthCm  \\\n",
       "102  103            7.1           3.0            5.9           2.1   \n",
       "105  106            7.6           3.0            6.6           2.1   \n",
       "107  108            7.3           2.9            6.3           1.8   \n",
       "109  110            7.2           3.6            6.1           2.5   \n",
       "117  118            7.7           3.8            6.7           2.2   \n",
       "\n",
       "            Species  \n",
       "102  Iris-virginica  \n",
       "105  Iris-virginica  \n",
       "107  Iris-virginica  \n",
       "109  Iris-virginica  \n",
       "117  Iris-virginica  "
      ]
     },
     "execution_count": 96,
     "metadata": {},
     "output_type": "execute_result"
    }
   ],
   "source": [
    "a = iris[(iris.SepalLengthCm > 7)]\n",
    "a.head()"
   ]
  },
  {
   "cell_type": "code",
   "execution_count": 97,
   "metadata": {},
   "outputs": [
    {
     "data": {
      "text/html": [
       "<div>\n",
       "<style scoped>\n",
       "    .dataframe tbody tr th:only-of-type {\n",
       "        vertical-align: middle;\n",
       "    }\n",
       "\n",
       "    .dataframe tbody tr th {\n",
       "        vertical-align: top;\n",
       "    }\n",
       "\n",
       "    .dataframe thead th {\n",
       "        text-align: right;\n",
       "    }\n",
       "</style>\n",
       "<table border=\"1\" class=\"dataframe\">\n",
       "  <thead>\n",
       "    <tr style=\"text-align: right;\">\n",
       "      <th></th>\n",
       "      <th>Id</th>\n",
       "      <th>SepalLengthCm</th>\n",
       "      <th>SepalWidthCm</th>\n",
       "      <th>PetalLengthCm</th>\n",
       "      <th>PetalWidthCm</th>\n",
       "      <th>Species</th>\n",
       "    </tr>\n",
       "  </thead>\n",
       "  <tbody>\n",
       "    <tr>\n",
       "      <th>105</th>\n",
       "      <td>106</td>\n",
       "      <td>7.6</td>\n",
       "      <td>3.0</td>\n",
       "      <td>6.6</td>\n",
       "      <td>2.1</td>\n",
       "      <td>Iris-virginica</td>\n",
       "    </tr>\n",
       "    <tr>\n",
       "      <th>107</th>\n",
       "      <td>108</td>\n",
       "      <td>7.3</td>\n",
       "      <td>2.9</td>\n",
       "      <td>6.3</td>\n",
       "      <td>1.8</td>\n",
       "      <td>Iris-virginica</td>\n",
       "    </tr>\n",
       "    <tr>\n",
       "      <th>109</th>\n",
       "      <td>110</td>\n",
       "      <td>7.2</td>\n",
       "      <td>3.6</td>\n",
       "      <td>6.1</td>\n",
       "      <td>2.5</td>\n",
       "      <td>Iris-virginica</td>\n",
       "    </tr>\n",
       "    <tr>\n",
       "      <th>117</th>\n",
       "      <td>118</td>\n",
       "      <td>7.7</td>\n",
       "      <td>3.8</td>\n",
       "      <td>6.7</td>\n",
       "      <td>2.2</td>\n",
       "      <td>Iris-virginica</td>\n",
       "    </tr>\n",
       "    <tr>\n",
       "      <th>118</th>\n",
       "      <td>119</td>\n",
       "      <td>7.7</td>\n",
       "      <td>2.6</td>\n",
       "      <td>6.9</td>\n",
       "      <td>2.3</td>\n",
       "      <td>Iris-virginica</td>\n",
       "    </tr>\n",
       "  </tbody>\n",
       "</table>\n",
       "</div>"
      ],
      "text/plain": [
       "      Id  SepalLengthCm  SepalWidthCm  PetalLengthCm  PetalWidthCm  \\\n",
       "105  106            7.6           3.0            6.6           2.1   \n",
       "107  108            7.3           2.9            6.3           1.8   \n",
       "109  110            7.2           3.6            6.1           2.5   \n",
       "117  118            7.7           3.8            6.7           2.2   \n",
       "118  119            7.7           2.6            6.9           2.3   \n",
       "\n",
       "            Species  \n",
       "105  Iris-virginica  \n",
       "107  Iris-virginica  \n",
       "109  Iris-virginica  \n",
       "117  Iris-virginica  \n",
       "118  Iris-virginica  "
      ]
     },
     "execution_count": 97,
     "metadata": {},
     "output_type": "execute_result"
    }
   ],
   "source": [
    "#Subset the data based on two conditions\n",
    "b =iris[(iris.SepalLengthCm >5) & (iris.PetalLengthCm > 6)]\n",
    "b.head()"
   ]
  },
  {
   "cell_type": "code",
   "execution_count": 98,
   "metadata": {},
   "outputs": [
    {
     "data": {
      "text/html": [
       "<div>\n",
       "<style scoped>\n",
       "    .dataframe tbody tr th:only-of-type {\n",
       "        vertical-align: middle;\n",
       "    }\n",
       "\n",
       "    .dataframe tbody tr th {\n",
       "        vertical-align: top;\n",
       "    }\n",
       "\n",
       "    .dataframe thead th {\n",
       "        text-align: right;\n",
       "    }\n",
       "</style>\n",
       "<table border=\"1\" class=\"dataframe\">\n",
       "  <thead>\n",
       "    <tr style=\"text-align: right;\">\n",
       "      <th></th>\n",
       "      <th>Id</th>\n",
       "      <th>SepalLengthCm</th>\n",
       "      <th>SepalWidthCm</th>\n",
       "      <th>PetalLengthCm</th>\n",
       "      <th>PetalWidthCm</th>\n",
       "      <th>Species</th>\n",
       "    </tr>\n",
       "  </thead>\n",
       "  <tbody>\n",
       "    <tr>\n",
       "      <th>50</th>\n",
       "      <td>51</td>\n",
       "      <td>7.0</td>\n",
       "      <td>3.2</td>\n",
       "      <td>4.7</td>\n",
       "      <td>1.4</td>\n",
       "      <td>Iris-versicolor</td>\n",
       "    </tr>\n",
       "    <tr>\n",
       "      <th>51</th>\n",
       "      <td>52</td>\n",
       "      <td>6.4</td>\n",
       "      <td>3.2</td>\n",
       "      <td>4.5</td>\n",
       "      <td>1.5</td>\n",
       "      <td>Iris-versicolor</td>\n",
       "    </tr>\n",
       "    <tr>\n",
       "      <th>52</th>\n",
       "      <td>53</td>\n",
       "      <td>6.9</td>\n",
       "      <td>3.1</td>\n",
       "      <td>4.9</td>\n",
       "      <td>1.5</td>\n",
       "      <td>Iris-versicolor</td>\n",
       "    </tr>\n",
       "    <tr>\n",
       "      <th>53</th>\n",
       "      <td>54</td>\n",
       "      <td>5.5</td>\n",
       "      <td>2.3</td>\n",
       "      <td>4.0</td>\n",
       "      <td>1.3</td>\n",
       "      <td>Iris-versicolor</td>\n",
       "    </tr>\n",
       "    <tr>\n",
       "      <th>54</th>\n",
       "      <td>55</td>\n",
       "      <td>6.5</td>\n",
       "      <td>2.8</td>\n",
       "      <td>4.6</td>\n",
       "      <td>1.5</td>\n",
       "      <td>Iris-versicolor</td>\n",
       "    </tr>\n",
       "  </tbody>\n",
       "</table>\n",
       "</div>"
      ],
      "text/plain": [
       "    Id  SepalLengthCm  SepalWidthCm  PetalLengthCm  PetalWidthCm  \\\n",
       "50  51            7.0           3.2            4.7           1.4   \n",
       "51  52            6.4           3.2            4.5           1.5   \n",
       "52  53            6.9           3.1            4.9           1.5   \n",
       "53  54            5.5           2.3            4.0           1.3   \n",
       "54  55            6.5           2.8            4.6           1.5   \n",
       "\n",
       "            Species  \n",
       "50  Iris-versicolor  \n",
       "51  Iris-versicolor  \n",
       "52  Iris-versicolor  \n",
       "53  Iris-versicolor  \n",
       "54  Iris-versicolor  "
      ]
     },
     "execution_count": 98,
     "metadata": {},
     "output_type": "execute_result"
    }
   ],
   "source": [
    "#Subset the data by filtering on the Species column\n",
    "c =iris[iris['Species'] == 'Iris-versicolor']\n",
    "c.head()"
   ]
  },
  {
   "cell_type": "code",
   "execution_count": 99,
   "metadata": {},
   "outputs": [
    {
     "data": {
      "text/html": [
       "<div>\n",
       "<style scoped>\n",
       "    .dataframe tbody tr th:only-of-type {\n",
       "        vertical-align: middle;\n",
       "    }\n",
       "\n",
       "    .dataframe tbody tr th {\n",
       "        vertical-align: top;\n",
       "    }\n",
       "\n",
       "    .dataframe thead th {\n",
       "        text-align: right;\n",
       "    }\n",
       "</style>\n",
       "<table border=\"1\" class=\"dataframe\">\n",
       "  <thead>\n",
       "    <tr style=\"text-align: right;\">\n",
       "      <th></th>\n",
       "      <th>Id</th>\n",
       "      <th>SepalLengthCm</th>\n",
       "      <th>SepalWidthCm</th>\n",
       "      <th>PetalLengthCm</th>\n",
       "      <th>PetalWidthCm</th>\n",
       "      <th>Species</th>\n",
       "    </tr>\n",
       "  </thead>\n",
       "  <tbody>\n",
       "    <tr>\n",
       "      <th>50</th>\n",
       "      <td>51</td>\n",
       "      <td>7.0</td>\n",
       "      <td>3.2</td>\n",
       "      <td>4.7</td>\n",
       "      <td>1.4</td>\n",
       "      <td>Iris-versicolor</td>\n",
       "    </tr>\n",
       "    <tr>\n",
       "      <th>51</th>\n",
       "      <td>52</td>\n",
       "      <td>6.4</td>\n",
       "      <td>3.2</td>\n",
       "      <td>4.5</td>\n",
       "      <td>1.5</td>\n",
       "      <td>Iris-versicolor</td>\n",
       "    </tr>\n",
       "    <tr>\n",
       "      <th>52</th>\n",
       "      <td>53</td>\n",
       "      <td>6.9</td>\n",
       "      <td>3.1</td>\n",
       "      <td>4.9</td>\n",
       "      <td>1.5</td>\n",
       "      <td>Iris-versicolor</td>\n",
       "    </tr>\n",
       "    <tr>\n",
       "      <th>53</th>\n",
       "      <td>54</td>\n",
       "      <td>5.5</td>\n",
       "      <td>2.3</td>\n",
       "      <td>4.0</td>\n",
       "      <td>1.3</td>\n",
       "      <td>Iris-versicolor</td>\n",
       "    </tr>\n",
       "    <tr>\n",
       "      <th>54</th>\n",
       "      <td>55</td>\n",
       "      <td>6.5</td>\n",
       "      <td>2.8</td>\n",
       "      <td>4.6</td>\n",
       "      <td>1.5</td>\n",
       "      <td>Iris-versicolor</td>\n",
       "    </tr>\n",
       "  </tbody>\n",
       "</table>\n",
       "</div>"
      ],
      "text/plain": [
       "    Id  SepalLengthCm  SepalWidthCm  PetalLengthCm  PetalWidthCm  \\\n",
       "50  51            7.0           3.2            4.7           1.4   \n",
       "51  52            6.4           3.2            4.5           1.5   \n",
       "52  53            6.9           3.1            4.9           1.5   \n",
       "53  54            5.5           2.3            4.0           1.3   \n",
       "54  55            6.5           2.8            4.6           1.5   \n",
       "\n",
       "            Species  \n",
       "50  Iris-versicolor  \n",
       "51  Iris-versicolor  \n",
       "52  Iris-versicolor  \n",
       "53  Iris-versicolor  \n",
       "54  Iris-versicolor  "
      ]
     },
     "execution_count": 99,
     "metadata": {},
     "output_type": "execute_result"
    }
   ],
   "source": [
    "# Filter again on the Species column but on two names\n",
    "d = iris[iris['Species'].isin(['Iris-verginica', 'Iris-versicolor'])]\n",
    "d.head()"
   ]
  },
  {
   "cell_type": "code",
   "execution_count": 103,
   "metadata": {},
   "outputs": [
    {
     "data": {
      "text/html": [
       "<div>\n",
       "<style scoped>\n",
       "    .dataframe tbody tr th:only-of-type {\n",
       "        vertical-align: middle;\n",
       "    }\n",
       "\n",
       "    .dataframe tbody tr th {\n",
       "        vertical-align: top;\n",
       "    }\n",
       "\n",
       "    .dataframe thead th {\n",
       "        text-align: right;\n",
       "    }\n",
       "</style>\n",
       "<table border=\"1\" class=\"dataframe\">\n",
       "  <thead>\n",
       "    <tr style=\"text-align: right;\">\n",
       "      <th></th>\n",
       "      <th>Id</th>\n",
       "      <th>SepalLengthCm</th>\n",
       "      <th>SepalWidthCm</th>\n",
       "      <th>PetalLengthCm</th>\n",
       "      <th>PetalWidthCm</th>\n",
       "    </tr>\n",
       "  </thead>\n",
       "  <tbody>\n",
       "    <tr>\n",
       "      <th>count</th>\n",
       "      <td>150.000000</td>\n",
       "      <td>150.000000</td>\n",
       "      <td>150.000000</td>\n",
       "      <td>150.000000</td>\n",
       "      <td>150.000000</td>\n",
       "    </tr>\n",
       "    <tr>\n",
       "      <th>mean</th>\n",
       "      <td>75.500000</td>\n",
       "      <td>5.843333</td>\n",
       "      <td>3.054000</td>\n",
       "      <td>3.758667</td>\n",
       "      <td>1.198667</td>\n",
       "    </tr>\n",
       "    <tr>\n",
       "      <th>std</th>\n",
       "      <td>43.445368</td>\n",
       "      <td>0.828066</td>\n",
       "      <td>0.433594</td>\n",
       "      <td>1.764420</td>\n",
       "      <td>0.763161</td>\n",
       "    </tr>\n",
       "    <tr>\n",
       "      <th>min</th>\n",
       "      <td>1.000000</td>\n",
       "      <td>4.300000</td>\n",
       "      <td>2.000000</td>\n",
       "      <td>1.000000</td>\n",
       "      <td>0.100000</td>\n",
       "    </tr>\n",
       "    <tr>\n",
       "      <th>25%</th>\n",
       "      <td>38.250000</td>\n",
       "      <td>5.100000</td>\n",
       "      <td>2.800000</td>\n",
       "      <td>1.600000</td>\n",
       "      <td>0.300000</td>\n",
       "    </tr>\n",
       "    <tr>\n",
       "      <th>50%</th>\n",
       "      <td>75.500000</td>\n",
       "      <td>5.800000</td>\n",
       "      <td>3.000000</td>\n",
       "      <td>4.350000</td>\n",
       "      <td>1.300000</td>\n",
       "    </tr>\n",
       "    <tr>\n",
       "      <th>75%</th>\n",
       "      <td>112.750000</td>\n",
       "      <td>6.400000</td>\n",
       "      <td>3.300000</td>\n",
       "      <td>5.100000</td>\n",
       "      <td>1.800000</td>\n",
       "    </tr>\n",
       "    <tr>\n",
       "      <th>max</th>\n",
       "      <td>150.000000</td>\n",
       "      <td>7.900000</td>\n",
       "      <td>4.400000</td>\n",
       "      <td>6.900000</td>\n",
       "      <td>2.500000</td>\n",
       "    </tr>\n",
       "  </tbody>\n",
       "</table>\n",
       "</div>"
      ],
      "text/plain": [
       "               Id  SepalLengthCm  SepalWidthCm  PetalLengthCm  PetalWidthCm\n",
       "count  150.000000     150.000000    150.000000     150.000000    150.000000\n",
       "mean    75.500000       5.843333      3.054000       3.758667      1.198667\n",
       "std     43.445368       0.828066      0.433594       1.764420      0.763161\n",
       "min      1.000000       4.300000      2.000000       1.000000      0.100000\n",
       "25%     38.250000       5.100000      2.800000       1.600000      0.300000\n",
       "50%     75.500000       5.800000      3.000000       4.350000      1.300000\n",
       "75%    112.750000       6.400000      3.300000       5.100000      1.800000\n",
       "max    150.000000       7.900000      4.400000       6.900000      2.500000"
      ]
     },
     "execution_count": 103,
     "metadata": {},
     "output_type": "execute_result"
    }
   ],
   "source": [
    "#Descriptive statistics of numerical columns\n",
    "iris.describe()"
   ]
  },
  {
   "cell_type": "code",
   "execution_count": 107,
   "metadata": {},
   "outputs": [
    {
     "data": {
      "text/html": [
       "<div>\n",
       "<style scoped>\n",
       "    .dataframe tbody tr th:only-of-type {\n",
       "        vertical-align: middle;\n",
       "    }\n",
       "\n",
       "    .dataframe tbody tr th {\n",
       "        vertical-align: top;\n",
       "    }\n",
       "\n",
       "    .dataframe thead th {\n",
       "        text-align: right;\n",
       "    }\n",
       "</style>\n",
       "<table border=\"1\" class=\"dataframe\">\n",
       "  <thead>\n",
       "    <tr style=\"text-align: right;\">\n",
       "      <th></th>\n",
       "      <th>Id</th>\n",
       "      <th>SepalLengthCm</th>\n",
       "      <th>SepalWidthCm</th>\n",
       "      <th>PetalLengthCm</th>\n",
       "      <th>PetalWidthCm</th>\n",
       "      <th>Species</th>\n",
       "      <th>SpealLength_Size</th>\n",
       "    </tr>\n",
       "  </thead>\n",
       "  <tbody>\n",
       "    <tr>\n",
       "      <th>0</th>\n",
       "      <td>1</td>\n",
       "      <td>5.1</td>\n",
       "      <td>3.5</td>\n",
       "      <td>1.4</td>\n",
       "      <td>0.2</td>\n",
       "      <td>Iris-setosa</td>\n",
       "      <td>High</td>\n",
       "    </tr>\n",
       "    <tr>\n",
       "      <th>1</th>\n",
       "      <td>2</td>\n",
       "      <td>4.9</td>\n",
       "      <td>3.0</td>\n",
       "      <td>1.4</td>\n",
       "      <td>0.2</td>\n",
       "      <td>Iris-setosa</td>\n",
       "      <td>Low</td>\n",
       "    </tr>\n",
       "    <tr>\n",
       "      <th>2</th>\n",
       "      <td>3</td>\n",
       "      <td>4.7</td>\n",
       "      <td>3.2</td>\n",
       "      <td>1.3</td>\n",
       "      <td>0.2</td>\n",
       "      <td>Iris-setosa</td>\n",
       "      <td>Low</td>\n",
       "    </tr>\n",
       "    <tr>\n",
       "      <th>3</th>\n",
       "      <td>4</td>\n",
       "      <td>4.6</td>\n",
       "      <td>3.1</td>\n",
       "      <td>1.5</td>\n",
       "      <td>0.2</td>\n",
       "      <td>Iris-setosa</td>\n",
       "      <td>Low</td>\n",
       "    </tr>\n",
       "    <tr>\n",
       "      <th>4</th>\n",
       "      <td>5</td>\n",
       "      <td>5.0</td>\n",
       "      <td>3.6</td>\n",
       "      <td>1.4</td>\n",
       "      <td>0.2</td>\n",
       "      <td>Iris-setosa</td>\n",
       "      <td>High</td>\n",
       "    </tr>\n",
       "  </tbody>\n",
       "</table>\n",
       "</div>"
      ],
      "text/plain": [
       "   Id  SepalLengthCm  SepalWidthCm  PetalLengthCm  PetalWidthCm      Species  \\\n",
       "0   1            5.1           3.5            1.4           0.2  Iris-setosa   \n",
       "1   2            4.9           3.0            1.4           0.2  Iris-setosa   \n",
       "2   3            4.7           3.2            1.3           0.2  Iris-setosa   \n",
       "3   4            4.6           3.1            1.5           0.2  Iris-setosa   \n",
       "4   5            5.0           3.6            1.4           0.2  Iris-setosa   \n",
       "\n",
       "  SpealLength_Size  \n",
       "0             High  \n",
       "1              Low  \n",
       "2              Low  \n",
       "3              Low  \n",
       "4             High  "
      ]
     },
     "execution_count": 107,
     "metadata": {},
     "output_type": "execute_result"
    }
   ],
   "source": [
    "#Create column based on conditions using np\n",
    "iris['SpealLength_Size'] = np.where(iris['SepalLengthCm'] >= 5, 'High', 'Low')\n",
    "iris.head()"
   ]
  },
  {
   "cell_type": "code",
   "execution_count": 108,
   "metadata": {},
   "outputs": [
    {
     "data": {
      "text/html": [
       "<div>\n",
       "<style scoped>\n",
       "    .dataframe tbody tr th:only-of-type {\n",
       "        vertical-align: middle;\n",
       "    }\n",
       "\n",
       "    .dataframe tbody tr th {\n",
       "        vertical-align: top;\n",
       "    }\n",
       "\n",
       "    .dataframe thead th {\n",
       "        text-align: right;\n",
       "    }\n",
       "</style>\n",
       "<table border=\"1\" class=\"dataframe\">\n",
       "  <thead>\n",
       "    <tr style=\"text-align: right;\">\n",
       "      <th></th>\n",
       "      <th>Id</th>\n",
       "      <th>SepalLengthCm</th>\n",
       "      <th>SepalWidthCm</th>\n",
       "      <th>PetalLengthCm</th>\n",
       "      <th>PetalWidthCm</th>\n",
       "      <th>Species</th>\n",
       "      <th>SpealLength_Size</th>\n",
       "      <th>SepalLength_Size</th>\n",
       "    </tr>\n",
       "  </thead>\n",
       "  <tbody>\n",
       "    <tr>\n",
       "      <th>0</th>\n",
       "      <td>1</td>\n",
       "      <td>5.1</td>\n",
       "      <td>3.5</td>\n",
       "      <td>1.4</td>\n",
       "      <td>0.2</td>\n",
       "      <td>Iris-setosa</td>\n",
       "      <td>High</td>\n",
       "      <td>High</td>\n",
       "    </tr>\n",
       "    <tr>\n",
       "      <th>1</th>\n",
       "      <td>2</td>\n",
       "      <td>4.9</td>\n",
       "      <td>3.0</td>\n",
       "      <td>1.4</td>\n",
       "      <td>0.2</td>\n",
       "      <td>Iris-setosa</td>\n",
       "      <td>Low</td>\n",
       "      <td>Low</td>\n",
       "    </tr>\n",
       "    <tr>\n",
       "      <th>2</th>\n",
       "      <td>3</td>\n",
       "      <td>4.7</td>\n",
       "      <td>3.2</td>\n",
       "      <td>1.3</td>\n",
       "      <td>0.2</td>\n",
       "      <td>Iris-setosa</td>\n",
       "      <td>Low</td>\n",
       "      <td>Low</td>\n",
       "    </tr>\n",
       "    <tr>\n",
       "      <th>3</th>\n",
       "      <td>4</td>\n",
       "      <td>4.6</td>\n",
       "      <td>3.1</td>\n",
       "      <td>1.5</td>\n",
       "      <td>0.2</td>\n",
       "      <td>Iris-setosa</td>\n",
       "      <td>Low</td>\n",
       "      <td>Low</td>\n",
       "    </tr>\n",
       "    <tr>\n",
       "      <th>4</th>\n",
       "      <td>5</td>\n",
       "      <td>5.0</td>\n",
       "      <td>3.6</td>\n",
       "      <td>1.4</td>\n",
       "      <td>0.2</td>\n",
       "      <td>Iris-setosa</td>\n",
       "      <td>High</td>\n",
       "      <td>High</td>\n",
       "    </tr>\n",
       "  </tbody>\n",
       "</table>\n",
       "</div>"
      ],
      "text/plain": [
       "   Id  SepalLengthCm  SepalWidthCm  PetalLengthCm  PetalWidthCm      Species  \\\n",
       "0   1            5.1           3.5            1.4           0.2  Iris-setosa   \n",
       "1   2            4.9           3.0            1.4           0.2  Iris-setosa   \n",
       "2   3            4.7           3.2            1.3           0.2  Iris-setosa   \n",
       "3   4            4.6           3.1            1.5           0.2  Iris-setosa   \n",
       "4   5            5.0           3.6            1.4           0.2  Iris-setosa   \n",
       "\n",
       "  SpealLength_Size SepalLength_Size  \n",
       "0             High             High  \n",
       "1              Low              Low  \n",
       "2              Low              Low  \n",
       "3              Low              Low  \n",
       "4             High             High  "
      ]
     },
     "execution_count": 108,
     "metadata": {},
     "output_type": "execute_result"
    }
   ],
   "source": [
    "#Another way to create column based on conditions (Using list comprehension)\n",
    "iris['SepalLength_Size'] = ['High' if x >= 5 else 'Low' for x in iris['SepalLengthCm']]\n",
    "iris.head()"
   ]
  },
  {
   "cell_type": "code",
   "execution_count": 117,
   "metadata": {},
   "outputs": [
    {
     "data": {
      "text/html": [
       "<div>\n",
       "<style scoped>\n",
       "    .dataframe tbody tr th:only-of-type {\n",
       "        vertical-align: middle;\n",
       "    }\n",
       "\n",
       "    .dataframe tbody tr th {\n",
       "        vertical-align: top;\n",
       "    }\n",
       "\n",
       "    .dataframe thead th {\n",
       "        text-align: right;\n",
       "    }\n",
       "</style>\n",
       "<table border=\"1\" class=\"dataframe\">\n",
       "  <thead>\n",
       "    <tr style=\"text-align: right;\">\n",
       "      <th></th>\n",
       "      <th>Id</th>\n",
       "      <th>SepalLengthCm</th>\n",
       "      <th>SepalWidthCm</th>\n",
       "      <th>PetalLengthCm</th>\n",
       "      <th>PetalWidthCm</th>\n",
       "      <th>Species</th>\n",
       "      <th>SpealLength_Size</th>\n",
       "      <th>SepalLength_Size</th>\n",
       "      <th>SepalLength_Sizes</th>\n",
       "    </tr>\n",
       "  </thead>\n",
       "  <tbody>\n",
       "    <tr>\n",
       "      <th>0</th>\n",
       "      <td>1</td>\n",
       "      <td>5.1</td>\n",
       "      <td>3.5</td>\n",
       "      <td>1.4</td>\n",
       "      <td>0.2</td>\n",
       "      <td>Iris-setosa</td>\n",
       "      <td>High</td>\n",
       "      <td>High</td>\n",
       "      <td>High</td>\n",
       "    </tr>\n",
       "    <tr>\n",
       "      <th>1</th>\n",
       "      <td>2</td>\n",
       "      <td>4.9</td>\n",
       "      <td>3.0</td>\n",
       "      <td>1.4</td>\n",
       "      <td>0.2</td>\n",
       "      <td>Iris-setosa</td>\n",
       "      <td>Low</td>\n",
       "      <td>Low</td>\n",
       "      <td>Low</td>\n",
       "    </tr>\n",
       "    <tr>\n",
       "      <th>2</th>\n",
       "      <td>3</td>\n",
       "      <td>4.7</td>\n",
       "      <td>3.2</td>\n",
       "      <td>1.3</td>\n",
       "      <td>0.2</td>\n",
       "      <td>Iris-setosa</td>\n",
       "      <td>Low</td>\n",
       "      <td>Low</td>\n",
       "      <td>Low</td>\n",
       "    </tr>\n",
       "    <tr>\n",
       "      <th>3</th>\n",
       "      <td>4</td>\n",
       "      <td>4.6</td>\n",
       "      <td>3.1</td>\n",
       "      <td>1.5</td>\n",
       "      <td>0.2</td>\n",
       "      <td>Iris-setosa</td>\n",
       "      <td>Low</td>\n",
       "      <td>Low</td>\n",
       "      <td>Low</td>\n",
       "    </tr>\n",
       "    <tr>\n",
       "      <th>4</th>\n",
       "      <td>5</td>\n",
       "      <td>5.0</td>\n",
       "      <td>3.6</td>\n",
       "      <td>1.4</td>\n",
       "      <td>0.2</td>\n",
       "      <td>Iris-setosa</td>\n",
       "      <td>High</td>\n",
       "      <td>High</td>\n",
       "      <td>High</td>\n",
       "    </tr>\n",
       "  </tbody>\n",
       "</table>\n",
       "</div>"
      ],
      "text/plain": [
       "   Id  SepalLengthCm  SepalWidthCm  PetalLengthCm  PetalWidthCm      Species  \\\n",
       "0   1            5.1           3.5            1.4           0.2  Iris-setosa   \n",
       "1   2            4.9           3.0            1.4           0.2  Iris-setosa   \n",
       "2   3            4.7           3.2            1.3           0.2  Iris-setosa   \n",
       "3   4            4.6           3.1            1.5           0.2  Iris-setosa   \n",
       "4   5            5.0           3.6            1.4           0.2  Iris-setosa   \n",
       "\n",
       "  SpealLength_Size SepalLength_Size SepalLength_Sizes  \n",
       "0             High             High              High  \n",
       "1              Low              Low               Low  \n",
       "2              Low              Low               Low  \n",
       "3              Low              Low               Low  \n",
       "4             High             High              High  "
      ]
     },
     "execution_count": 117,
     "metadata": {},
     "output_type": "execute_result"
    }
   ],
   "source": [
    "#Another way to create column based no conditions(Using pandas dataframe)\n",
    "def size(row_number):\n",
    "    if(row_number[\"SepalLengthCm\"] >= 5):\n",
    "        return 'High'\n",
    "    else:\n",
    "        return 'Low'\n",
    "    \n",
    "iris = iris.assign(SepalLength_Size = iris.apply(size, axis = 1))\n",
    "iris.head()"
   ]
  },
  {
   "cell_type": "code",
   "execution_count": 120,
   "metadata": {},
   "outputs": [
    {
     "data": {
      "text/html": [
       "<div>\n",
       "<style scoped>\n",
       "    .dataframe tbody tr th:only-of-type {\n",
       "        vertical-align: middle;\n",
       "    }\n",
       "\n",
       "    .dataframe tbody tr th {\n",
       "        vertical-align: top;\n",
       "    }\n",
       "\n",
       "    .dataframe thead th {\n",
       "        text-align: right;\n",
       "    }\n",
       "</style>\n",
       "<table border=\"1\" class=\"dataframe\">\n",
       "  <thead>\n",
       "    <tr style=\"text-align: right;\">\n",
       "      <th></th>\n",
       "      <th>Id</th>\n",
       "      <th>SepalLengthCm</th>\n",
       "      <th>SepalWidthCm</th>\n",
       "      <th>PetalLengthCm</th>\n",
       "      <th>PetalWidthCm</th>\n",
       "      <th>Species</th>\n",
       "      <th>SpealLength_Size</th>\n",
       "      <th>SepalLength_Size</th>\n",
       "      <th>SepalLength_Sizes</th>\n",
       "      <th>SepalLength_Size_L</th>\n",
       "    </tr>\n",
       "  </thead>\n",
       "  <tbody>\n",
       "    <tr>\n",
       "      <th>0</th>\n",
       "      <td>1</td>\n",
       "      <td>5.1</td>\n",
       "      <td>3.5</td>\n",
       "      <td>1.4</td>\n",
       "      <td>0.2</td>\n",
       "      <td>Iris-setosa</td>\n",
       "      <td>High</td>\n",
       "      <td>High</td>\n",
       "      <td>High</td>\n",
       "      <td>High</td>\n",
       "    </tr>\n",
       "    <tr>\n",
       "      <th>1</th>\n",
       "      <td>2</td>\n",
       "      <td>4.9</td>\n",
       "      <td>3.0</td>\n",
       "      <td>1.4</td>\n",
       "      <td>0.2</td>\n",
       "      <td>Iris-setosa</td>\n",
       "      <td>Low</td>\n",
       "      <td>Low</td>\n",
       "      <td>Low</td>\n",
       "      <td>Low</td>\n",
       "    </tr>\n",
       "    <tr>\n",
       "      <th>2</th>\n",
       "      <td>3</td>\n",
       "      <td>4.7</td>\n",
       "      <td>3.2</td>\n",
       "      <td>1.3</td>\n",
       "      <td>0.2</td>\n",
       "      <td>Iris-setosa</td>\n",
       "      <td>Low</td>\n",
       "      <td>Low</td>\n",
       "      <td>Low</td>\n",
       "      <td>Low</td>\n",
       "    </tr>\n",
       "    <tr>\n",
       "      <th>3</th>\n",
       "      <td>4</td>\n",
       "      <td>4.6</td>\n",
       "      <td>3.1</td>\n",
       "      <td>1.5</td>\n",
       "      <td>0.2</td>\n",
       "      <td>Iris-setosa</td>\n",
       "      <td>Low</td>\n",
       "      <td>Low</td>\n",
       "      <td>Low</td>\n",
       "      <td>Low</td>\n",
       "    </tr>\n",
       "    <tr>\n",
       "      <th>4</th>\n",
       "      <td>5</td>\n",
       "      <td>5.0</td>\n",
       "      <td>3.6</td>\n",
       "      <td>1.4</td>\n",
       "      <td>0.2</td>\n",
       "      <td>Iris-setosa</td>\n",
       "      <td>High</td>\n",
       "      <td>High</td>\n",
       "      <td>High</td>\n",
       "      <td>High</td>\n",
       "    </tr>\n",
       "  </tbody>\n",
       "</table>\n",
       "</div>"
      ],
      "text/plain": [
       "   Id  SepalLengthCm  SepalWidthCm  PetalLengthCm  PetalWidthCm      Species  \\\n",
       "0   1            5.1           3.5            1.4           0.2  Iris-setosa   \n",
       "1   2            4.9           3.0            1.4           0.2  Iris-setosa   \n",
       "2   3            4.7           3.2            1.3           0.2  Iris-setosa   \n",
       "3   4            4.6           3.1            1.5           0.2  Iris-setosa   \n",
       "4   5            5.0           3.6            1.4           0.2  Iris-setosa   \n",
       "\n",
       "  SpealLength_Size SepalLength_Size SepalLength_Sizes SepalLength_Size_L  \n",
       "0             High             High              High               High  \n",
       "1              Low              Low               Low                Low  \n",
       "2              Low              Low               Low                Low  \n",
       "3              Low              Low               Low                Low  \n",
       "4             High             High              High               High  "
      ]
     },
     "execution_count": 120,
     "metadata": {},
     "output_type": "execute_result"
    }
   ],
   "source": [
    "#Another way to create column based on condition (Using Lambda function)\n",
    "iris['SepalLength_Size_L'] = a['SepalLengthCm'].map(lambda x: 'High' if x >= 5 else 'Low')\n",
    "iris.head()"
   ]
  },
  {
   "cell_type": "code",
   "execution_count": 122,
   "metadata": {},
   "outputs": [
    {
     "data": {
      "text/plain": [
       "array(['Iris-setosa', 'Iris-versicolor', 'Iris-virginica'], dtype=object)"
      ]
     },
     "execution_count": 122,
     "metadata": {},
     "output_type": "execute_result"
    }
   ],
   "source": [
    "#Access unique values of the column\n",
    "iris['Species'].unique()"
   ]
  },
  {
   "cell_type": "markdown",
   "metadata": {},
   "source": [
    "**Cross Tab:** similar to pivot table in Excel"
   ]
  },
  {
   "cell_type": "code",
   "execution_count": 123,
   "metadata": {},
   "outputs": [
    {
     "data": {
      "text/html": [
       "<div>\n",
       "<style scoped>\n",
       "    .dataframe tbody tr th:only-of-type {\n",
       "        vertical-align: middle;\n",
       "    }\n",
       "\n",
       "    .dataframe tbody tr th {\n",
       "        vertical-align: top;\n",
       "    }\n",
       "\n",
       "    .dataframe thead th {\n",
       "        text-align: right;\n",
       "    }\n",
       "</style>\n",
       "<table border=\"1\" class=\"dataframe\">\n",
       "  <thead>\n",
       "    <tr style=\"text-align: right;\">\n",
       "      <th>SepalLength_Size</th>\n",
       "      <th>High</th>\n",
       "      <th>Low</th>\n",
       "    </tr>\n",
       "    <tr>\n",
       "      <th>Species</th>\n",
       "      <th></th>\n",
       "      <th></th>\n",
       "    </tr>\n",
       "  </thead>\n",
       "  <tbody>\n",
       "    <tr>\n",
       "      <th>Iris-setosa</th>\n",
       "      <td>30</td>\n",
       "      <td>20</td>\n",
       "    </tr>\n",
       "    <tr>\n",
       "      <th>Iris-versicolor</th>\n",
       "      <td>49</td>\n",
       "      <td>1</td>\n",
       "    </tr>\n",
       "    <tr>\n",
       "      <th>Iris-virginica</th>\n",
       "      <td>49</td>\n",
       "      <td>1</td>\n",
       "    </tr>\n",
       "  </tbody>\n",
       "</table>\n",
       "</div>"
      ],
      "text/plain": [
       "SepalLength_Size  High  Low\n",
       "Species                    \n",
       "Iris-setosa         30   20\n",
       "Iris-versicolor     49    1\n",
       "Iris-virginica      49    1"
      ]
     },
     "execution_count": 123,
     "metadata": {},
     "output_type": "execute_result"
    }
   ],
   "source": [
    "pd.crosstab(iris['Species'], a['SepalLength_Size'])"
   ]
  },
  {
   "cell_type": "markdown",
   "metadata": {},
   "source": [
    "**Sorting Values**"
   ]
  },
  {
   "cell_type": "code",
   "execution_count": 124,
   "metadata": {},
   "outputs": [
    {
     "data": {
      "text/html": [
       "<div>\n",
       "<style scoped>\n",
       "    .dataframe tbody tr th:only-of-type {\n",
       "        vertical-align: middle;\n",
       "    }\n",
       "\n",
       "    .dataframe tbody tr th {\n",
       "        vertical-align: top;\n",
       "    }\n",
       "\n",
       "    .dataframe thead th {\n",
       "        text-align: right;\n",
       "    }\n",
       "</style>\n",
       "<table border=\"1\" class=\"dataframe\">\n",
       "  <thead>\n",
       "    <tr style=\"text-align: right;\">\n",
       "      <th></th>\n",
       "      <th>Id</th>\n",
       "      <th>SepalLengthCm</th>\n",
       "      <th>SepalWidthCm</th>\n",
       "      <th>PetalLengthCm</th>\n",
       "      <th>PetalWidthCm</th>\n",
       "      <th>Species</th>\n",
       "      <th>SpealLength_Size</th>\n",
       "      <th>SepalLength_Size</th>\n",
       "      <th>SepalLength_Sizes</th>\n",
       "      <th>SepalLength_Size_L</th>\n",
       "    </tr>\n",
       "  </thead>\n",
       "  <tbody>\n",
       "    <tr>\n",
       "      <th>13</th>\n",
       "      <td>14</td>\n",
       "      <td>4.3</td>\n",
       "      <td>3.0</td>\n",
       "      <td>1.1</td>\n",
       "      <td>0.1</td>\n",
       "      <td>Iris-setosa</td>\n",
       "      <td>Low</td>\n",
       "      <td>Low</td>\n",
       "      <td>Low</td>\n",
       "      <td>Low</td>\n",
       "    </tr>\n",
       "    <tr>\n",
       "      <th>42</th>\n",
       "      <td>43</td>\n",
       "      <td>4.4</td>\n",
       "      <td>3.2</td>\n",
       "      <td>1.3</td>\n",
       "      <td>0.2</td>\n",
       "      <td>Iris-setosa</td>\n",
       "      <td>Low</td>\n",
       "      <td>Low</td>\n",
       "      <td>Low</td>\n",
       "      <td>Low</td>\n",
       "    </tr>\n",
       "    <tr>\n",
       "      <th>38</th>\n",
       "      <td>39</td>\n",
       "      <td>4.4</td>\n",
       "      <td>3.0</td>\n",
       "      <td>1.3</td>\n",
       "      <td>0.2</td>\n",
       "      <td>Iris-setosa</td>\n",
       "      <td>Low</td>\n",
       "      <td>Low</td>\n",
       "      <td>Low</td>\n",
       "      <td>Low</td>\n",
       "    </tr>\n",
       "    <tr>\n",
       "      <th>8</th>\n",
       "      <td>9</td>\n",
       "      <td>4.4</td>\n",
       "      <td>2.9</td>\n",
       "      <td>1.4</td>\n",
       "      <td>0.2</td>\n",
       "      <td>Iris-setosa</td>\n",
       "      <td>Low</td>\n",
       "      <td>Low</td>\n",
       "      <td>Low</td>\n",
       "      <td>Low</td>\n",
       "    </tr>\n",
       "    <tr>\n",
       "      <th>41</th>\n",
       "      <td>42</td>\n",
       "      <td>4.5</td>\n",
       "      <td>2.3</td>\n",
       "      <td>1.3</td>\n",
       "      <td>0.3</td>\n",
       "      <td>Iris-setosa</td>\n",
       "      <td>Low</td>\n",
       "      <td>Low</td>\n",
       "      <td>Low</td>\n",
       "      <td>Low</td>\n",
       "    </tr>\n",
       "    <tr>\n",
       "      <th>22</th>\n",
       "      <td>23</td>\n",
       "      <td>4.6</td>\n",
       "      <td>3.6</td>\n",
       "      <td>1.0</td>\n",
       "      <td>0.2</td>\n",
       "      <td>Iris-setosa</td>\n",
       "      <td>Low</td>\n",
       "      <td>Low</td>\n",
       "      <td>Low</td>\n",
       "      <td>Low</td>\n",
       "    </tr>\n",
       "    <tr>\n",
       "      <th>3</th>\n",
       "      <td>4</td>\n",
       "      <td>4.6</td>\n",
       "      <td>3.1</td>\n",
       "      <td>1.5</td>\n",
       "      <td>0.2</td>\n",
       "      <td>Iris-setosa</td>\n",
       "      <td>Low</td>\n",
       "      <td>Low</td>\n",
       "      <td>Low</td>\n",
       "      <td>Low</td>\n",
       "    </tr>\n",
       "    <tr>\n",
       "      <th>6</th>\n",
       "      <td>7</td>\n",
       "      <td>4.6</td>\n",
       "      <td>3.4</td>\n",
       "      <td>1.4</td>\n",
       "      <td>0.3</td>\n",
       "      <td>Iris-setosa</td>\n",
       "      <td>Low</td>\n",
       "      <td>Low</td>\n",
       "      <td>Low</td>\n",
       "      <td>Low</td>\n",
       "    </tr>\n",
       "    <tr>\n",
       "      <th>47</th>\n",
       "      <td>48</td>\n",
       "      <td>4.6</td>\n",
       "      <td>3.2</td>\n",
       "      <td>1.4</td>\n",
       "      <td>0.2</td>\n",
       "      <td>Iris-setosa</td>\n",
       "      <td>Low</td>\n",
       "      <td>Low</td>\n",
       "      <td>Low</td>\n",
       "      <td>Low</td>\n",
       "    </tr>\n",
       "    <tr>\n",
       "      <th>2</th>\n",
       "      <td>3</td>\n",
       "      <td>4.7</td>\n",
       "      <td>3.2</td>\n",
       "      <td>1.3</td>\n",
       "      <td>0.2</td>\n",
       "      <td>Iris-setosa</td>\n",
       "      <td>Low</td>\n",
       "      <td>Low</td>\n",
       "      <td>Low</td>\n",
       "      <td>Low</td>\n",
       "    </tr>\n",
       "    <tr>\n",
       "      <th>29</th>\n",
       "      <td>30</td>\n",
       "      <td>4.7</td>\n",
       "      <td>3.2</td>\n",
       "      <td>1.6</td>\n",
       "      <td>0.2</td>\n",
       "      <td>Iris-setosa</td>\n",
       "      <td>Low</td>\n",
       "      <td>Low</td>\n",
       "      <td>Low</td>\n",
       "      <td>Low</td>\n",
       "    </tr>\n",
       "    <tr>\n",
       "      <th>12</th>\n",
       "      <td>13</td>\n",
       "      <td>4.8</td>\n",
       "      <td>3.0</td>\n",
       "      <td>1.4</td>\n",
       "      <td>0.1</td>\n",
       "      <td>Iris-setosa</td>\n",
       "      <td>Low</td>\n",
       "      <td>Low</td>\n",
       "      <td>Low</td>\n",
       "      <td>Low</td>\n",
       "    </tr>\n",
       "    <tr>\n",
       "      <th>45</th>\n",
       "      <td>46</td>\n",
       "      <td>4.8</td>\n",
       "      <td>3.0</td>\n",
       "      <td>1.4</td>\n",
       "      <td>0.3</td>\n",
       "      <td>Iris-setosa</td>\n",
       "      <td>Low</td>\n",
       "      <td>Low</td>\n",
       "      <td>Low</td>\n",
       "      <td>Low</td>\n",
       "    </tr>\n",
       "    <tr>\n",
       "      <th>24</th>\n",
       "      <td>25</td>\n",
       "      <td>4.8</td>\n",
       "      <td>3.4</td>\n",
       "      <td>1.9</td>\n",
       "      <td>0.2</td>\n",
       "      <td>Iris-setosa</td>\n",
       "      <td>Low</td>\n",
       "      <td>Low</td>\n",
       "      <td>Low</td>\n",
       "      <td>Low</td>\n",
       "    </tr>\n",
       "    <tr>\n",
       "      <th>11</th>\n",
       "      <td>12</td>\n",
       "      <td>4.8</td>\n",
       "      <td>3.4</td>\n",
       "      <td>1.6</td>\n",
       "      <td>0.2</td>\n",
       "      <td>Iris-setosa</td>\n",
       "      <td>Low</td>\n",
       "      <td>Low</td>\n",
       "      <td>Low</td>\n",
       "      <td>Low</td>\n",
       "    </tr>\n",
       "    <tr>\n",
       "      <th>30</th>\n",
       "      <td>31</td>\n",
       "      <td>4.8</td>\n",
       "      <td>3.1</td>\n",
       "      <td>1.6</td>\n",
       "      <td>0.2</td>\n",
       "      <td>Iris-setosa</td>\n",
       "      <td>Low</td>\n",
       "      <td>Low</td>\n",
       "      <td>Low</td>\n",
       "      <td>Low</td>\n",
       "    </tr>\n",
       "    <tr>\n",
       "      <th>57</th>\n",
       "      <td>58</td>\n",
       "      <td>4.9</td>\n",
       "      <td>2.4</td>\n",
       "      <td>3.3</td>\n",
       "      <td>1.0</td>\n",
       "      <td>Iris-versicolor</td>\n",
       "      <td>Low</td>\n",
       "      <td>Low</td>\n",
       "      <td>Low</td>\n",
       "      <td>Low</td>\n",
       "    </tr>\n",
       "    <tr>\n",
       "      <th>106</th>\n",
       "      <td>107</td>\n",
       "      <td>4.9</td>\n",
       "      <td>2.5</td>\n",
       "      <td>4.5</td>\n",
       "      <td>1.7</td>\n",
       "      <td>Iris-virginica</td>\n",
       "      <td>Low</td>\n",
       "      <td>Low</td>\n",
       "      <td>Low</td>\n",
       "      <td>Low</td>\n",
       "    </tr>\n",
       "    <tr>\n",
       "      <th>34</th>\n",
       "      <td>35</td>\n",
       "      <td>4.9</td>\n",
       "      <td>3.1</td>\n",
       "      <td>1.5</td>\n",
       "      <td>0.1</td>\n",
       "      <td>Iris-setosa</td>\n",
       "      <td>Low</td>\n",
       "      <td>Low</td>\n",
       "      <td>Low</td>\n",
       "      <td>Low</td>\n",
       "    </tr>\n",
       "    <tr>\n",
       "      <th>9</th>\n",
       "      <td>10</td>\n",
       "      <td>4.9</td>\n",
       "      <td>3.1</td>\n",
       "      <td>1.5</td>\n",
       "      <td>0.1</td>\n",
       "      <td>Iris-setosa</td>\n",
       "      <td>Low</td>\n",
       "      <td>Low</td>\n",
       "      <td>Low</td>\n",
       "      <td>Low</td>\n",
       "    </tr>\n",
       "    <tr>\n",
       "      <th>37</th>\n",
       "      <td>38</td>\n",
       "      <td>4.9</td>\n",
       "      <td>3.1</td>\n",
       "      <td>1.5</td>\n",
       "      <td>0.1</td>\n",
       "      <td>Iris-setosa</td>\n",
       "      <td>Low</td>\n",
       "      <td>Low</td>\n",
       "      <td>Low</td>\n",
       "      <td>Low</td>\n",
       "    </tr>\n",
       "    <tr>\n",
       "      <th>1</th>\n",
       "      <td>2</td>\n",
       "      <td>4.9</td>\n",
       "      <td>3.0</td>\n",
       "      <td>1.4</td>\n",
       "      <td>0.2</td>\n",
       "      <td>Iris-setosa</td>\n",
       "      <td>Low</td>\n",
       "      <td>Low</td>\n",
       "      <td>Low</td>\n",
       "      <td>Low</td>\n",
       "    </tr>\n",
       "    <tr>\n",
       "      <th>40</th>\n",
       "      <td>41</td>\n",
       "      <td>5.0</td>\n",
       "      <td>3.5</td>\n",
       "      <td>1.3</td>\n",
       "      <td>0.3</td>\n",
       "      <td>Iris-setosa</td>\n",
       "      <td>High</td>\n",
       "      <td>High</td>\n",
       "      <td>High</td>\n",
       "      <td>High</td>\n",
       "    </tr>\n",
       "    <tr>\n",
       "      <th>26</th>\n",
       "      <td>27</td>\n",
       "      <td>5.0</td>\n",
       "      <td>3.4</td>\n",
       "      <td>1.6</td>\n",
       "      <td>0.4</td>\n",
       "      <td>Iris-setosa</td>\n",
       "      <td>High</td>\n",
       "      <td>High</td>\n",
       "      <td>High</td>\n",
       "      <td>High</td>\n",
       "    </tr>\n",
       "    <tr>\n",
       "      <th>49</th>\n",
       "      <td>50</td>\n",
       "      <td>5.0</td>\n",
       "      <td>3.3</td>\n",
       "      <td>1.4</td>\n",
       "      <td>0.2</td>\n",
       "      <td>Iris-setosa</td>\n",
       "      <td>High</td>\n",
       "      <td>High</td>\n",
       "      <td>High</td>\n",
       "      <td>High</td>\n",
       "    </tr>\n",
       "    <tr>\n",
       "      <th>35</th>\n",
       "      <td>36</td>\n",
       "      <td>5.0</td>\n",
       "      <td>3.2</td>\n",
       "      <td>1.2</td>\n",
       "      <td>0.2</td>\n",
       "      <td>Iris-setosa</td>\n",
       "      <td>High</td>\n",
       "      <td>High</td>\n",
       "      <td>High</td>\n",
       "      <td>High</td>\n",
       "    </tr>\n",
       "    <tr>\n",
       "      <th>43</th>\n",
       "      <td>44</td>\n",
       "      <td>5.0</td>\n",
       "      <td>3.5</td>\n",
       "      <td>1.6</td>\n",
       "      <td>0.6</td>\n",
       "      <td>Iris-setosa</td>\n",
       "      <td>High</td>\n",
       "      <td>High</td>\n",
       "      <td>High</td>\n",
       "      <td>High</td>\n",
       "    </tr>\n",
       "    <tr>\n",
       "      <th>60</th>\n",
       "      <td>61</td>\n",
       "      <td>5.0</td>\n",
       "      <td>2.0</td>\n",
       "      <td>3.5</td>\n",
       "      <td>1.0</td>\n",
       "      <td>Iris-versicolor</td>\n",
       "      <td>High</td>\n",
       "      <td>High</td>\n",
       "      <td>High</td>\n",
       "      <td>High</td>\n",
       "    </tr>\n",
       "    <tr>\n",
       "      <th>7</th>\n",
       "      <td>8</td>\n",
       "      <td>5.0</td>\n",
       "      <td>3.4</td>\n",
       "      <td>1.5</td>\n",
       "      <td>0.2</td>\n",
       "      <td>Iris-setosa</td>\n",
       "      <td>High</td>\n",
       "      <td>High</td>\n",
       "      <td>High</td>\n",
       "      <td>High</td>\n",
       "    </tr>\n",
       "    <tr>\n",
       "      <th>93</th>\n",
       "      <td>94</td>\n",
       "      <td>5.0</td>\n",
       "      <td>2.3</td>\n",
       "      <td>3.3</td>\n",
       "      <td>1.0</td>\n",
       "      <td>Iris-versicolor</td>\n",
       "      <td>High</td>\n",
       "      <td>High</td>\n",
       "      <td>High</td>\n",
       "      <td>High</td>\n",
       "    </tr>\n",
       "    <tr>\n",
       "      <th>...</th>\n",
       "      <td>...</td>\n",
       "      <td>...</td>\n",
       "      <td>...</td>\n",
       "      <td>...</td>\n",
       "      <td>...</td>\n",
       "      <td>...</td>\n",
       "      <td>...</td>\n",
       "      <td>...</td>\n",
       "      <td>...</td>\n",
       "      <td>...</td>\n",
       "    </tr>\n",
       "    <tr>\n",
       "      <th>58</th>\n",
       "      <td>59</td>\n",
       "      <td>6.6</td>\n",
       "      <td>2.9</td>\n",
       "      <td>4.6</td>\n",
       "      <td>1.3</td>\n",
       "      <td>Iris-versicolor</td>\n",
       "      <td>High</td>\n",
       "      <td>High</td>\n",
       "      <td>High</td>\n",
       "      <td>High</td>\n",
       "    </tr>\n",
       "    <tr>\n",
       "      <th>75</th>\n",
       "      <td>76</td>\n",
       "      <td>6.6</td>\n",
       "      <td>3.0</td>\n",
       "      <td>4.4</td>\n",
       "      <td>1.4</td>\n",
       "      <td>Iris-versicolor</td>\n",
       "      <td>High</td>\n",
       "      <td>High</td>\n",
       "      <td>High</td>\n",
       "      <td>High</td>\n",
       "    </tr>\n",
       "    <tr>\n",
       "      <th>86</th>\n",
       "      <td>87</td>\n",
       "      <td>6.7</td>\n",
       "      <td>3.1</td>\n",
       "      <td>4.7</td>\n",
       "      <td>1.5</td>\n",
       "      <td>Iris-versicolor</td>\n",
       "      <td>High</td>\n",
       "      <td>High</td>\n",
       "      <td>High</td>\n",
       "      <td>High</td>\n",
       "    </tr>\n",
       "    <tr>\n",
       "      <th>140</th>\n",
       "      <td>141</td>\n",
       "      <td>6.7</td>\n",
       "      <td>3.1</td>\n",
       "      <td>5.6</td>\n",
       "      <td>2.4</td>\n",
       "      <td>Iris-virginica</td>\n",
       "      <td>High</td>\n",
       "      <td>High</td>\n",
       "      <td>High</td>\n",
       "      <td>High</td>\n",
       "    </tr>\n",
       "    <tr>\n",
       "      <th>108</th>\n",
       "      <td>109</td>\n",
       "      <td>6.7</td>\n",
       "      <td>2.5</td>\n",
       "      <td>5.8</td>\n",
       "      <td>1.8</td>\n",
       "      <td>Iris-virginica</td>\n",
       "      <td>High</td>\n",
       "      <td>High</td>\n",
       "      <td>High</td>\n",
       "      <td>High</td>\n",
       "    </tr>\n",
       "    <tr>\n",
       "      <th>77</th>\n",
       "      <td>78</td>\n",
       "      <td>6.7</td>\n",
       "      <td>3.0</td>\n",
       "      <td>5.0</td>\n",
       "      <td>1.7</td>\n",
       "      <td>Iris-versicolor</td>\n",
       "      <td>High</td>\n",
       "      <td>High</td>\n",
       "      <td>High</td>\n",
       "      <td>High</td>\n",
       "    </tr>\n",
       "    <tr>\n",
       "      <th>65</th>\n",
       "      <td>66</td>\n",
       "      <td>6.7</td>\n",
       "      <td>3.1</td>\n",
       "      <td>4.4</td>\n",
       "      <td>1.4</td>\n",
       "      <td>Iris-versicolor</td>\n",
       "      <td>High</td>\n",
       "      <td>High</td>\n",
       "      <td>High</td>\n",
       "      <td>High</td>\n",
       "    </tr>\n",
       "    <tr>\n",
       "      <th>144</th>\n",
       "      <td>145</td>\n",
       "      <td>6.7</td>\n",
       "      <td>3.3</td>\n",
       "      <td>5.7</td>\n",
       "      <td>2.5</td>\n",
       "      <td>Iris-virginica</td>\n",
       "      <td>High</td>\n",
       "      <td>High</td>\n",
       "      <td>High</td>\n",
       "      <td>High</td>\n",
       "    </tr>\n",
       "    <tr>\n",
       "      <th>145</th>\n",
       "      <td>146</td>\n",
       "      <td>6.7</td>\n",
       "      <td>3.0</td>\n",
       "      <td>5.2</td>\n",
       "      <td>2.3</td>\n",
       "      <td>Iris-virginica</td>\n",
       "      <td>High</td>\n",
       "      <td>High</td>\n",
       "      <td>High</td>\n",
       "      <td>High</td>\n",
       "    </tr>\n",
       "    <tr>\n",
       "      <th>124</th>\n",
       "      <td>125</td>\n",
       "      <td>6.7</td>\n",
       "      <td>3.3</td>\n",
       "      <td>5.7</td>\n",
       "      <td>2.1</td>\n",
       "      <td>Iris-virginica</td>\n",
       "      <td>High</td>\n",
       "      <td>High</td>\n",
       "      <td>High</td>\n",
       "      <td>High</td>\n",
       "    </tr>\n",
       "    <tr>\n",
       "      <th>143</th>\n",
       "      <td>144</td>\n",
       "      <td>6.8</td>\n",
       "      <td>3.2</td>\n",
       "      <td>5.9</td>\n",
       "      <td>2.3</td>\n",
       "      <td>Iris-virginica</td>\n",
       "      <td>High</td>\n",
       "      <td>High</td>\n",
       "      <td>High</td>\n",
       "      <td>High</td>\n",
       "    </tr>\n",
       "    <tr>\n",
       "      <th>76</th>\n",
       "      <td>77</td>\n",
       "      <td>6.8</td>\n",
       "      <td>2.8</td>\n",
       "      <td>4.8</td>\n",
       "      <td>1.4</td>\n",
       "      <td>Iris-versicolor</td>\n",
       "      <td>High</td>\n",
       "      <td>High</td>\n",
       "      <td>High</td>\n",
       "      <td>High</td>\n",
       "    </tr>\n",
       "    <tr>\n",
       "      <th>112</th>\n",
       "      <td>113</td>\n",
       "      <td>6.8</td>\n",
       "      <td>3.0</td>\n",
       "      <td>5.5</td>\n",
       "      <td>2.1</td>\n",
       "      <td>Iris-virginica</td>\n",
       "      <td>High</td>\n",
       "      <td>High</td>\n",
       "      <td>High</td>\n",
       "      <td>High</td>\n",
       "    </tr>\n",
       "    <tr>\n",
       "      <th>139</th>\n",
       "      <td>140</td>\n",
       "      <td>6.9</td>\n",
       "      <td>3.1</td>\n",
       "      <td>5.4</td>\n",
       "      <td>2.1</td>\n",
       "      <td>Iris-virginica</td>\n",
       "      <td>High</td>\n",
       "      <td>High</td>\n",
       "      <td>High</td>\n",
       "      <td>High</td>\n",
       "    </tr>\n",
       "    <tr>\n",
       "      <th>141</th>\n",
       "      <td>142</td>\n",
       "      <td>6.9</td>\n",
       "      <td>3.1</td>\n",
       "      <td>5.1</td>\n",
       "      <td>2.3</td>\n",
       "      <td>Iris-virginica</td>\n",
       "      <td>High</td>\n",
       "      <td>High</td>\n",
       "      <td>High</td>\n",
       "      <td>High</td>\n",
       "    </tr>\n",
       "    <tr>\n",
       "      <th>52</th>\n",
       "      <td>53</td>\n",
       "      <td>6.9</td>\n",
       "      <td>3.1</td>\n",
       "      <td>4.9</td>\n",
       "      <td>1.5</td>\n",
       "      <td>Iris-versicolor</td>\n",
       "      <td>High</td>\n",
       "      <td>High</td>\n",
       "      <td>High</td>\n",
       "      <td>High</td>\n",
       "    </tr>\n",
       "    <tr>\n",
       "      <th>120</th>\n",
       "      <td>121</td>\n",
       "      <td>6.9</td>\n",
       "      <td>3.2</td>\n",
       "      <td>5.7</td>\n",
       "      <td>2.3</td>\n",
       "      <td>Iris-virginica</td>\n",
       "      <td>High</td>\n",
       "      <td>High</td>\n",
       "      <td>High</td>\n",
       "      <td>High</td>\n",
       "    </tr>\n",
       "    <tr>\n",
       "      <th>50</th>\n",
       "      <td>51</td>\n",
       "      <td>7.0</td>\n",
       "      <td>3.2</td>\n",
       "      <td>4.7</td>\n",
       "      <td>1.4</td>\n",
       "      <td>Iris-versicolor</td>\n",
       "      <td>High</td>\n",
       "      <td>High</td>\n",
       "      <td>High</td>\n",
       "      <td>High</td>\n",
       "    </tr>\n",
       "    <tr>\n",
       "      <th>102</th>\n",
       "      <td>103</td>\n",
       "      <td>7.1</td>\n",
       "      <td>3.0</td>\n",
       "      <td>5.9</td>\n",
       "      <td>2.1</td>\n",
       "      <td>Iris-virginica</td>\n",
       "      <td>High</td>\n",
       "      <td>High</td>\n",
       "      <td>High</td>\n",
       "      <td>High</td>\n",
       "    </tr>\n",
       "    <tr>\n",
       "      <th>129</th>\n",
       "      <td>130</td>\n",
       "      <td>7.2</td>\n",
       "      <td>3.0</td>\n",
       "      <td>5.8</td>\n",
       "      <td>1.6</td>\n",
       "      <td>Iris-virginica</td>\n",
       "      <td>High</td>\n",
       "      <td>High</td>\n",
       "      <td>High</td>\n",
       "      <td>High</td>\n",
       "    </tr>\n",
       "    <tr>\n",
       "      <th>125</th>\n",
       "      <td>126</td>\n",
       "      <td>7.2</td>\n",
       "      <td>3.2</td>\n",
       "      <td>6.0</td>\n",
       "      <td>1.8</td>\n",
       "      <td>Iris-virginica</td>\n",
       "      <td>High</td>\n",
       "      <td>High</td>\n",
       "      <td>High</td>\n",
       "      <td>High</td>\n",
       "    </tr>\n",
       "    <tr>\n",
       "      <th>109</th>\n",
       "      <td>110</td>\n",
       "      <td>7.2</td>\n",
       "      <td>3.6</td>\n",
       "      <td>6.1</td>\n",
       "      <td>2.5</td>\n",
       "      <td>Iris-virginica</td>\n",
       "      <td>High</td>\n",
       "      <td>High</td>\n",
       "      <td>High</td>\n",
       "      <td>High</td>\n",
       "    </tr>\n",
       "    <tr>\n",
       "      <th>107</th>\n",
       "      <td>108</td>\n",
       "      <td>7.3</td>\n",
       "      <td>2.9</td>\n",
       "      <td>6.3</td>\n",
       "      <td>1.8</td>\n",
       "      <td>Iris-virginica</td>\n",
       "      <td>High</td>\n",
       "      <td>High</td>\n",
       "      <td>High</td>\n",
       "      <td>High</td>\n",
       "    </tr>\n",
       "    <tr>\n",
       "      <th>130</th>\n",
       "      <td>131</td>\n",
       "      <td>7.4</td>\n",
       "      <td>2.8</td>\n",
       "      <td>6.1</td>\n",
       "      <td>1.9</td>\n",
       "      <td>Iris-virginica</td>\n",
       "      <td>High</td>\n",
       "      <td>High</td>\n",
       "      <td>High</td>\n",
       "      <td>High</td>\n",
       "    </tr>\n",
       "    <tr>\n",
       "      <th>105</th>\n",
       "      <td>106</td>\n",
       "      <td>7.6</td>\n",
       "      <td>3.0</td>\n",
       "      <td>6.6</td>\n",
       "      <td>2.1</td>\n",
       "      <td>Iris-virginica</td>\n",
       "      <td>High</td>\n",
       "      <td>High</td>\n",
       "      <td>High</td>\n",
       "      <td>High</td>\n",
       "    </tr>\n",
       "    <tr>\n",
       "      <th>122</th>\n",
       "      <td>123</td>\n",
       "      <td>7.7</td>\n",
       "      <td>2.8</td>\n",
       "      <td>6.7</td>\n",
       "      <td>2.0</td>\n",
       "      <td>Iris-virginica</td>\n",
       "      <td>High</td>\n",
       "      <td>High</td>\n",
       "      <td>High</td>\n",
       "      <td>High</td>\n",
       "    </tr>\n",
       "    <tr>\n",
       "      <th>118</th>\n",
       "      <td>119</td>\n",
       "      <td>7.7</td>\n",
       "      <td>2.6</td>\n",
       "      <td>6.9</td>\n",
       "      <td>2.3</td>\n",
       "      <td>Iris-virginica</td>\n",
       "      <td>High</td>\n",
       "      <td>High</td>\n",
       "      <td>High</td>\n",
       "      <td>High</td>\n",
       "    </tr>\n",
       "    <tr>\n",
       "      <th>117</th>\n",
       "      <td>118</td>\n",
       "      <td>7.7</td>\n",
       "      <td>3.8</td>\n",
       "      <td>6.7</td>\n",
       "      <td>2.2</td>\n",
       "      <td>Iris-virginica</td>\n",
       "      <td>High</td>\n",
       "      <td>High</td>\n",
       "      <td>High</td>\n",
       "      <td>High</td>\n",
       "    </tr>\n",
       "    <tr>\n",
       "      <th>135</th>\n",
       "      <td>136</td>\n",
       "      <td>7.7</td>\n",
       "      <td>3.0</td>\n",
       "      <td>6.1</td>\n",
       "      <td>2.3</td>\n",
       "      <td>Iris-virginica</td>\n",
       "      <td>High</td>\n",
       "      <td>High</td>\n",
       "      <td>High</td>\n",
       "      <td>High</td>\n",
       "    </tr>\n",
       "    <tr>\n",
       "      <th>131</th>\n",
       "      <td>132</td>\n",
       "      <td>7.9</td>\n",
       "      <td>3.8</td>\n",
       "      <td>6.4</td>\n",
       "      <td>2.0</td>\n",
       "      <td>Iris-virginica</td>\n",
       "      <td>High</td>\n",
       "      <td>High</td>\n",
       "      <td>High</td>\n",
       "      <td>High</td>\n",
       "    </tr>\n",
       "  </tbody>\n",
       "</table>\n",
       "<p>150 rows × 10 columns</p>\n",
       "</div>"
      ],
      "text/plain": [
       "      Id  SepalLengthCm  SepalWidthCm  PetalLengthCm  PetalWidthCm  \\\n",
       "13    14            4.3           3.0            1.1           0.1   \n",
       "42    43            4.4           3.2            1.3           0.2   \n",
       "38    39            4.4           3.0            1.3           0.2   \n",
       "8      9            4.4           2.9            1.4           0.2   \n",
       "41    42            4.5           2.3            1.3           0.3   \n",
       "22    23            4.6           3.6            1.0           0.2   \n",
       "3      4            4.6           3.1            1.5           0.2   \n",
       "6      7            4.6           3.4            1.4           0.3   \n",
       "47    48            4.6           3.2            1.4           0.2   \n",
       "2      3            4.7           3.2            1.3           0.2   \n",
       "29    30            4.7           3.2            1.6           0.2   \n",
       "12    13            4.8           3.0            1.4           0.1   \n",
       "45    46            4.8           3.0            1.4           0.3   \n",
       "24    25            4.8           3.4            1.9           0.2   \n",
       "11    12            4.8           3.4            1.6           0.2   \n",
       "30    31            4.8           3.1            1.6           0.2   \n",
       "57    58            4.9           2.4            3.3           1.0   \n",
       "106  107            4.9           2.5            4.5           1.7   \n",
       "34    35            4.9           3.1            1.5           0.1   \n",
       "9     10            4.9           3.1            1.5           0.1   \n",
       "37    38            4.9           3.1            1.5           0.1   \n",
       "1      2            4.9           3.0            1.4           0.2   \n",
       "40    41            5.0           3.5            1.3           0.3   \n",
       "26    27            5.0           3.4            1.6           0.4   \n",
       "49    50            5.0           3.3            1.4           0.2   \n",
       "35    36            5.0           3.2            1.2           0.2   \n",
       "43    44            5.0           3.5            1.6           0.6   \n",
       "60    61            5.0           2.0            3.5           1.0   \n",
       "7      8            5.0           3.4            1.5           0.2   \n",
       "93    94            5.0           2.3            3.3           1.0   \n",
       "..   ...            ...           ...            ...           ...   \n",
       "58    59            6.6           2.9            4.6           1.3   \n",
       "75    76            6.6           3.0            4.4           1.4   \n",
       "86    87            6.7           3.1            4.7           1.5   \n",
       "140  141            6.7           3.1            5.6           2.4   \n",
       "108  109            6.7           2.5            5.8           1.8   \n",
       "77    78            6.7           3.0            5.0           1.7   \n",
       "65    66            6.7           3.1            4.4           1.4   \n",
       "144  145            6.7           3.3            5.7           2.5   \n",
       "145  146            6.7           3.0            5.2           2.3   \n",
       "124  125            6.7           3.3            5.7           2.1   \n",
       "143  144            6.8           3.2            5.9           2.3   \n",
       "76    77            6.8           2.8            4.8           1.4   \n",
       "112  113            6.8           3.0            5.5           2.1   \n",
       "139  140            6.9           3.1            5.4           2.1   \n",
       "141  142            6.9           3.1            5.1           2.3   \n",
       "52    53            6.9           3.1            4.9           1.5   \n",
       "120  121            6.9           3.2            5.7           2.3   \n",
       "50    51            7.0           3.2            4.7           1.4   \n",
       "102  103            7.1           3.0            5.9           2.1   \n",
       "129  130            7.2           3.0            5.8           1.6   \n",
       "125  126            7.2           3.2            6.0           1.8   \n",
       "109  110            7.2           3.6            6.1           2.5   \n",
       "107  108            7.3           2.9            6.3           1.8   \n",
       "130  131            7.4           2.8            6.1           1.9   \n",
       "105  106            7.6           3.0            6.6           2.1   \n",
       "122  123            7.7           2.8            6.7           2.0   \n",
       "118  119            7.7           2.6            6.9           2.3   \n",
       "117  118            7.7           3.8            6.7           2.2   \n",
       "135  136            7.7           3.0            6.1           2.3   \n",
       "131  132            7.9           3.8            6.4           2.0   \n",
       "\n",
       "             Species SpealLength_Size SepalLength_Size SepalLength_Sizes  \\\n",
       "13       Iris-setosa              Low              Low               Low   \n",
       "42       Iris-setosa              Low              Low               Low   \n",
       "38       Iris-setosa              Low              Low               Low   \n",
       "8        Iris-setosa              Low              Low               Low   \n",
       "41       Iris-setosa              Low              Low               Low   \n",
       "22       Iris-setosa              Low              Low               Low   \n",
       "3        Iris-setosa              Low              Low               Low   \n",
       "6        Iris-setosa              Low              Low               Low   \n",
       "47       Iris-setosa              Low              Low               Low   \n",
       "2        Iris-setosa              Low              Low               Low   \n",
       "29       Iris-setosa              Low              Low               Low   \n",
       "12       Iris-setosa              Low              Low               Low   \n",
       "45       Iris-setosa              Low              Low               Low   \n",
       "24       Iris-setosa              Low              Low               Low   \n",
       "11       Iris-setosa              Low              Low               Low   \n",
       "30       Iris-setosa              Low              Low               Low   \n",
       "57   Iris-versicolor              Low              Low               Low   \n",
       "106   Iris-virginica              Low              Low               Low   \n",
       "34       Iris-setosa              Low              Low               Low   \n",
       "9        Iris-setosa              Low              Low               Low   \n",
       "37       Iris-setosa              Low              Low               Low   \n",
       "1        Iris-setosa              Low              Low               Low   \n",
       "40       Iris-setosa             High             High              High   \n",
       "26       Iris-setosa             High             High              High   \n",
       "49       Iris-setosa             High             High              High   \n",
       "35       Iris-setosa             High             High              High   \n",
       "43       Iris-setosa             High             High              High   \n",
       "60   Iris-versicolor             High             High              High   \n",
       "7        Iris-setosa             High             High              High   \n",
       "93   Iris-versicolor             High             High              High   \n",
       "..               ...              ...              ...               ...   \n",
       "58   Iris-versicolor             High             High              High   \n",
       "75   Iris-versicolor             High             High              High   \n",
       "86   Iris-versicolor             High             High              High   \n",
       "140   Iris-virginica             High             High              High   \n",
       "108   Iris-virginica             High             High              High   \n",
       "77   Iris-versicolor             High             High              High   \n",
       "65   Iris-versicolor             High             High              High   \n",
       "144   Iris-virginica             High             High              High   \n",
       "145   Iris-virginica             High             High              High   \n",
       "124   Iris-virginica             High             High              High   \n",
       "143   Iris-virginica             High             High              High   \n",
       "76   Iris-versicolor             High             High              High   \n",
       "112   Iris-virginica             High             High              High   \n",
       "139   Iris-virginica             High             High              High   \n",
       "141   Iris-virginica             High             High              High   \n",
       "52   Iris-versicolor             High             High              High   \n",
       "120   Iris-virginica             High             High              High   \n",
       "50   Iris-versicolor             High             High              High   \n",
       "102   Iris-virginica             High             High              High   \n",
       "129   Iris-virginica             High             High              High   \n",
       "125   Iris-virginica             High             High              High   \n",
       "109   Iris-virginica             High             High              High   \n",
       "107   Iris-virginica             High             High              High   \n",
       "130   Iris-virginica             High             High              High   \n",
       "105   Iris-virginica             High             High              High   \n",
       "122   Iris-virginica             High             High              High   \n",
       "118   Iris-virginica             High             High              High   \n",
       "117   Iris-virginica             High             High              High   \n",
       "135   Iris-virginica             High             High              High   \n",
       "131   Iris-virginica             High             High              High   \n",
       "\n",
       "    SepalLength_Size_L  \n",
       "13                 Low  \n",
       "42                 Low  \n",
       "38                 Low  \n",
       "8                  Low  \n",
       "41                 Low  \n",
       "22                 Low  \n",
       "3                  Low  \n",
       "6                  Low  \n",
       "47                 Low  \n",
       "2                  Low  \n",
       "29                 Low  \n",
       "12                 Low  \n",
       "45                 Low  \n",
       "24                 Low  \n",
       "11                 Low  \n",
       "30                 Low  \n",
       "57                 Low  \n",
       "106                Low  \n",
       "34                 Low  \n",
       "9                  Low  \n",
       "37                 Low  \n",
       "1                  Low  \n",
       "40                High  \n",
       "26                High  \n",
       "49                High  \n",
       "35                High  \n",
       "43                High  \n",
       "60                High  \n",
       "7                 High  \n",
       "93                High  \n",
       "..                 ...  \n",
       "58                High  \n",
       "75                High  \n",
       "86                High  \n",
       "140               High  \n",
       "108               High  \n",
       "77                High  \n",
       "65                High  \n",
       "144               High  \n",
       "145               High  \n",
       "124               High  \n",
       "143               High  \n",
       "76                High  \n",
       "112               High  \n",
       "139               High  \n",
       "141               High  \n",
       "52                High  \n",
       "120               High  \n",
       "50                High  \n",
       "102               High  \n",
       "129               High  \n",
       "125               High  \n",
       "109               High  \n",
       "107               High  \n",
       "130               High  \n",
       "105               High  \n",
       "122               High  \n",
       "118               High  \n",
       "117               High  \n",
       "135               High  \n",
       "131               High  \n",
       "\n",
       "[150 rows x 10 columns]"
      ]
     },
     "execution_count": 124,
     "metadata": {},
     "output_type": "execute_result"
    }
   ],
   "source": [
    "#sort values by 'SepalLengthCm'\n",
    "iris.sort_values('SepalLengthCm')"
   ]
  },
  {
   "cell_type": "code",
   "execution_count": 125,
   "metadata": {},
   "outputs": [
    {
     "data": {
      "text/html": [
       "<div>\n",
       "<style scoped>\n",
       "    .dataframe tbody tr th:only-of-type {\n",
       "        vertical-align: middle;\n",
       "    }\n",
       "\n",
       "    .dataframe tbody tr th {\n",
       "        vertical-align: top;\n",
       "    }\n",
       "\n",
       "    .dataframe thead th {\n",
       "        text-align: right;\n",
       "    }\n",
       "</style>\n",
       "<table border=\"1\" class=\"dataframe\">\n",
       "  <thead>\n",
       "    <tr style=\"text-align: right;\">\n",
       "      <th></th>\n",
       "      <th>Id</th>\n",
       "      <th>SepalLengthCm</th>\n",
       "      <th>SepalWidthCm</th>\n",
       "      <th>PetalLengthCm</th>\n",
       "      <th>PetalWidthCm</th>\n",
       "      <th>Species</th>\n",
       "      <th>SpealLength_Size</th>\n",
       "      <th>SepalLength_Size</th>\n",
       "      <th>SepalLength_Sizes</th>\n",
       "    </tr>\n",
       "  </thead>\n",
       "  <tbody>\n",
       "    <tr>\n",
       "      <th>14</th>\n",
       "      <td>15</td>\n",
       "      <td>5.8</td>\n",
       "      <td>4.0</td>\n",
       "      <td>1.2</td>\n",
       "      <td>0.2</td>\n",
       "      <td>Iris-setosa</td>\n",
       "      <td>High</td>\n",
       "      <td>High</td>\n",
       "      <td>High</td>\n",
       "    </tr>\n",
       "    <tr>\n",
       "      <th>15</th>\n",
       "      <td>16</td>\n",
       "      <td>5.7</td>\n",
       "      <td>4.4</td>\n",
       "      <td>1.5</td>\n",
       "      <td>0.4</td>\n",
       "      <td>Iris-setosa</td>\n",
       "      <td>High</td>\n",
       "      <td>High</td>\n",
       "      <td>High</td>\n",
       "    </tr>\n",
       "    <tr>\n",
       "      <th>18</th>\n",
       "      <td>19</td>\n",
       "      <td>5.7</td>\n",
       "      <td>3.8</td>\n",
       "      <td>1.7</td>\n",
       "      <td>0.3</td>\n",
       "      <td>Iris-setosa</td>\n",
       "      <td>High</td>\n",
       "      <td>High</td>\n",
       "      <td>High</td>\n",
       "    </tr>\n",
       "    <tr>\n",
       "      <th>33</th>\n",
       "      <td>34</td>\n",
       "      <td>5.5</td>\n",
       "      <td>4.2</td>\n",
       "      <td>1.4</td>\n",
       "      <td>0.2</td>\n",
       "      <td>Iris-setosa</td>\n",
       "      <td>High</td>\n",
       "      <td>High</td>\n",
       "      <td>High</td>\n",
       "    </tr>\n",
       "    <tr>\n",
       "      <th>36</th>\n",
       "      <td>37</td>\n",
       "      <td>5.5</td>\n",
       "      <td>3.5</td>\n",
       "      <td>1.3</td>\n",
       "      <td>0.2</td>\n",
       "      <td>Iris-setosa</td>\n",
       "      <td>High</td>\n",
       "      <td>High</td>\n",
       "      <td>High</td>\n",
       "    </tr>\n",
       "    <tr>\n",
       "      <th>5</th>\n",
       "      <td>6</td>\n",
       "      <td>5.4</td>\n",
       "      <td>3.9</td>\n",
       "      <td>1.7</td>\n",
       "      <td>0.4</td>\n",
       "      <td>Iris-setosa</td>\n",
       "      <td>High</td>\n",
       "      <td>High</td>\n",
       "      <td>High</td>\n",
       "    </tr>\n",
       "    <tr>\n",
       "      <th>10</th>\n",
       "      <td>11</td>\n",
       "      <td>5.4</td>\n",
       "      <td>3.7</td>\n",
       "      <td>1.5</td>\n",
       "      <td>0.2</td>\n",
       "      <td>Iris-setosa</td>\n",
       "      <td>High</td>\n",
       "      <td>High</td>\n",
       "      <td>High</td>\n",
       "    </tr>\n",
       "    <tr>\n",
       "      <th>16</th>\n",
       "      <td>17</td>\n",
       "      <td>5.4</td>\n",
       "      <td>3.9</td>\n",
       "      <td>1.3</td>\n",
       "      <td>0.4</td>\n",
       "      <td>Iris-setosa</td>\n",
       "      <td>High</td>\n",
       "      <td>High</td>\n",
       "      <td>High</td>\n",
       "    </tr>\n",
       "    <tr>\n",
       "      <th>20</th>\n",
       "      <td>21</td>\n",
       "      <td>5.4</td>\n",
       "      <td>3.4</td>\n",
       "      <td>1.7</td>\n",
       "      <td>0.2</td>\n",
       "      <td>Iris-setosa</td>\n",
       "      <td>High</td>\n",
       "      <td>High</td>\n",
       "      <td>High</td>\n",
       "    </tr>\n",
       "    <tr>\n",
       "      <th>31</th>\n",
       "      <td>32</td>\n",
       "      <td>5.4</td>\n",
       "      <td>3.4</td>\n",
       "      <td>1.5</td>\n",
       "      <td>0.4</td>\n",
       "      <td>Iris-setosa</td>\n",
       "      <td>High</td>\n",
       "      <td>High</td>\n",
       "      <td>High</td>\n",
       "    </tr>\n",
       "    <tr>\n",
       "      <th>48</th>\n",
       "      <td>49</td>\n",
       "      <td>5.3</td>\n",
       "      <td>3.7</td>\n",
       "      <td>1.5</td>\n",
       "      <td>0.2</td>\n",
       "      <td>Iris-setosa</td>\n",
       "      <td>High</td>\n",
       "      <td>High</td>\n",
       "      <td>High</td>\n",
       "    </tr>\n",
       "    <tr>\n",
       "      <th>27</th>\n",
       "      <td>28</td>\n",
       "      <td>5.2</td>\n",
       "      <td>3.5</td>\n",
       "      <td>1.5</td>\n",
       "      <td>0.2</td>\n",
       "      <td>Iris-setosa</td>\n",
       "      <td>High</td>\n",
       "      <td>High</td>\n",
       "      <td>High</td>\n",
       "    </tr>\n",
       "    <tr>\n",
       "      <th>28</th>\n",
       "      <td>29</td>\n",
       "      <td>5.2</td>\n",
       "      <td>3.4</td>\n",
       "      <td>1.4</td>\n",
       "      <td>0.2</td>\n",
       "      <td>Iris-setosa</td>\n",
       "      <td>High</td>\n",
       "      <td>High</td>\n",
       "      <td>High</td>\n",
       "    </tr>\n",
       "    <tr>\n",
       "      <th>32</th>\n",
       "      <td>33</td>\n",
       "      <td>5.2</td>\n",
       "      <td>4.1</td>\n",
       "      <td>1.5</td>\n",
       "      <td>0.1</td>\n",
       "      <td>Iris-setosa</td>\n",
       "      <td>High</td>\n",
       "      <td>High</td>\n",
       "      <td>High</td>\n",
       "    </tr>\n",
       "    <tr>\n",
       "      <th>0</th>\n",
       "      <td>1</td>\n",
       "      <td>5.1</td>\n",
       "      <td>3.5</td>\n",
       "      <td>1.4</td>\n",
       "      <td>0.2</td>\n",
       "      <td>Iris-setosa</td>\n",
       "      <td>High</td>\n",
       "      <td>High</td>\n",
       "      <td>High</td>\n",
       "    </tr>\n",
       "    <tr>\n",
       "      <th>17</th>\n",
       "      <td>18</td>\n",
       "      <td>5.1</td>\n",
       "      <td>3.5</td>\n",
       "      <td>1.4</td>\n",
       "      <td>0.3</td>\n",
       "      <td>Iris-setosa</td>\n",
       "      <td>High</td>\n",
       "      <td>High</td>\n",
       "      <td>High</td>\n",
       "    </tr>\n",
       "    <tr>\n",
       "      <th>19</th>\n",
       "      <td>20</td>\n",
       "      <td>5.1</td>\n",
       "      <td>3.8</td>\n",
       "      <td>1.5</td>\n",
       "      <td>0.3</td>\n",
       "      <td>Iris-setosa</td>\n",
       "      <td>High</td>\n",
       "      <td>High</td>\n",
       "      <td>High</td>\n",
       "    </tr>\n",
       "    <tr>\n",
       "      <th>21</th>\n",
       "      <td>22</td>\n",
       "      <td>5.1</td>\n",
       "      <td>3.7</td>\n",
       "      <td>1.5</td>\n",
       "      <td>0.4</td>\n",
       "      <td>Iris-setosa</td>\n",
       "      <td>High</td>\n",
       "      <td>High</td>\n",
       "      <td>High</td>\n",
       "    </tr>\n",
       "    <tr>\n",
       "      <th>23</th>\n",
       "      <td>24</td>\n",
       "      <td>5.1</td>\n",
       "      <td>3.3</td>\n",
       "      <td>1.7</td>\n",
       "      <td>0.5</td>\n",
       "      <td>Iris-setosa</td>\n",
       "      <td>High</td>\n",
       "      <td>High</td>\n",
       "      <td>High</td>\n",
       "    </tr>\n",
       "    <tr>\n",
       "      <th>39</th>\n",
       "      <td>40</td>\n",
       "      <td>5.1</td>\n",
       "      <td>3.4</td>\n",
       "      <td>1.5</td>\n",
       "      <td>0.2</td>\n",
       "      <td>Iris-setosa</td>\n",
       "      <td>High</td>\n",
       "      <td>High</td>\n",
       "      <td>High</td>\n",
       "    </tr>\n",
       "    <tr>\n",
       "      <th>44</th>\n",
       "      <td>45</td>\n",
       "      <td>5.1</td>\n",
       "      <td>3.8</td>\n",
       "      <td>1.9</td>\n",
       "      <td>0.4</td>\n",
       "      <td>Iris-setosa</td>\n",
       "      <td>High</td>\n",
       "      <td>High</td>\n",
       "      <td>High</td>\n",
       "    </tr>\n",
       "    <tr>\n",
       "      <th>46</th>\n",
       "      <td>47</td>\n",
       "      <td>5.1</td>\n",
       "      <td>3.8</td>\n",
       "      <td>1.6</td>\n",
       "      <td>0.2</td>\n",
       "      <td>Iris-setosa</td>\n",
       "      <td>High</td>\n",
       "      <td>High</td>\n",
       "      <td>High</td>\n",
       "    </tr>\n",
       "    <tr>\n",
       "      <th>4</th>\n",
       "      <td>5</td>\n",
       "      <td>5.0</td>\n",
       "      <td>3.6</td>\n",
       "      <td>1.4</td>\n",
       "      <td>0.2</td>\n",
       "      <td>Iris-setosa</td>\n",
       "      <td>High</td>\n",
       "      <td>High</td>\n",
       "      <td>High</td>\n",
       "    </tr>\n",
       "    <tr>\n",
       "      <th>7</th>\n",
       "      <td>8</td>\n",
       "      <td>5.0</td>\n",
       "      <td>3.4</td>\n",
       "      <td>1.5</td>\n",
       "      <td>0.2</td>\n",
       "      <td>Iris-setosa</td>\n",
       "      <td>High</td>\n",
       "      <td>High</td>\n",
       "      <td>High</td>\n",
       "    </tr>\n",
       "    <tr>\n",
       "      <th>25</th>\n",
       "      <td>26</td>\n",
       "      <td>5.0</td>\n",
       "      <td>3.0</td>\n",
       "      <td>1.6</td>\n",
       "      <td>0.2</td>\n",
       "      <td>Iris-setosa</td>\n",
       "      <td>High</td>\n",
       "      <td>High</td>\n",
       "      <td>High</td>\n",
       "    </tr>\n",
       "    <tr>\n",
       "      <th>26</th>\n",
       "      <td>27</td>\n",
       "      <td>5.0</td>\n",
       "      <td>3.4</td>\n",
       "      <td>1.6</td>\n",
       "      <td>0.4</td>\n",
       "      <td>Iris-setosa</td>\n",
       "      <td>High</td>\n",
       "      <td>High</td>\n",
       "      <td>High</td>\n",
       "    </tr>\n",
       "    <tr>\n",
       "      <th>35</th>\n",
       "      <td>36</td>\n",
       "      <td>5.0</td>\n",
       "      <td>3.2</td>\n",
       "      <td>1.2</td>\n",
       "      <td>0.2</td>\n",
       "      <td>Iris-setosa</td>\n",
       "      <td>High</td>\n",
       "      <td>High</td>\n",
       "      <td>High</td>\n",
       "    </tr>\n",
       "    <tr>\n",
       "      <th>40</th>\n",
       "      <td>41</td>\n",
       "      <td>5.0</td>\n",
       "      <td>3.5</td>\n",
       "      <td>1.3</td>\n",
       "      <td>0.3</td>\n",
       "      <td>Iris-setosa</td>\n",
       "      <td>High</td>\n",
       "      <td>High</td>\n",
       "      <td>High</td>\n",
       "    </tr>\n",
       "    <tr>\n",
       "      <th>43</th>\n",
       "      <td>44</td>\n",
       "      <td>5.0</td>\n",
       "      <td>3.5</td>\n",
       "      <td>1.6</td>\n",
       "      <td>0.6</td>\n",
       "      <td>Iris-setosa</td>\n",
       "      <td>High</td>\n",
       "      <td>High</td>\n",
       "      <td>High</td>\n",
       "    </tr>\n",
       "    <tr>\n",
       "      <th>49</th>\n",
       "      <td>50</td>\n",
       "      <td>5.0</td>\n",
       "      <td>3.3</td>\n",
       "      <td>1.4</td>\n",
       "      <td>0.2</td>\n",
       "      <td>Iris-setosa</td>\n",
       "      <td>High</td>\n",
       "      <td>High</td>\n",
       "      <td>High</td>\n",
       "    </tr>\n",
       "    <tr>\n",
       "      <th>...</th>\n",
       "      <td>...</td>\n",
       "      <td>...</td>\n",
       "      <td>...</td>\n",
       "      <td>...</td>\n",
       "      <td>...</td>\n",
       "      <td>...</td>\n",
       "      <td>...</td>\n",
       "      <td>...</td>\n",
       "      <td>...</td>\n",
       "    </tr>\n",
       "    <tr>\n",
       "      <th>144</th>\n",
       "      <td>145</td>\n",
       "      <td>6.7</td>\n",
       "      <td>3.3</td>\n",
       "      <td>5.7</td>\n",
       "      <td>2.5</td>\n",
       "      <td>Iris-virginica</td>\n",
       "      <td>High</td>\n",
       "      <td>High</td>\n",
       "      <td>High</td>\n",
       "    </tr>\n",
       "    <tr>\n",
       "      <th>145</th>\n",
       "      <td>146</td>\n",
       "      <td>6.7</td>\n",
       "      <td>3.0</td>\n",
       "      <td>5.2</td>\n",
       "      <td>2.3</td>\n",
       "      <td>Iris-virginica</td>\n",
       "      <td>High</td>\n",
       "      <td>High</td>\n",
       "      <td>High</td>\n",
       "    </tr>\n",
       "    <tr>\n",
       "      <th>104</th>\n",
       "      <td>105</td>\n",
       "      <td>6.5</td>\n",
       "      <td>3.0</td>\n",
       "      <td>5.8</td>\n",
       "      <td>2.2</td>\n",
       "      <td>Iris-virginica</td>\n",
       "      <td>High</td>\n",
       "      <td>High</td>\n",
       "      <td>High</td>\n",
       "    </tr>\n",
       "    <tr>\n",
       "      <th>110</th>\n",
       "      <td>111</td>\n",
       "      <td>6.5</td>\n",
       "      <td>3.2</td>\n",
       "      <td>5.1</td>\n",
       "      <td>2.0</td>\n",
       "      <td>Iris-virginica</td>\n",
       "      <td>High</td>\n",
       "      <td>High</td>\n",
       "      <td>High</td>\n",
       "    </tr>\n",
       "    <tr>\n",
       "      <th>116</th>\n",
       "      <td>117</td>\n",
       "      <td>6.5</td>\n",
       "      <td>3.0</td>\n",
       "      <td>5.5</td>\n",
       "      <td>1.8</td>\n",
       "      <td>Iris-virginica</td>\n",
       "      <td>High</td>\n",
       "      <td>High</td>\n",
       "      <td>High</td>\n",
       "    </tr>\n",
       "    <tr>\n",
       "      <th>147</th>\n",
       "      <td>148</td>\n",
       "      <td>6.5</td>\n",
       "      <td>3.0</td>\n",
       "      <td>5.2</td>\n",
       "      <td>2.0</td>\n",
       "      <td>Iris-virginica</td>\n",
       "      <td>High</td>\n",
       "      <td>High</td>\n",
       "      <td>High</td>\n",
       "    </tr>\n",
       "    <tr>\n",
       "      <th>111</th>\n",
       "      <td>112</td>\n",
       "      <td>6.4</td>\n",
       "      <td>2.7</td>\n",
       "      <td>5.3</td>\n",
       "      <td>1.9</td>\n",
       "      <td>Iris-virginica</td>\n",
       "      <td>High</td>\n",
       "      <td>High</td>\n",
       "      <td>High</td>\n",
       "    </tr>\n",
       "    <tr>\n",
       "      <th>115</th>\n",
       "      <td>116</td>\n",
       "      <td>6.4</td>\n",
       "      <td>3.2</td>\n",
       "      <td>5.3</td>\n",
       "      <td>2.3</td>\n",
       "      <td>Iris-virginica</td>\n",
       "      <td>High</td>\n",
       "      <td>High</td>\n",
       "      <td>High</td>\n",
       "    </tr>\n",
       "    <tr>\n",
       "      <th>128</th>\n",
       "      <td>129</td>\n",
       "      <td>6.4</td>\n",
       "      <td>2.8</td>\n",
       "      <td>5.6</td>\n",
       "      <td>2.1</td>\n",
       "      <td>Iris-virginica</td>\n",
       "      <td>High</td>\n",
       "      <td>High</td>\n",
       "      <td>High</td>\n",
       "    </tr>\n",
       "    <tr>\n",
       "      <th>132</th>\n",
       "      <td>133</td>\n",
       "      <td>6.4</td>\n",
       "      <td>2.8</td>\n",
       "      <td>5.6</td>\n",
       "      <td>2.2</td>\n",
       "      <td>Iris-virginica</td>\n",
       "      <td>High</td>\n",
       "      <td>High</td>\n",
       "      <td>High</td>\n",
       "    </tr>\n",
       "    <tr>\n",
       "      <th>137</th>\n",
       "      <td>138</td>\n",
       "      <td>6.4</td>\n",
       "      <td>3.1</td>\n",
       "      <td>5.5</td>\n",
       "      <td>1.8</td>\n",
       "      <td>Iris-virginica</td>\n",
       "      <td>High</td>\n",
       "      <td>High</td>\n",
       "      <td>High</td>\n",
       "    </tr>\n",
       "    <tr>\n",
       "      <th>100</th>\n",
       "      <td>101</td>\n",
       "      <td>6.3</td>\n",
       "      <td>3.3</td>\n",
       "      <td>6.0</td>\n",
       "      <td>2.5</td>\n",
       "      <td>Iris-virginica</td>\n",
       "      <td>High</td>\n",
       "      <td>High</td>\n",
       "      <td>High</td>\n",
       "    </tr>\n",
       "    <tr>\n",
       "      <th>103</th>\n",
       "      <td>104</td>\n",
       "      <td>6.3</td>\n",
       "      <td>2.9</td>\n",
       "      <td>5.6</td>\n",
       "      <td>1.8</td>\n",
       "      <td>Iris-virginica</td>\n",
       "      <td>High</td>\n",
       "      <td>High</td>\n",
       "      <td>High</td>\n",
       "    </tr>\n",
       "    <tr>\n",
       "      <th>123</th>\n",
       "      <td>124</td>\n",
       "      <td>6.3</td>\n",
       "      <td>2.7</td>\n",
       "      <td>4.9</td>\n",
       "      <td>1.8</td>\n",
       "      <td>Iris-virginica</td>\n",
       "      <td>High</td>\n",
       "      <td>High</td>\n",
       "      <td>High</td>\n",
       "    </tr>\n",
       "    <tr>\n",
       "      <th>133</th>\n",
       "      <td>134</td>\n",
       "      <td>6.3</td>\n",
       "      <td>2.8</td>\n",
       "      <td>5.1</td>\n",
       "      <td>1.5</td>\n",
       "      <td>Iris-virginica</td>\n",
       "      <td>High</td>\n",
       "      <td>High</td>\n",
       "      <td>High</td>\n",
       "    </tr>\n",
       "    <tr>\n",
       "      <th>136</th>\n",
       "      <td>137</td>\n",
       "      <td>6.3</td>\n",
       "      <td>3.4</td>\n",
       "      <td>5.6</td>\n",
       "      <td>2.4</td>\n",
       "      <td>Iris-virginica</td>\n",
       "      <td>High</td>\n",
       "      <td>High</td>\n",
       "      <td>High</td>\n",
       "    </tr>\n",
       "    <tr>\n",
       "      <th>146</th>\n",
       "      <td>147</td>\n",
       "      <td>6.3</td>\n",
       "      <td>2.5</td>\n",
       "      <td>5.0</td>\n",
       "      <td>1.9</td>\n",
       "      <td>Iris-virginica</td>\n",
       "      <td>High</td>\n",
       "      <td>High</td>\n",
       "      <td>High</td>\n",
       "    </tr>\n",
       "    <tr>\n",
       "      <th>126</th>\n",
       "      <td>127</td>\n",
       "      <td>6.2</td>\n",
       "      <td>2.8</td>\n",
       "      <td>4.8</td>\n",
       "      <td>1.8</td>\n",
       "      <td>Iris-virginica</td>\n",
       "      <td>High</td>\n",
       "      <td>High</td>\n",
       "      <td>High</td>\n",
       "    </tr>\n",
       "    <tr>\n",
       "      <th>148</th>\n",
       "      <td>149</td>\n",
       "      <td>6.2</td>\n",
       "      <td>3.4</td>\n",
       "      <td>5.4</td>\n",
       "      <td>2.3</td>\n",
       "      <td>Iris-virginica</td>\n",
       "      <td>High</td>\n",
       "      <td>High</td>\n",
       "      <td>High</td>\n",
       "    </tr>\n",
       "    <tr>\n",
       "      <th>127</th>\n",
       "      <td>128</td>\n",
       "      <td>6.1</td>\n",
       "      <td>3.0</td>\n",
       "      <td>4.9</td>\n",
       "      <td>1.8</td>\n",
       "      <td>Iris-virginica</td>\n",
       "      <td>High</td>\n",
       "      <td>High</td>\n",
       "      <td>High</td>\n",
       "    </tr>\n",
       "    <tr>\n",
       "      <th>134</th>\n",
       "      <td>135</td>\n",
       "      <td>6.1</td>\n",
       "      <td>2.6</td>\n",
       "      <td>5.6</td>\n",
       "      <td>1.4</td>\n",
       "      <td>Iris-virginica</td>\n",
       "      <td>High</td>\n",
       "      <td>High</td>\n",
       "      <td>High</td>\n",
       "    </tr>\n",
       "    <tr>\n",
       "      <th>119</th>\n",
       "      <td>120</td>\n",
       "      <td>6.0</td>\n",
       "      <td>2.2</td>\n",
       "      <td>5.0</td>\n",
       "      <td>1.5</td>\n",
       "      <td>Iris-virginica</td>\n",
       "      <td>High</td>\n",
       "      <td>High</td>\n",
       "      <td>High</td>\n",
       "    </tr>\n",
       "    <tr>\n",
       "      <th>138</th>\n",
       "      <td>139</td>\n",
       "      <td>6.0</td>\n",
       "      <td>3.0</td>\n",
       "      <td>4.8</td>\n",
       "      <td>1.8</td>\n",
       "      <td>Iris-virginica</td>\n",
       "      <td>High</td>\n",
       "      <td>High</td>\n",
       "      <td>High</td>\n",
       "    </tr>\n",
       "    <tr>\n",
       "      <th>149</th>\n",
       "      <td>150</td>\n",
       "      <td>5.9</td>\n",
       "      <td>3.0</td>\n",
       "      <td>5.1</td>\n",
       "      <td>1.8</td>\n",
       "      <td>Iris-virginica</td>\n",
       "      <td>High</td>\n",
       "      <td>High</td>\n",
       "      <td>High</td>\n",
       "    </tr>\n",
       "    <tr>\n",
       "      <th>101</th>\n",
       "      <td>102</td>\n",
       "      <td>5.8</td>\n",
       "      <td>2.7</td>\n",
       "      <td>5.1</td>\n",
       "      <td>1.9</td>\n",
       "      <td>Iris-virginica</td>\n",
       "      <td>High</td>\n",
       "      <td>High</td>\n",
       "      <td>High</td>\n",
       "    </tr>\n",
       "    <tr>\n",
       "      <th>114</th>\n",
       "      <td>115</td>\n",
       "      <td>5.8</td>\n",
       "      <td>2.8</td>\n",
       "      <td>5.1</td>\n",
       "      <td>2.4</td>\n",
       "      <td>Iris-virginica</td>\n",
       "      <td>High</td>\n",
       "      <td>High</td>\n",
       "      <td>High</td>\n",
       "    </tr>\n",
       "    <tr>\n",
       "      <th>142</th>\n",
       "      <td>143</td>\n",
       "      <td>5.8</td>\n",
       "      <td>2.7</td>\n",
       "      <td>5.1</td>\n",
       "      <td>1.9</td>\n",
       "      <td>Iris-virginica</td>\n",
       "      <td>High</td>\n",
       "      <td>High</td>\n",
       "      <td>High</td>\n",
       "    </tr>\n",
       "    <tr>\n",
       "      <th>113</th>\n",
       "      <td>114</td>\n",
       "      <td>5.7</td>\n",
       "      <td>2.5</td>\n",
       "      <td>5.0</td>\n",
       "      <td>2.0</td>\n",
       "      <td>Iris-virginica</td>\n",
       "      <td>High</td>\n",
       "      <td>High</td>\n",
       "      <td>High</td>\n",
       "    </tr>\n",
       "    <tr>\n",
       "      <th>121</th>\n",
       "      <td>122</td>\n",
       "      <td>5.6</td>\n",
       "      <td>2.8</td>\n",
       "      <td>4.9</td>\n",
       "      <td>2.0</td>\n",
       "      <td>Iris-virginica</td>\n",
       "      <td>High</td>\n",
       "      <td>High</td>\n",
       "      <td>High</td>\n",
       "    </tr>\n",
       "    <tr>\n",
       "      <th>106</th>\n",
       "      <td>107</td>\n",
       "      <td>4.9</td>\n",
       "      <td>2.5</td>\n",
       "      <td>4.5</td>\n",
       "      <td>1.7</td>\n",
       "      <td>Iris-virginica</td>\n",
       "      <td>Low</td>\n",
       "      <td>Low</td>\n",
       "      <td>Low</td>\n",
       "    </tr>\n",
       "  </tbody>\n",
       "</table>\n",
       "<p>150 rows × 9 columns</p>\n",
       "</div>"
      ],
      "text/plain": [
       "      Id  SepalLengthCm  SepalWidthCm  PetalLengthCm  PetalWidthCm  \\\n",
       "14    15            5.8           4.0            1.2           0.2   \n",
       "15    16            5.7           4.4            1.5           0.4   \n",
       "18    19            5.7           3.8            1.7           0.3   \n",
       "33    34            5.5           4.2            1.4           0.2   \n",
       "36    37            5.5           3.5            1.3           0.2   \n",
       "5      6            5.4           3.9            1.7           0.4   \n",
       "10    11            5.4           3.7            1.5           0.2   \n",
       "16    17            5.4           3.9            1.3           0.4   \n",
       "20    21            5.4           3.4            1.7           0.2   \n",
       "31    32            5.4           3.4            1.5           0.4   \n",
       "48    49            5.3           3.7            1.5           0.2   \n",
       "27    28            5.2           3.5            1.5           0.2   \n",
       "28    29            5.2           3.4            1.4           0.2   \n",
       "32    33            5.2           4.1            1.5           0.1   \n",
       "0      1            5.1           3.5            1.4           0.2   \n",
       "17    18            5.1           3.5            1.4           0.3   \n",
       "19    20            5.1           3.8            1.5           0.3   \n",
       "21    22            5.1           3.7            1.5           0.4   \n",
       "23    24            5.1           3.3            1.7           0.5   \n",
       "39    40            5.1           3.4            1.5           0.2   \n",
       "44    45            5.1           3.8            1.9           0.4   \n",
       "46    47            5.1           3.8            1.6           0.2   \n",
       "4      5            5.0           3.6            1.4           0.2   \n",
       "7      8            5.0           3.4            1.5           0.2   \n",
       "25    26            5.0           3.0            1.6           0.2   \n",
       "26    27            5.0           3.4            1.6           0.4   \n",
       "35    36            5.0           3.2            1.2           0.2   \n",
       "40    41            5.0           3.5            1.3           0.3   \n",
       "43    44            5.0           3.5            1.6           0.6   \n",
       "49    50            5.0           3.3            1.4           0.2   \n",
       "..   ...            ...           ...            ...           ...   \n",
       "144  145            6.7           3.3            5.7           2.5   \n",
       "145  146            6.7           3.0            5.2           2.3   \n",
       "104  105            6.5           3.0            5.8           2.2   \n",
       "110  111            6.5           3.2            5.1           2.0   \n",
       "116  117            6.5           3.0            5.5           1.8   \n",
       "147  148            6.5           3.0            5.2           2.0   \n",
       "111  112            6.4           2.7            5.3           1.9   \n",
       "115  116            6.4           3.2            5.3           2.3   \n",
       "128  129            6.4           2.8            5.6           2.1   \n",
       "132  133            6.4           2.8            5.6           2.2   \n",
       "137  138            6.4           3.1            5.5           1.8   \n",
       "100  101            6.3           3.3            6.0           2.5   \n",
       "103  104            6.3           2.9            5.6           1.8   \n",
       "123  124            6.3           2.7            4.9           1.8   \n",
       "133  134            6.3           2.8            5.1           1.5   \n",
       "136  137            6.3           3.4            5.6           2.4   \n",
       "146  147            6.3           2.5            5.0           1.9   \n",
       "126  127            6.2           2.8            4.8           1.8   \n",
       "148  149            6.2           3.4            5.4           2.3   \n",
       "127  128            6.1           3.0            4.9           1.8   \n",
       "134  135            6.1           2.6            5.6           1.4   \n",
       "119  120            6.0           2.2            5.0           1.5   \n",
       "138  139            6.0           3.0            4.8           1.8   \n",
       "149  150            5.9           3.0            5.1           1.8   \n",
       "101  102            5.8           2.7            5.1           1.9   \n",
       "114  115            5.8           2.8            5.1           2.4   \n",
       "142  143            5.8           2.7            5.1           1.9   \n",
       "113  114            5.7           2.5            5.0           2.0   \n",
       "121  122            5.6           2.8            4.9           2.0   \n",
       "106  107            4.9           2.5            4.5           1.7   \n",
       "\n",
       "            Species SpealLength_Size SepalLength_Size SepalLength_Sizes  \n",
       "14      Iris-setosa             High             High              High  \n",
       "15      Iris-setosa             High             High              High  \n",
       "18      Iris-setosa             High             High              High  \n",
       "33      Iris-setosa             High             High              High  \n",
       "36      Iris-setosa             High             High              High  \n",
       "5       Iris-setosa             High             High              High  \n",
       "10      Iris-setosa             High             High              High  \n",
       "16      Iris-setosa             High             High              High  \n",
       "20      Iris-setosa             High             High              High  \n",
       "31      Iris-setosa             High             High              High  \n",
       "48      Iris-setosa             High             High              High  \n",
       "27      Iris-setosa             High             High              High  \n",
       "28      Iris-setosa             High             High              High  \n",
       "32      Iris-setosa             High             High              High  \n",
       "0       Iris-setosa             High             High              High  \n",
       "17      Iris-setosa             High             High              High  \n",
       "19      Iris-setosa             High             High              High  \n",
       "21      Iris-setosa             High             High              High  \n",
       "23      Iris-setosa             High             High              High  \n",
       "39      Iris-setosa             High             High              High  \n",
       "44      Iris-setosa             High             High              High  \n",
       "46      Iris-setosa             High             High              High  \n",
       "4       Iris-setosa             High             High              High  \n",
       "7       Iris-setosa             High             High              High  \n",
       "25      Iris-setosa             High             High              High  \n",
       "26      Iris-setosa             High             High              High  \n",
       "35      Iris-setosa             High             High              High  \n",
       "40      Iris-setosa             High             High              High  \n",
       "43      Iris-setosa             High             High              High  \n",
       "49      Iris-setosa             High             High              High  \n",
       "..              ...              ...              ...               ...  \n",
       "144  Iris-virginica             High             High              High  \n",
       "145  Iris-virginica             High             High              High  \n",
       "104  Iris-virginica             High             High              High  \n",
       "110  Iris-virginica             High             High              High  \n",
       "116  Iris-virginica             High             High              High  \n",
       "147  Iris-virginica             High             High              High  \n",
       "111  Iris-virginica             High             High              High  \n",
       "115  Iris-virginica             High             High              High  \n",
       "128  Iris-virginica             High             High              High  \n",
       "132  Iris-virginica             High             High              High  \n",
       "137  Iris-virginica             High             High              High  \n",
       "100  Iris-virginica             High             High              High  \n",
       "103  Iris-virginica             High             High              High  \n",
       "123  Iris-virginica             High             High              High  \n",
       "133  Iris-virginica             High             High              High  \n",
       "136  Iris-virginica             High             High              High  \n",
       "146  Iris-virginica             High             High              High  \n",
       "126  Iris-virginica             High             High              High  \n",
       "148  Iris-virginica             High             High              High  \n",
       "127  Iris-virginica             High             High              High  \n",
       "134  Iris-virginica             High             High              High  \n",
       "119  Iris-virginica             High             High              High  \n",
       "138  Iris-virginica             High             High              High  \n",
       "149  Iris-virginica             High             High              High  \n",
       "101  Iris-virginica             High             High              High  \n",
       "114  Iris-virginica             High             High              High  \n",
       "142  Iris-virginica             High             High              High  \n",
       "113  Iris-virginica             High             High              High  \n",
       "121  Iris-virginica             High             High              High  \n",
       "106  Iris-virginica              Low              Low               Low  \n",
       "\n",
       "[150 rows x 9 columns]"
      ]
     },
     "execution_count": 125,
     "metadata": {},
     "output_type": "execute_result"
    }
   ],
   "source": [
    "#sort data by 'Species' first (in ascending order), than 'SepalLengthCm'(in descending order)\n",
    "a.sort_values(['Species', 'SepalLengthCm'], ascending = [True, False])"
   ]
  },
  {
   "cell_type": "code",
   "execution_count": null,
   "metadata": {},
   "outputs": [],
   "source": [
    "#check row data types\n",
    "iris.dtypes"
   ]
  },
  {
   "cell_type": "markdown",
   "metadata": {},
   "source": [
    "**Binning numerical columns**"
   ]
  },
  {
   "cell_type": "code",
   "execution_count": 129,
   "metadata": {},
   "outputs": [
    {
     "data": {
      "text/html": [
       "<div>\n",
       "<style scoped>\n",
       "    .dataframe tbody tr th:only-of-type {\n",
       "        vertical-align: middle;\n",
       "    }\n",
       "\n",
       "    .dataframe tbody tr th {\n",
       "        vertical-align: top;\n",
       "    }\n",
       "\n",
       "    .dataframe thead th {\n",
       "        text-align: right;\n",
       "    }\n",
       "</style>\n",
       "<table border=\"1\" class=\"dataframe\">\n",
       "  <thead>\n",
       "    <tr style=\"text-align: right;\">\n",
       "      <th></th>\n",
       "      <th>Id</th>\n",
       "      <th>SepalLengthCm</th>\n",
       "      <th>SepalWidthCm</th>\n",
       "      <th>PetalLengthCm</th>\n",
       "      <th>PetalWidthCm</th>\n",
       "      <th>Species</th>\n",
       "      <th>SpealLength_Size</th>\n",
       "      <th>SepalLength_Size</th>\n",
       "      <th>SepalLength_Sizes</th>\n",
       "      <th>SepalLength_Size_L</th>\n",
       "      <th>bins</th>\n",
       "    </tr>\n",
       "  </thead>\n",
       "  <tbody>\n",
       "    <tr>\n",
       "      <th>0</th>\n",
       "      <td>1</td>\n",
       "      <td>5.1</td>\n",
       "      <td>3.5</td>\n",
       "      <td>1.4</td>\n",
       "      <td>0.2</td>\n",
       "      <td>Iris-setosa</td>\n",
       "      <td>High</td>\n",
       "      <td>High</td>\n",
       "      <td>High</td>\n",
       "      <td>High</td>\n",
       "      <td>(5, 6]</td>\n",
       "    </tr>\n",
       "    <tr>\n",
       "      <th>1</th>\n",
       "      <td>2</td>\n",
       "      <td>4.9</td>\n",
       "      <td>3.0</td>\n",
       "      <td>1.4</td>\n",
       "      <td>0.2</td>\n",
       "      <td>Iris-setosa</td>\n",
       "      <td>Low</td>\n",
       "      <td>Low</td>\n",
       "      <td>Low</td>\n",
       "      <td>Low</td>\n",
       "      <td>(4, 5]</td>\n",
       "    </tr>\n",
       "    <tr>\n",
       "      <th>2</th>\n",
       "      <td>3</td>\n",
       "      <td>4.7</td>\n",
       "      <td>3.2</td>\n",
       "      <td>1.3</td>\n",
       "      <td>0.2</td>\n",
       "      <td>Iris-setosa</td>\n",
       "      <td>Low</td>\n",
       "      <td>Low</td>\n",
       "      <td>Low</td>\n",
       "      <td>Low</td>\n",
       "      <td>(4, 5]</td>\n",
       "    </tr>\n",
       "    <tr>\n",
       "      <th>3</th>\n",
       "      <td>4</td>\n",
       "      <td>4.6</td>\n",
       "      <td>3.1</td>\n",
       "      <td>1.5</td>\n",
       "      <td>0.2</td>\n",
       "      <td>Iris-setosa</td>\n",
       "      <td>Low</td>\n",
       "      <td>Low</td>\n",
       "      <td>Low</td>\n",
       "      <td>Low</td>\n",
       "      <td>(4, 5]</td>\n",
       "    </tr>\n",
       "    <tr>\n",
       "      <th>4</th>\n",
       "      <td>5</td>\n",
       "      <td>5.0</td>\n",
       "      <td>3.6</td>\n",
       "      <td>1.4</td>\n",
       "      <td>0.2</td>\n",
       "      <td>Iris-setosa</td>\n",
       "      <td>High</td>\n",
       "      <td>High</td>\n",
       "      <td>High</td>\n",
       "      <td>High</td>\n",
       "      <td>(4, 5]</td>\n",
       "    </tr>\n",
       "  </tbody>\n",
       "</table>\n",
       "</div>"
      ],
      "text/plain": [
       "   Id  SepalLengthCm  SepalWidthCm  PetalLengthCm  PetalWidthCm      Species  \\\n",
       "0   1            5.1           3.5            1.4           0.2  Iris-setosa   \n",
       "1   2            4.9           3.0            1.4           0.2  Iris-setosa   \n",
       "2   3            4.7           3.2            1.3           0.2  Iris-setosa   \n",
       "3   4            4.6           3.1            1.5           0.2  Iris-setosa   \n",
       "4   5            5.0           3.6            1.4           0.2  Iris-setosa   \n",
       "\n",
       "  SpealLength_Size SepalLength_Size SepalLength_Sizes SepalLength_Size_L  \\\n",
       "0             High             High              High               High   \n",
       "1              Low              Low               Low                Low   \n",
       "2              Low              Low               Low                Low   \n",
       "3              Low              Low               Low                Low   \n",
       "4             High             High              High               High   \n",
       "\n",
       "     bins  \n",
       "0  (5, 6]  \n",
       "1  (4, 5]  \n",
       "2  (4, 5]  \n",
       "3  (4, 5]  \n",
       "4  (4, 5]  "
      ]
     },
     "execution_count": 129,
     "metadata": {},
     "output_type": "execute_result"
    }
   ],
   "source": [
    "bins = [0,1,2,3,4,5,6,7]\n",
    "iris['bins'] = pd.cut(iris['SepalLengthCm'], bins)\n",
    "iris.head()"
   ]
  },
  {
   "cell_type": "code",
   "execution_count": 132,
   "metadata": {},
   "outputs": [
    {
     "data": {
      "text/plain": [
       "(5, 6]    57\n",
       "(6, 7]    49\n",
       "(4, 5]    32\n",
       "(3, 4]     0\n",
       "(2, 3]     0\n",
       "(1, 2]     0\n",
       "(0, 1]     0\n",
       "Name: bins, dtype: int64"
      ]
     },
     "execution_count": 132,
     "metadata": {},
     "output_type": "execute_result"
    }
   ],
   "source": [
    "#count how many rows fall under each bucket using 'value_counts' function\n",
    "iris['bins'].value_counts()"
   ]
  },
  {
   "cell_type": "code",
   "execution_count": null,
   "metadata": {},
   "outputs": [],
   "source": []
  }
 ],
 "metadata": {
  "colab": {
   "name": "PythonBasics.ipynb",
   "provenance": [],
   "version": "0.3.2"
  },
  "kernelspec": {
   "display_name": "Python 3",
   "language": "python",
   "name": "python3"
  },
  "language_info": {
   "codemirror_mode": {
    "name": "ipython",
    "version": 3
   },
   "file_extension": ".py",
   "mimetype": "text/x-python",
   "name": "python",
   "nbconvert_exporter": "python",
   "pygments_lexer": "ipython3",
   "version": "3.7.1"
  }
 },
 "nbformat": 4,
 "nbformat_minor": 1
}
